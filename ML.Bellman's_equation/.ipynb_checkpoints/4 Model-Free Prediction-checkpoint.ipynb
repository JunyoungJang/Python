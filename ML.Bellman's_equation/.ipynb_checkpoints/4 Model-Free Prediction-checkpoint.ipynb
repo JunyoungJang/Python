{
 "cells": [
  {
   "cell_type": "markdown",
   "metadata": {
    "collapsed": true
   },
   "source": [
    "<img src=\"img/First-Visit Monte-Carlo Policy Evaluation.png\"/>\n",
    "\n",
    "<img src=\"img/Every-Visit Monte-Carlo Policy Evaluation.png\"/>\n",
    "\n",
    "<img src=\"img/Incremental Mean.png\"/>\n",
    "\n",
    "<img src=\"img/Incremental Monte-Carlo Updates.png\"/>"
   ]
  },
  {
   "cell_type": "markdown",
   "metadata": {
    "collapsed": true
   },
   "source": [
    "<img src=\"img/MC and TD.png\"/>\n",
    "\n",
    "<img src=\"img/Bias/Variance Trade-Off.png\"/>\n",
    "\n",
    "<img src=\"img/AB Example.png\"/>\n",
    "\n",
    "<img src=\"img/AB Example 2.png\"/>\n",
    "\n",
    "<img src=\"img/Certainty Equivalence.png\"/>"
   ]
  },
  {
   "cell_type": "markdown",
   "metadata": {},
   "source": [
    "<img src=\"n-Step Prediction.png\"/>\n",
    "\n",
    "<img src=\"img/n-Step Return.png\"/>\n",
    "\n",
    "<img src=\"img/Large Random Walk Example.png\"/>\n",
    "\n",
    "<img src=\"img/Averaging n-Step Returns.png\"/>\n",
    "\n",
    "<img src=\"img/λ-return.png\"/>\n",
    "\n",
    "<img src=\"img/Forward-view TD(λ).png\"/>\n",
    "\n",
    "<img src=\"img/Forward-View TD(λ) on Large Random Walk.png\"/>\n",
    "\n",
    "<img src=\"img/Eligibility Traces.png\"/>\n",
    "\n",
    "<img src=\"img/Backward View TD(λ).png\"/>"
   ]
  },
  {
   "cell_type": "code",
   "execution_count": null,
   "metadata": {
    "collapsed": true
   },
   "outputs": [],
   "source": []
  }
 ],
 "metadata": {
  "celltoolbar": "Slideshow",
  "kernelspec": {
   "display_name": "Python 3",
   "language": "python",
   "name": "python3"
  },
  "language_info": {
   "codemirror_mode": {
    "name": "ipython",
    "version": 3
   },
   "file_extension": ".py",
   "mimetype": "text/x-python",
   "name": "python",
   "nbconvert_exporter": "python",
   "pygments_lexer": "ipython3",
   "version": "3.6.0"
  }
 },
 "nbformat": 4,
 "nbformat_minor": 2
}
