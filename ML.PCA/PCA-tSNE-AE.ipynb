{
 "cells": [
  {
   "cell_type": "markdown",
   "metadata": {},
   "source": [
    "This is the notebook for the \"Reducing Dimensionality from Dimensionality Reduction Techniques\" Medium post:\n",
    "https://medium.com/@eliorcohen/reducing-dimensionality-from-dimensionality-reduction-techniques-f658aec24dfe"
   ]
  },
  {
   "cell_type": "markdown",
   "metadata": {},
   "source": [
    "# CODE"
   ]
  },
  {
   "cell_type": "markdown",
   "metadata": {},
   "source": [
    "First lets import all the necessary libraries"
   ]
  },
  {
   "cell_type": "code",
   "execution_count": 1,
   "metadata": {
    "collapsed": true
   },
   "outputs": [],
   "source": [
    "%matplotlib notebook\n",
    "\n",
    "import tensorflow as tf\n",
    "import math\n",
    "from sklearn import datasets\n",
    "from sklearn.manifold import TSNE\n",
    "import numpy as np\n",
    "import matplotlib.pyplot as plt\n",
    "from matplotlib import cm\n",
    "from mpl_toolkits.mplot3d import Axes3D\n",
    "import seaborn as sns"
   ]
  },
  {
   "cell_type": "markdown",
   "metadata": {},
   "source": [
    "Loading the iris dataset "
   ]
  },
  {
   "cell_type": "code",
   "execution_count": 2,
   "metadata": {
    "collapsed": true
   },
   "outputs": [],
   "source": [
    "iris_dataset = datasets.load_iris()"
   ]
  },
  {
   "cell_type": "markdown",
   "metadata": {},
   "source": [
    "# PCA"
   ]
  },
  {
   "cell_type": "code",
   "execution_count": 3,
   "metadata": {
    "collapsed": true
   },
   "outputs": [],
   "source": [
    "class TF_PCA:\n",
    "\n",
    "    def __init__(self, data, target=None, dtype=tf.float32):\n",
    "        self.data = data\n",
    "        self.target = target\n",
    "        self.dtype = dtype\n",
    "\n",
    "        self.graph = None\n",
    "        self.X = None\n",
    "        self.u = None\n",
    "        self.singular_values = None\n",
    "        self.sigma = None\n",
    "\n",
    "    def fit(self):\n",
    "        self.graph = tf.Graph()\n",
    "        with self.graph.as_default():\n",
    "            self.X = tf.placeholder(self.dtype, shape=self.data.shape)\n",
    "\n",
    "            # Perform SVD\n",
    "            singular_values, u, _ = tf.svd(self.X)\n",
    "\n",
    "            # Create sigma matrix\n",
    "            sigma = tf.diag(singular_values)\n",
    "\n",
    "        with tf.Session(graph=self.graph) as session:\n",
    "            self.u, self.singular_values, self.sigma = session.run([u, singular_values, sigma],\n",
    "                                                                   feed_dict={self.X: self.data})\n",
    "\n",
    "    def reduce(self, n_dimensions=None, keep_info=None):\n",
    "        if keep_info:\n",
    "            # Normalize singular values\n",
    "            normalized_singular_values = self.singular_values / sum(self.singular_values)\n",
    "\n",
    "            # Create the aggregated ladder of kept information per dimension\n",
    "            ladder = np.cumsum(normalized_singular_values)\n",
    "\n",
    "            # Get the first index which is above the given information threshold\n",
    "            index = next(idx for idx, value in enumerate(ladder) if value >= keep_info) + 1\n",
    "            n_dimensions = index\n",
    "\n",
    "        with self.graph.as_default():\n",
    "            # Cut out the relevant part from sigma\n",
    "            sigma = tf.slice(self.sigma, [0, 0], [self.data.shape[1], n_dimensions])\n",
    "\n",
    "            # PCA\n",
    "            pca = tf.matmul(self.u, sigma)\n",
    "\n",
    "        with tf.Session(graph=self.graph) as session:\n",
    "            return session.run(pca, feed_dict={self.X: self.data})"
   ]
  },
  {
   "cell_type": "markdown",
   "metadata": {},
   "source": [
    "Performing PCA with 90% information threshold and plotting results on the iris dataset"
   ]
  },
  {
   "cell_type": "code",
   "execution_count": 7,
   "metadata": {},
   "outputs": [
    {
     "data": {
      "text/plain": [
       "<IPython.core.display.Javascript object>"
      ]
     },
     "execution_count": 0,
     "metadata": {},
     "output_type": "execute_result"
    },
    {
     "data": {
      "text/html": [
       "<div id='d00f7dcd-f8a3-41dd-ad21-348929a5015e'></div>"
      ],
      "text/plain": [
       "<div id='d00f7dcd-f8a3-41dd-ad21-348929a5015e'></div>"
      ]
     },
     "execution_count": 0,
     "metadata": {},
     "output_type": "execute_result"
    },
    {
     "data": {
      "text/plain": [
       "<matplotlib.collections.PathCollection at 0x11e23c588>"
      ]
     },
     "execution_count": 7,
     "metadata": {},
     "output_type": "execute_result"
    }
   ],
   "source": [
    "tf_pca = TF_PCA(iris_dataset.data, iris_dataset.target)\n",
    "tf_pca.fit()\n",
    "pca = tf_pca.reduce(keep_info=0.9)  # Results in two dimensions\n",
    "\n",
    "color_mapping = {0: sns.xkcd_rgb['bright purple'], 1: sns.xkcd_rgb['lime'], 2: sns.xkcd_rgb['ochre']}\n",
    "colors = list(map(lambda x: color_mapping[x], iris_dataset.target))\n",
    "\n",
    "plt.scatter(pca[:, 0], pca[:, 1], c=colors)"
   ]
  },
  {
   "cell_type": "markdown",
   "metadata": {},
   "source": [
    "# TSNE "
   ]
  },
  {
   "cell_type": "code",
   "execution_count": 6,
   "metadata": {},
   "outputs": [
    {
     "ename": "ValueError",
     "evalue": "array must not contain infs or NaNs",
     "traceback": [
      "\u001b[0;31m---------------------------------------------------------------------------\u001b[0m",
      "\u001b[0;31mValueError\u001b[0m                                Traceback (most recent call last)",
      "\u001b[0;32m<ipython-input-6-46c8fc006d62>\u001b[0m in \u001b[0;36m<module>\u001b[0;34m()\u001b[0m\n\u001b[1;32m      2\u001b[0m \u001b[0;34m\u001b[0m\u001b[0m\n\u001b[1;32m      3\u001b[0m \u001b[0mmodel\u001b[0m \u001b[0;34m=\u001b[0m \u001b[0mTSNE\u001b[0m\u001b[0;34m(\u001b[0m\u001b[0mlearning_rate\u001b[0m\u001b[0;34m=\u001b[0m\u001b[0;36m100\u001b[0m\u001b[0;34m,\u001b[0m \u001b[0mn_components\u001b[0m\u001b[0;34m=\u001b[0m\u001b[0;36m2\u001b[0m\u001b[0;34m,\u001b[0m \u001b[0mrandom_state\u001b[0m\u001b[0;34m=\u001b[0m\u001b[0;36m0\u001b[0m\u001b[0;34m,\u001b[0m \u001b[0mperplexity\u001b[0m\u001b[0;34m=\u001b[0m\u001b[0;36m5\u001b[0m\u001b[0;34m)\u001b[0m\u001b[0;34m\u001b[0m\u001b[0m\n\u001b[0;32m----> 4\u001b[0;31m \u001b[0mtsne5\u001b[0m \u001b[0;34m=\u001b[0m \u001b[0mmodel\u001b[0m\u001b[0;34m.\u001b[0m\u001b[0mfit_transform\u001b[0m\u001b[0;34m(\u001b[0m\u001b[0miris_dataset\u001b[0m\u001b[0;34m.\u001b[0m\u001b[0mdata\u001b[0m\u001b[0;34m)\u001b[0m\u001b[0;34m\u001b[0m\u001b[0m\n\u001b[0m\u001b[1;32m      5\u001b[0m \u001b[0;34m\u001b[0m\u001b[0m\n\u001b[1;32m      6\u001b[0m \u001b[0mmodel\u001b[0m \u001b[0;34m=\u001b[0m \u001b[0mTSNE\u001b[0m\u001b[0;34m(\u001b[0m\u001b[0mlearning_rate\u001b[0m\u001b[0;34m=\u001b[0m\u001b[0;36m100\u001b[0m\u001b[0;34m,\u001b[0m \u001b[0mn_components\u001b[0m\u001b[0;34m=\u001b[0m\u001b[0;36m2\u001b[0m\u001b[0;34m,\u001b[0m \u001b[0mrandom_state\u001b[0m\u001b[0;34m=\u001b[0m\u001b[0;36m0\u001b[0m\u001b[0;34m,\u001b[0m \u001b[0mperplexity\u001b[0m\u001b[0;34m=\u001b[0m\u001b[0;36m30\u001b[0m\u001b[0;34m)\u001b[0m\u001b[0;34m\u001b[0m\u001b[0m\n",
      "\u001b[0;32m/Users/junyoungjang/anaconda/lib/python3.6/site-packages/sklearn/manifold/t_sne.py\u001b[0m in \u001b[0;36mfit_transform\u001b[0;34m(self, X, y)\u001b[0m\n\u001b[1;32m    882\u001b[0m             \u001b[0mEmbedding\u001b[0m \u001b[0mof\u001b[0m \u001b[0mthe\u001b[0m \u001b[0mtraining\u001b[0m \u001b[0mdata\u001b[0m \u001b[0;32min\u001b[0m \u001b[0mlow\u001b[0m\u001b[0;34m-\u001b[0m\u001b[0mdimensional\u001b[0m \u001b[0mspace\u001b[0m\u001b[0;34m.\u001b[0m\u001b[0;34m\u001b[0m\u001b[0m\n\u001b[1;32m    883\u001b[0m         \"\"\"\n\u001b[0;32m--> 884\u001b[0;31m         \u001b[0membedding\u001b[0m \u001b[0;34m=\u001b[0m \u001b[0mself\u001b[0m\u001b[0;34m.\u001b[0m\u001b[0m_fit\u001b[0m\u001b[0;34m(\u001b[0m\u001b[0mX\u001b[0m\u001b[0;34m)\u001b[0m\u001b[0;34m\u001b[0m\u001b[0m\n\u001b[0m\u001b[1;32m    885\u001b[0m         \u001b[0mself\u001b[0m\u001b[0;34m.\u001b[0m\u001b[0membedding_\u001b[0m \u001b[0;34m=\u001b[0m \u001b[0membedding\u001b[0m\u001b[0;34m\u001b[0m\u001b[0m\n\u001b[1;32m    886\u001b[0m         \u001b[0;32mreturn\u001b[0m \u001b[0mself\u001b[0m\u001b[0;34m.\u001b[0m\u001b[0membedding_\u001b[0m\u001b[0;34m\u001b[0m\u001b[0m\n",
      "\u001b[0;32m/Users/junyoungjang/anaconda/lib/python3.6/site-packages/sklearn/manifold/t_sne.py\u001b[0m in \u001b[0;36m_fit\u001b[0;34m(self, X, skip_num_points)\u001b[0m\n\u001b[1;32m    787\u001b[0m                           \u001b[0mX_embedded\u001b[0m\u001b[0;34m=\u001b[0m\u001b[0mX_embedded\u001b[0m\u001b[0;34m,\u001b[0m\u001b[0;34m\u001b[0m\u001b[0m\n\u001b[1;32m    788\u001b[0m                           \u001b[0mneighbors\u001b[0m\u001b[0;34m=\u001b[0m\u001b[0mneighbors_nn\u001b[0m\u001b[0;34m,\u001b[0m\u001b[0;34m\u001b[0m\u001b[0m\n\u001b[0;32m--> 789\u001b[0;31m                           skip_num_points=skip_num_points)\n\u001b[0m\u001b[1;32m    790\u001b[0m \u001b[0;34m\u001b[0m\u001b[0m\n\u001b[1;32m    791\u001b[0m     def _tsne(self, P, degrees_of_freedom, n_samples, random_state,\n",
      "\u001b[0;32m/Users/junyoungjang/anaconda/lib/python3.6/site-packages/sklearn/manifold/t_sne.py\u001b[0m in \u001b[0;36m_tsne\u001b[0;34m(self, P, degrees_of_freedom, n_samples, random_state, X_embedded, neighbors, skip_num_points)\u001b[0m\n\u001b[1;32m    856\u001b[0m         \u001b[0mopt_args\u001b[0m\u001b[0;34m[\u001b[0m\u001b[0;34m'n_iter'\u001b[0m\u001b[0;34m]\u001b[0m \u001b[0;34m=\u001b[0m \u001b[0mself\u001b[0m\u001b[0;34m.\u001b[0m\u001b[0mn_iter\u001b[0m\u001b[0;34m\u001b[0m\u001b[0m\n\u001b[1;32m    857\u001b[0m         \u001b[0mopt_args\u001b[0m\u001b[0;34m[\u001b[0m\u001b[0;34m'it'\u001b[0m\u001b[0;34m]\u001b[0m \u001b[0;34m=\u001b[0m \u001b[0mit\u001b[0m \u001b[0;34m+\u001b[0m \u001b[0;36m1\u001b[0m\u001b[0;34m\u001b[0m\u001b[0m\n\u001b[0;32m--> 858\u001b[0;31m         \u001b[0mparams\u001b[0m\u001b[0;34m,\u001b[0m \u001b[0merror\u001b[0m\u001b[0;34m,\u001b[0m \u001b[0mit\u001b[0m \u001b[0;34m=\u001b[0m \u001b[0m_gradient_descent\u001b[0m\u001b[0;34m(\u001b[0m\u001b[0mobj_func\u001b[0m\u001b[0;34m,\u001b[0m \u001b[0mparams\u001b[0m\u001b[0;34m,\u001b[0m \u001b[0;34m**\u001b[0m\u001b[0mopt_args\u001b[0m\u001b[0;34m)\u001b[0m\u001b[0;34m\u001b[0m\u001b[0m\n\u001b[0m\u001b[1;32m    859\u001b[0m \u001b[0;34m\u001b[0m\u001b[0m\n\u001b[1;32m    860\u001b[0m         \u001b[0;32mif\u001b[0m \u001b[0mself\u001b[0m\u001b[0;34m.\u001b[0m\u001b[0mverbose\u001b[0m\u001b[0;34m:\u001b[0m\u001b[0;34m\u001b[0m\u001b[0m\n",
      "\u001b[0;32m/Users/junyoungjang/anaconda/lib/python3.6/site-packages/sklearn/manifold/t_sne.py\u001b[0m in \u001b[0;36m_gradient_descent\u001b[0;34m(objective, p0, it, n_iter, objective_error, n_iter_check, n_iter_without_progress, momentum, learning_rate, min_gain, min_grad_norm, min_error_diff, verbose, args, kwargs)\u001b[0m\n\u001b[1;32m    386\u001b[0m     \u001b[0;32mfor\u001b[0m \u001b[0mi\u001b[0m \u001b[0;32min\u001b[0m \u001b[0mrange\u001b[0m\u001b[0;34m(\u001b[0m\u001b[0mit\u001b[0m\u001b[0;34m,\u001b[0m \u001b[0mn_iter\u001b[0m\u001b[0;34m)\u001b[0m\u001b[0;34m:\u001b[0m\u001b[0;34m\u001b[0m\u001b[0m\n\u001b[1;32m    387\u001b[0m         \u001b[0mnew_error\u001b[0m\u001b[0;34m,\u001b[0m \u001b[0mgrad\u001b[0m \u001b[0;34m=\u001b[0m \u001b[0mobjective\u001b[0m\u001b[0;34m(\u001b[0m\u001b[0mp\u001b[0m\u001b[0;34m,\u001b[0m \u001b[0;34m*\u001b[0m\u001b[0margs\u001b[0m\u001b[0;34m,\u001b[0m \u001b[0;34m**\u001b[0m\u001b[0mkwargs\u001b[0m\u001b[0;34m)\u001b[0m\u001b[0;34m\u001b[0m\u001b[0m\n\u001b[0;32m--> 388\u001b[0;31m         \u001b[0mgrad_norm\u001b[0m \u001b[0;34m=\u001b[0m \u001b[0mlinalg\u001b[0m\u001b[0;34m.\u001b[0m\u001b[0mnorm\u001b[0m\u001b[0;34m(\u001b[0m\u001b[0mgrad\u001b[0m\u001b[0;34m)\u001b[0m\u001b[0;34m\u001b[0m\u001b[0m\n\u001b[0m\u001b[1;32m    389\u001b[0m \u001b[0;34m\u001b[0m\u001b[0m\n\u001b[1;32m    390\u001b[0m         \u001b[0minc\u001b[0m \u001b[0;34m=\u001b[0m \u001b[0mupdate\u001b[0m \u001b[0;34m*\u001b[0m \u001b[0mgrad\u001b[0m \u001b[0;34m>=\u001b[0m \u001b[0;36m0.0\u001b[0m\u001b[0;34m\u001b[0m\u001b[0m\n",
      "\u001b[0;32m/Users/junyoungjang/anaconda/lib/python3.6/site-packages/scipy/linalg/misc.py\u001b[0m in \u001b[0;36mnorm\u001b[0;34m(a, ord, axis, keepdims)\u001b[0m\n\u001b[1;32m    127\u001b[0m     \"\"\"\n\u001b[1;32m    128\u001b[0m     \u001b[0;31m# Differs from numpy only in non-finite handling and the use of blas.\u001b[0m\u001b[0;34m\u001b[0m\u001b[0;34m\u001b[0m\u001b[0m\n\u001b[0;32m--> 129\u001b[0;31m     \u001b[0ma\u001b[0m \u001b[0;34m=\u001b[0m \u001b[0mnp\u001b[0m\u001b[0;34m.\u001b[0m\u001b[0masarray_chkfinite\u001b[0m\u001b[0;34m(\u001b[0m\u001b[0ma\u001b[0m\u001b[0;34m)\u001b[0m\u001b[0;34m\u001b[0m\u001b[0m\n\u001b[0m\u001b[1;32m    130\u001b[0m \u001b[0;34m\u001b[0m\u001b[0m\n\u001b[1;32m    131\u001b[0m     \u001b[0;31m# Only use optimized norms if axis and keepdims are not specified.\u001b[0m\u001b[0;34m\u001b[0m\u001b[0;34m\u001b[0m\u001b[0m\n",
      "\u001b[0;32m/Users/junyoungjang/anaconda/lib/python3.6/site-packages/numpy/lib/function_base.py\u001b[0m in \u001b[0;36masarray_chkfinite\u001b[0;34m(a, dtype, order)\u001b[0m\n\u001b[1;32m   1213\u001b[0m     \u001b[0;32mif\u001b[0m \u001b[0ma\u001b[0m\u001b[0;34m.\u001b[0m\u001b[0mdtype\u001b[0m\u001b[0;34m.\u001b[0m\u001b[0mchar\u001b[0m \u001b[0;32min\u001b[0m \u001b[0mtypecodes\u001b[0m\u001b[0;34m[\u001b[0m\u001b[0;34m'AllFloat'\u001b[0m\u001b[0;34m]\u001b[0m \u001b[0;32mand\u001b[0m \u001b[0;32mnot\u001b[0m \u001b[0mnp\u001b[0m\u001b[0;34m.\u001b[0m\u001b[0misfinite\u001b[0m\u001b[0;34m(\u001b[0m\u001b[0ma\u001b[0m\u001b[0;34m)\u001b[0m\u001b[0;34m.\u001b[0m\u001b[0mall\u001b[0m\u001b[0;34m(\u001b[0m\u001b[0;34m)\u001b[0m\u001b[0;34m:\u001b[0m\u001b[0;34m\u001b[0m\u001b[0m\n\u001b[1;32m   1214\u001b[0m         raise ValueError(\n\u001b[0;32m-> 1215\u001b[0;31m             \"array must not contain infs or NaNs\")\n\u001b[0m\u001b[1;32m   1216\u001b[0m     \u001b[0;32mreturn\u001b[0m \u001b[0ma\u001b[0m\u001b[0;34m\u001b[0m\u001b[0m\n\u001b[1;32m   1217\u001b[0m \u001b[0;34m\u001b[0m\u001b[0m\n",
      "\u001b[0;31mValueError\u001b[0m: array must not contain infs or NaNs"
     ],
     "output_type": "error"
    }
   ],
   "source": [
    "plt.close()\n",
    "\n",
    "model = TSNE(learning_rate=100, n_components=2, random_state=0, perplexity=5)\n",
    "tsne5 = model.fit_transform(iris_dataset.data)\n",
    "\n",
    "model = TSNE(learning_rate=100, n_components=2, random_state=0, perplexity=30)\n",
    "tsne30 = model.fit_transform(iris_dataset.data)\n",
    "\n",
    "model = TSNE(learning_rate=100, n_components=2, random_state=0, perplexity=50)\n",
    "tsne50 = model.fit_transform(iris_dataset.data)\n",
    "\n",
    "plt.figure(1)\n",
    "plt.subplot(311)\n",
    "plt.scatter(tsne5[:, 0], tsne5[:, 1], c=colors)\n",
    "\n",
    "plt.subplot(312)\n",
    "plt.scatter(tsne30[:, 0], tsne30[:, 1], c=colors)\n",
    "\n",
    "plt.subplot(313)\n",
    "plt.scatter(tsne50[:, 0], tsne50[:, 1], c=colors)\n",
    "\n",
    "plt.show()"
   ]
  },
  {
   "cell_type": "markdown",
   "metadata": {},
   "source": [
    "# Auto Encoder"
   ]
  },
  {
   "cell_type": "code",
   "execution_count": 25,
   "metadata": {
    "collapsed": true
   },
   "outputs": [],
   "source": [
    "plt.close()\n",
    "\n",
    "def batch_generator(features, batch_size=50, n_epochs=1000):\n",
    "    \"\"\"\n",
    "    Batch generator for the iris dataset\n",
    "    \"\"\"\n",
    "\n",
    "    # Generate batches\n",
    "    for epoch in range(n_epochs):\n",
    "        start_index = 0\n",
    "        while start_index != -1:\n",
    "            # Calculate the end index of the batch to generate\n",
    "            end_index = start_index + batch_size if start_index + batch_size < n else -1\n",
    "\n",
    "            yield features[start_index:end_index]\n",
    "\n",
    "            start_index = end_index\n",
    "\n",
    "\n",
    "# Auto Encoder\n",
    "class TF_AutoEncoder:\n",
    "    def __init__(self, features, labels, dtype=tf.float32):\n",
    "        self.features = features\n",
    "        self.labels = labels\n",
    "        self.dtype = dtype\n",
    "\n",
    "        self.encoder = dict()\n",
    "\n",
    "    def fit(self, n_dimensions):\n",
    "        graph = tf.Graph()\n",
    "        with graph.as_default():\n",
    "\n",
    "            # Input variable\n",
    "            X = tf.placeholder(self.dtype, shape=(None, self.features.shape[1]))\n",
    "\n",
    "            # Network variables\n",
    "            encoder_weights = tf.Variable(tf.random_normal(shape=(self.features.shape[1], n_dimensions)))\n",
    "            encoder_bias = tf.Variable(tf.zeros(shape=[n_dimensions]))\n",
    "\n",
    "            decoder_weights = tf.Variable(tf.random_normal(shape=(n_dimensions, self.features.shape[1])))\n",
    "            decoder_bias = tf.Variable(tf.zeros(shape=[self.features.shape[1]]))\n",
    "\n",
    "            # Encoder part\n",
    "            encoding = tf.nn.sigmoid(tf.add(tf.matmul(X, encoder_weights), encoder_bias))\n",
    "\n",
    "            # Decoder part\n",
    "            predicted_x = tf.nn.sigmoid(tf.add(tf.matmul(encoding, decoder_weights), decoder_bias))\n",
    "\n",
    "            # Define the cost function and optimizer to minimize squared error\n",
    "            cost = tf.reduce_mean(tf.pow(tf.subtract(predicted_x, X), 2))\n",
    "            optimizer = tf.train.AdamOptimizer().minimize(cost)\n",
    "\n",
    "        with tf.Session(graph=graph) as session:\n",
    "            # Initialize global variables\n",
    "            session.run(tf.global_variables_initializer())\n",
    "\n",
    "            for batch_x in batch_generator(self.features):\n",
    "                self.encoder['weights'], self.encoder['bias'], _ = session.run([encoder_weights, encoder_bias, optimizer],\n",
    "                                                                            feed_dict={X: batch_x})\n",
    "\n",
    "    def reduce(self):\n",
    "        return np.add(np.matmul(self.features, self.encoder['weights']), self.encoder['bias'])"
   ]
  },
  {
   "cell_type": "markdown",
   "metadata": {},
   "source": [
    "Applying the auto encoder on the iris dataset and plotting it"
   ]
  },
  {
   "cell_type": "code",
   "execution_count": 26,
   "metadata": {},
   "outputs": [
    {
     "data": {
      "text/plain": [
       "<IPython.core.display.Javascript object>"
      ]
     },
     "metadata": {},
     "output_type": "display_data"
    },
    {
     "data": {
      "text/html": [
       "<img src=\"data:image/png;base64,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\" width=\"640\">"
      ],
      "text/plain": [
       "<IPython.core.display.HTML object>"
      ]
     },
     "metadata": {},
     "output_type": "execute_result"
    },
    {
     "data": {
      "text/plain": [
       "<matplotlib.collections.PathCollection at 0x7fb3954aa5c0>"
      ]
     },
     "execution_count": 26,
     "metadata": {},
     "output_type": "execute_result"
    }
   ],
   "source": [
    "# Mix the data before training\n",
    "n = len(iris_dataset.data)\n",
    "random_idx = np.random.permutation(n)\n",
    "features, labels = iris_dataset.data[random_idx], iris_dataset.target[random_idx]\n",
    "\n",
    "# Create an instance and encode\n",
    "tf_ae = TF_AutoEncoder(features, labels)\n",
    "\n",
    "tf_ae.fit(n_dimensions=2)\n",
    "\n",
    "auto_encoded = tf_ae.reduce()\n",
    "\n",
    "colors = list(map(lambda x: color_mapping[x], labels))\n",
    "\n",
    "plt.scatter(auto_encoded[:, 0], auto_encoded[:, 1], c=colors)"
   ]
  },
  {
   "cell_type": "code",
   "execution_count": null,
   "metadata": {
    "collapsed": true
   },
   "outputs": [],
   "source": [
    ""
   ]
  }
 ],
 "metadata": {
  "kernelspec": {
   "display_name": "Python 3",
   "language": "python",
   "name": "python3"
  },
  "language_info": {
   "codemirror_mode": {
    "name": "ipython",
    "version": 3.0
   },
   "file_extension": ".py",
   "mimetype": "text/x-python",
   "name": "python",
   "nbconvert_exporter": "python",
   "pygments_lexer": "ipython3",
   "version": "3.5.3"
  }
 },
 "nbformat": 4,
 "nbformat_minor": 0
}