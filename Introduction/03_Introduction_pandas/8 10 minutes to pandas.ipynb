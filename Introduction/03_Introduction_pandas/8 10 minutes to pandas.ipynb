{
 "cells": [
  {
   "cell_type": "code",
   "execution_count": 18,
   "metadata": {
    "collapsed": true
   },
   "outputs": [],
   "source": [
    "# http://pandas.pydata.org/pandas-docs/stable/10min.html\n",
    "# 10 Minutes to pandas\n",
    "\n",
    "import pandas as pd\n",
    "import numpy as np\n",
    "import matplotlib.pyplot as plt"
   ]
  },
  {
   "cell_type": "code",
   "execution_count": 6,
   "metadata": {
    "collapsed": false
   },
   "outputs": [
    {
     "name": "stdout",
     "output_type": "stream",
     "text": [
      "          0         1         2         3\n",
      "0 -0.046218 -0.677690  1.135689  1.458826\n",
      "1 -1.224052 -2.041536  0.555840  0.312520\n",
      "2  0.545891  0.600603 -1.886585 -1.008612\n",
      "3  0.502461  0.318426 -0.234763  0.002133\n",
      "4  1.065868 -0.242478 -1.352965  1.241279\n",
      "5  1.378239  1.134261 -0.053488 -0.001827\n",
      "DatetimeIndex(['2013-01-01', '2013-01-02', '2013-01-03', '2013-01-04',\n",
      "               '2013-01-05', '2013-01-06'],\n",
      "              dtype='datetime64[ns]', freq='D')\n",
      "                   A         B         C         D\n",
      "2013-01-01 -1.034413  0.126352  0.324959  1.123856\n",
      "2013-01-02  1.276539 -0.112687  0.555770  1.024946\n",
      "2013-01-03  0.810289  0.992803 -2.100683  0.186527\n",
      "2013-01-04 -0.358859 -0.715238  2.106966  0.612007\n",
      "2013-01-05  1.431282  0.516486 -0.371610  0.023063\n",
      "2013-01-06 -0.143407 -1.199188 -0.331064  0.729527\n"
     ]
    }
   ],
   "source": [
    "# Object Creation\n",
    "\n",
    "# Creating a Series \n",
    "s = pd.Series([1,3,5,np.nan,6,8])\n",
    "print s\n",
    "\n",
    "# Creating a DataFrame \n",
    "df = pd.DataFrame(np.random.randn(6,4))\n",
    "print df\n",
    "\n",
    "# Creating a DataFrame \n",
    "dates = pd.date_range('20130101', periods=6)\n",
    "print dates\n",
    "df = pd.DataFrame(np.random.randn(6,4), index=dates, columns=list('ABCD'))\n",
    "print df\n",
    "\n",
    "# Creating a DataFrame \n",
    "df2 = pd.DataFrame({'A' : 1.,\n",
    "                    'B' : pd.Timestamp('20130102'),\n",
    "                    'C' : pd.Series(1,index=list(range(4)),dtype='float32'),\n",
    "                    'D' : np.array([3] * 4,dtype='int32'),\n",
    "                    'E' : pd.Categorical([\"test\",\"train\",\"test\",\"train\"]),\n",
    "                    'F' : 'foo'})\n",
    "print df2\n",
    "print df2.dtypes"
   ]
  },
  {
   "cell_type": "code",
   "execution_count": 8,
   "metadata": {
    "collapsed": false
   },
   "outputs": [
    {
     "name": "stdout",
     "output_type": "stream",
     "text": [
      "                   A         B         C         D\n",
      "2013-01-01 -1.034413  0.126352  0.324959  1.123856\n",
      "2013-01-02  1.276539 -0.112687  0.555770  1.024946\n",
      "2013-01-03  0.810289  0.992803 -2.100683  0.186527\n",
      "2013-01-04 -0.358859 -0.715238  2.106966  0.612007\n",
      "2013-01-05  1.431282  0.516486 -0.371610  0.023063\n",
      "2013-01-06 -0.143407 -1.199188 -0.331064  0.729527\n",
      "                   A         B         C         D\n",
      "2013-01-01 -1.034413  0.126352  0.324959  1.123856\n",
      "2013-01-02  1.276539 -0.112687  0.555770  1.024946\n",
      "2013-01-03  0.810289  0.992803 -2.100683  0.186527\n",
      "2013-01-04 -0.358859 -0.715238  2.106966  0.612007\n",
      "2013-01-05  1.431282  0.516486 -0.371610  0.023063\n",
      "                   A         B         C         D\n",
      "2013-01-04 -0.358859 -0.715238  2.106966  0.612007\n",
      "2013-01-05  1.431282  0.516486 -0.371610  0.023063\n",
      "2013-01-06 -0.143407 -1.199188 -0.331064  0.729527\n"
     ]
    }
   ],
   "source": [
    "# Viewing Data\n",
    "\n",
    "print df\n",
    "print df.head() b# See the top rows of the frame\n",
    "print df.tail(3) # See the bottom rows of the frame\n",
    "\n",
    "print df.index\n",
    "print df.columns\n",
    "print df.values\n",
    "\n",
    "print df.describe() # Describe shows a quick statistic summary of your data\n",
    "\n",
    "print df.T # Transposing your data\n",
    "\n",
    "print df.sort_index(axis=1, ascending=False) # Sorting by an axis\n",
    "print df.sort_values(by='B')                 # Sorting by values"
   ]
  },
  {
   "cell_type": "code",
   "execution_count": 61,
   "metadata": {
    "collapsed": false
   },
   "outputs": [
    {
     "name": "stdout",
     "output_type": "stream",
     "text": [
      "                   A         B         C         D\n",
      "2013-01-01 -1.289598  0.377631  0.197155  0.020276\n",
      "2013-01-02  0.943616  0.393789  0.140182 -0.877186\n",
      "2013-01-03  0.241525 -0.524710 -1.116984  0.064964\n",
      "2013-01-04 -0.578713 -1.920264  1.123327 -0.424080\n",
      "2013-01-05 -0.493910  1.745392  0.201937 -0.326539\n",
      "2013-01-06  1.430664 -2.054650 -2.158841  1.826033\n",
      "A   -1.289598\n",
      "B    0.377631\n",
      "C    0.197155\n",
      "D    0.020276\n",
      "Name: 2013-01-01 00:00:00, dtype: float64\n"
     ]
    }
   ],
   "source": [
    "# Selection by Label\n",
    "\n",
    "print df\n",
    "print df.loc[dates[0]]\n",
    "print df.loc[:,['A','B']]\n",
    "print df.loc['20130102':'20130104',['A','B']]\n",
    "print df.loc['20130102',['A','B']]\n",
    "print df.loc[dates[0],'A']"
   ]
  },
  {
   "cell_type": "code",
   "execution_count": 17,
   "metadata": {
    "collapsed": false
   },
   "outputs": [
    {
     "name": "stdout",
     "output_type": "stream",
     "text": [
      "                   A         B         C         D\n",
      "2013-01-01 -1.034413  0.126352  0.324959  1.123856\n",
      "2013-01-02  1.276539 -0.112687  0.555770  1.024946\n",
      "2013-01-03  0.810289  0.992803 -2.100683  0.186527\n",
      "2013-01-04 -0.358859 -0.715238  2.106966  0.612007\n",
      "2013-01-05  1.431282  0.516486 -0.371610  0.023063\n",
      "2013-01-06 -0.143407 -1.199188 -0.331064  0.729527\n",
      "-0.112686997391\n",
      "                   A         B\n",
      "2013-01-04 -0.358859 -0.715238\n",
      "2013-01-05  1.431282  0.516486\n",
      "A   -0.358859\n",
      "B   -0.715238\n",
      "C    2.106966\n",
      "D    0.612007\n",
      "Name: 2013-01-04 00:00:00, dtype: float64\n",
      "                   A         B         C         D\n",
      "2013-01-02  1.276539 -0.112687  0.555770  1.024946\n",
      "2013-01-03  0.810289  0.992803 -2.100683  0.186527\n",
      "                   B         C\n",
      "2013-01-01  0.126352  0.324959\n",
      "2013-01-02 -0.112687  0.555770\n",
      "2013-01-03  0.992803 -2.100683\n",
      "2013-01-04 -0.715238  2.106966\n",
      "2013-01-05  0.516486 -0.371610\n",
      "2013-01-06 -1.199188 -0.331064\n",
      "                   A         C\n",
      "2013-01-02  1.276539  0.555770\n",
      "2013-01-03  0.810289 -2.100683\n",
      "2013-01-05  1.431282 -0.371610\n"
     ]
    }
   ],
   "source": [
    "# Selection by Position\n",
    "\n",
    "print df\n",
    "print df.iloc[1,1]\n",
    "print df.iloc[3:5,0:2]\n",
    "print df.iloc[3,:]\n",
    "print df.iloc[1:3,:]\n",
    "print df.iloc[:,1:3]\n",
    "print df.iloc[[1,2,4],[0,2]]"
   ]
  },
  {
   "cell_type": "code",
   "execution_count": 74,
   "metadata": {
    "collapsed": false
   },
   "outputs": [
    {
     "name": "stdout",
     "output_type": "stream",
     "text": [
      "                   A         B         C         D\n",
      "2013-01-01 -1.289598  0.377631  0.197155  0.020276\n",
      "2013-01-02  0.943616  0.393789  0.140182 -0.877186\n",
      "2013-01-03  0.241525 -0.524710 -1.116984  0.064964\n",
      "2013-01-04 -0.578713 -1.920264  1.123327 -0.424080\n",
      "2013-01-05 -0.493910  1.745392  0.201937 -0.326539\n",
      "2013-01-06  1.430664 -2.054650 -2.158841  1.826033\n",
      "                   A         B         C         D\n",
      "2013-01-02  0.943616  0.393789  0.140182 -0.877186\n",
      "2013-01-03  0.241525 -0.524710 -1.116984  0.064964\n",
      "2013-01-06  1.430664 -2.054650 -2.158841  1.826033\n"
     ]
    }
   ],
   "source": [
    "# Selection by Boolean Indexing\n",
    "\n",
    "print df\n",
    "print df[df > 0]\n",
    "print df[df.A > 0]\n",
    "\n",
    "df2 = df.copy()\n",
    "df2['E'] = ['one', 'one','two','three','four','three']\n",
    "print df2\n",
    "print df2[df2['E'].isin(['two','four'])]"
   ]
  },
  {
   "cell_type": "code",
   "execution_count": 24,
   "metadata": {
    "collapsed": false
   },
   "outputs": [
    {
     "name": "stdout",
     "output_type": "stream",
     "text": [
      "2013-01-02    1\n",
      "2013-01-03    2\n",
      "2013-01-04    3\n",
      "2013-01-05    4\n",
      "2013-01-06    5\n",
      "2013-01-07    6\n",
      "Freq: D, dtype: int64\n",
      "                   A         B         C         D\n",
      "2013-01-01  0.000000  0.000000  0.324959  1.123856\n",
      "2013-01-02  1.276539 -0.112687  0.555770  1.024946\n",
      "2013-01-03  0.810289  0.992803 -2.100683  0.186527\n",
      "2013-01-04 -0.358859 -0.715238  2.106966  0.612007\n",
      "2013-01-05  1.431282  0.516486 -0.371610  0.023063\n",
      "2013-01-06 -0.143407 -1.199188 -0.331064  0.729527\n",
      "                   A         B         C         D    F\n",
      "2013-01-01  0.000000  0.000000  0.324959  1.123856  NaN\n",
      "2013-01-02  1.276539 -0.112687  0.555770  1.024946  1.0\n",
      "2013-01-03  0.810289  0.992803 -2.100683  0.186527  2.0\n",
      "2013-01-04 -0.358859 -0.715238  2.106966  0.612007  3.0\n",
      "2013-01-05  1.431282  0.516486 -0.371610  0.023063  4.0\n",
      "2013-01-06 -0.143407 -1.199188 -0.331064  0.729527  5.0\n",
      "                   A         B         C         D    F\n",
      "2013-01-01  0.000000  0.000000  0.324959  1.123856  NaN\n",
      "2013-01-02  1.276539 -0.112687  0.555770  1.024946  1.0\n",
      "2013-01-03  0.810289  0.992803 -2.100683  0.186527  2.0\n",
      "2013-01-04 -0.358859 -0.715238  2.106966  0.612007  3.0\n",
      "2013-01-05  1.431282  0.516486 -0.371610  0.023063  4.0\n",
      "2013-01-06 -0.143407 -1.199188 -0.331064  0.729527  5.0\n",
      "                   A         B         C         D    F\n",
      "2013-01-01  0.000000  0.000000  0.324959  1.123856  NaN\n",
      "2013-01-02  1.276539 -0.112687  0.555770  1.024946  1.0\n",
      "2013-01-03  0.810289  0.992803 -2.100683  0.186527  2.0\n",
      "2013-01-04 -0.358859 -0.715238  2.106966  0.612007  3.0\n",
      "2013-01-05  1.431282  0.516486 -0.371610  0.023063  4.0\n",
      "2013-01-06 -0.143407 -1.199188 -0.331064  0.729527  5.0\n"
     ]
    }
   ],
   "source": [
    "# Setting\n",
    "# Setting a new column automatically aligns the data by the indexes\n",
    "\n",
    "s1 = pd.Series([1,2,3,4,5,6], index=pd.date_range('20130102', periods=6))\n",
    "print s1\n",
    "print df\n",
    "df['F'] = s1\n",
    "print df\n",
    "\n",
    "df.loc[dates[0],'A'] = 0\n",
    "print df\n",
    "\n",
    "df.iloc[0,1] = 0\n",
    "print df\n",
    "\n",
    "df.loc[:,'D'] = np.array([5] * len(df))\n",
    "print df\n",
    "\n",
    "df2 = df.copy()\n",
    "df2[df2 > 0] = -df2\n",
    "print df2"
   ]
  },
  {
   "cell_type": "code",
   "execution_count": 82,
   "metadata": {
    "collapsed": false
   },
   "outputs": [
    {
     "name": "stdout",
     "output_type": "stream",
     "text": [
      "                   A         B         C  D    F\n",
      "2013-01-01  0.000000  0.000000  0.197155  5  NaN\n",
      "2013-01-02  0.943616  0.393789  0.140182  5  1.0\n",
      "2013-01-03  0.241525 -0.524710 -1.116984  5  2.0\n",
      "2013-01-04 -0.578713 -1.920264  1.123327  5  3.0\n",
      "2013-01-05 -0.493910  1.745392  0.201937  5  4.0\n",
      "2013-01-06  1.430664 -2.054650 -2.158841  5  5.0\n",
      "                   A         B         C  D    F    E\n",
      "2013-01-01  0.000000  0.000000  0.197155  5  NaN  1.0\n",
      "2013-01-02  0.943616  0.393789  0.140182  5  1.0  1.0\n",
      "2013-01-03  0.241525 -0.524710 -1.116984  5  2.0  NaN\n",
      "2013-01-04 -0.578713 -1.920264  1.123327  5  3.0  NaN\n"
     ]
    }
   ],
   "source": [
    "# Missing Data\n",
    "# Reindexing allows you to change/add/delete the index on a specified axis. This returns a copy of the data.\n",
    "\n",
    "df1 = df.reindex(index=dates[0:4], columns=list(df.columns) + ['E'])\n",
    "df1.loc[dates[0]:dates[1],'E'] = 1\n",
    "print df\n",
    "print df1\n",
    "\n",
    "print df1.dropna(how='any') # To drop any rows that have missing data.\n",
    "\n",
    "print df1.fillna(value=5) # Filling missing data\n",
    "\n",
    "print pd.isnull(df1) # To get the boolean mask where values are nan"
   ]
  },
  {
   "cell_type": "code",
   "execution_count": 25,
   "metadata": {
    "collapsed": false
   },
   "outputs": [
    {
     "name": "stdout",
     "output_type": "stream",
     "text": [
      "                   A         B         C         D    F\n",
      "2013-01-01  0.000000  0.000000  0.324959  1.123856  NaN\n",
      "2013-01-02  1.276539 -0.112687  0.555770  1.024946  1.0\n",
      "2013-01-03  0.810289  0.992803 -2.100683  0.186527  2.0\n",
      "2013-01-04 -0.358859 -0.715238  2.106966  0.612007  3.0\n",
      "2013-01-05  1.431282  0.516486 -0.371610  0.023063  4.0\n",
      "2013-01-06 -0.143407 -1.199188 -0.331064  0.729527  5.0\n",
      "A    0.502641\n",
      "B   -0.086304\n",
      "C    0.030723\n",
      "D    0.616654\n",
      "F    3.000000\n",
      "dtype: float64\n",
      "A    0.502641\n",
      "B   -0.086304\n",
      "C    0.030723\n",
      "D    0.616654\n",
      "F    3.000000\n",
      "dtype: float64\n",
      "2013-01-01    0.362204\n",
      "2013-01-02    0.748914\n",
      "2013-01-03    0.377787\n",
      "2013-01-04    0.928975\n",
      "2013-01-05    1.119844\n",
      "2013-01-06    0.811173\n",
      "Freq: D, dtype: float64\n"
     ]
    }
   ],
   "source": [
    "# Stats\n",
    "\n",
    "print df\n",
    "print df.mean(0)\n",
    "print df.mean(1)\n",
    "\n",
    "# Operating with objects that have different dimensionality and need alignment. In addition, pandas automatically broadcasts along the specified dimension.\n",
    "s = pd.Series([1,3,5,np.nan,6,8], index=dates).shift(2)\n",
    "print s\n",
    "print df\n",
    "print df.sub(s, axis='index')"
   ]
  },
  {
   "cell_type": "code",
   "execution_count": null,
   "metadata": {
    "collapsed": true
   },
   "outputs": [],
   "source": [
    "# Apply\n",
    "# Applying functions to the data\n",
    "\n",
    "print df\n",
    "print df.apply(np.cumsum)\n",
    "print df.apply(np.cumsum)\n",
    "print df.apply(lambda x: x.max() - x.min())"
   ]
  },
  {
   "cell_type": "code",
   "execution_count": 90,
   "metadata": {
    "collapsed": false
   },
   "outputs": [
    {
     "name": "stdout",
     "output_type": "stream",
     "text": [
      "0    5\n",
      "1    4\n",
      "2    5\n",
      "3    1\n",
      "4    0\n",
      "5    0\n",
      "6    3\n",
      "7    0\n",
      "8    2\n",
      "9    1\n",
      "dtype: int64\n",
      "0    3\n",
      "5    2\n",
      "1    2\n",
      "4    1\n",
      "3    1\n",
      "2    1\n",
      "dtype: int64\n"
     ]
    }
   ],
   "source": [
    "# Histogramming\n",
    "\n",
    "s = pd.Series(np.random.randint(0, 7, size=10))\n",
    "print s\n",
    "print s.value_counts()"
   ]
  },
  {
   "cell_type": "code",
   "execution_count": 91,
   "metadata": {
    "collapsed": false
   },
   "outputs": [
    {
     "data": {
      "text/plain": [
       "0       a\n",
       "1       b\n",
       "2       c\n",
       "3    aaba\n",
       "4    baca\n",
       "5     NaN\n",
       "6    caba\n",
       "7     dog\n",
       "8     cat\n",
       "dtype: object"
      ]
     },
     "execution_count": 91,
     "metadata": {},
     "output_type": "execute_result"
    }
   ],
   "source": [
    "# String Methods\n",
    "# Series is equipped with a set of string processing methods in the str attribute that make it easy to operate on each element of the array, as in the code snippet below. Note that pattern-matching in str generally uses regular expressions by default (and in some cases always uses them). See more at Vectorized String Methods.\n",
    "\n",
    "s = pd.Series(['A', 'B', 'C', 'Aaba', 'Baca', np.nan, 'CABA', 'dog', 'cat'])\n",
    "s.str.lower()"
   ]
  },
  {
   "cell_type": "code",
   "execution_count": 92,
   "metadata": {
    "collapsed": false
   },
   "outputs": [
    {
     "name": "stdout",
     "output_type": "stream",
     "text": [
      "          0         1         2         3\n",
      "0  0.047759  0.012816  0.414211 -0.380364\n",
      "1  0.355528  1.608671  0.849445 -0.201365\n",
      "2  0.280926  1.043653 -0.488866 -0.691700\n",
      "3 -1.947004 -0.864954 -0.628845 -1.505010\n",
      "4  1.233923  0.229560  0.387249 -0.242228\n",
      "5  0.606016  0.309647 -0.380382 -0.222547\n",
      "6  0.277163  0.648113 -0.712027 -0.508485\n",
      "7 -0.297490 -0.537927  0.704860 -0.478160\n",
      "8  0.339648  1.676360  0.675067 -0.543924\n",
      "9 -0.053398  0.724723  1.616027 -0.678729\n",
      "          0         1         2         3\n",
      "0  0.047759  0.012816  0.414211 -0.380364\n",
      "1  0.355528  1.608671  0.849445 -0.201365\n",
      "2  0.280926  1.043653 -0.488866 -0.691700\n",
      "3 -1.947004 -0.864954 -0.628845 -1.505010\n",
      "4  1.233923  0.229560  0.387249 -0.242228\n",
      "5  0.606016  0.309647 -0.380382 -0.222547\n",
      "6  0.277163  0.648113 -0.712027 -0.508485\n",
      "7 -0.297490 -0.537927  0.704860 -0.478160\n",
      "8  0.339648  1.676360  0.675067 -0.543924\n",
      "9 -0.053398  0.724723  1.616027 -0.678729\n"
     ]
    }
   ],
   "source": [
    "# Concat\n",
    "# Concatenating pandas objects together with concat():\n",
    "\n",
    "df = pd.DataFrame(np.random.randn(10, 4))\n",
    "print df\n",
    "\n",
    "pieces = [df[:3], df[3:7], df[7:]] # break it into pieces\n",
    "print pd.concat(pieces)"
   ]
  },
  {
   "cell_type": "code",
   "execution_count": 93,
   "metadata": {
    "collapsed": false
   },
   "outputs": [
    {
     "name": "stdout",
     "output_type": "stream",
     "text": [
      "   key  lval\n",
      "0  foo     1\n",
      "1  foo     2\n",
      "   key  rval\n",
      "0  foo     4\n",
      "1  foo     5\n",
      "   key  lval  rval\n",
      "0  foo     1     4\n",
      "1  foo     1     5\n",
      "2  foo     2     4\n",
      "3  foo     2     5\n"
     ]
    }
   ],
   "source": [
    "# Join\n",
    "# SQL style merges. See the Database style joining\n",
    "\n",
    "left = pd.DataFrame({'key': ['foo', 'foo'], 'lval': [1, 2]})\n",
    "right = pd.DataFrame({'key': ['foo', 'foo'], 'rval': [4, 5]})\n",
    "print left\n",
    "print right\n",
    "print pd.merge(left, right, on='key')\n",
    "\n",
    "left = pd.DataFrame({'key': ['foo', 'bar'], 'lval': [1, 2]})\n",
    "right = pd.DataFrame({'key': ['foo', 'bar'], 'rval': [4, 5]})\n",
    "print left\n",
    "print right\n",
    "print pd.merge(left, right, on='key')"
   ]
  },
  {
   "cell_type": "code",
   "execution_count": null,
   "metadata": {
    "collapsed": true
   },
   "outputs": [],
   "source": [
    "# Append\n",
    "# Append rows to a dataframe. See the Appending\n",
    "\n",
    "df = pd.DataFrame(np.random.randn(8, 4), columns=['A','B','C','D'])\n",
    "print df\n",
    "s = df.iloc[3]\n",
    "print df.append(s, ignore_index=True)"
   ]
  },
  {
   "cell_type": "code",
   "execution_count": null,
   "metadata": {
    "collapsed": true
   },
   "outputs": [],
   "source": [
    "# Grouping\n",
    "# Grouping and then applying a function sum to the resulting groups.\n",
    "\n",
    "df = pd.DataFrame({'A' : ['foo', 'bar', 'foo', 'bar', 'foo', 'bar', 'foo', 'foo'],\n",
    "                   'B' : ['one', 'one', 'two', 'three', 'two', 'two', 'one', 'three'],\n",
    "                   'C' : np.random.randn(8),\n",
    "                   'D' : np.random.randn(8)})\n",
    "print df\n",
    "print df.groupby('A').sum()\n",
    "print df.groupby(['A','B']).sum()"
   ]
  },
  {
   "cell_type": "code",
   "execution_count": null,
   "metadata": {
    "collapsed": true
   },
   "outputs": [],
   "source": [
    "# Stack\n",
    "\n",
    "tuples = list(zip(*[['bar', 'bar', 'baz', 'baz', 'foo', 'foo', 'qux', 'qux'],\n",
    "                    ['one', 'two', 'one', 'two', 'one', 'two', 'one', 'two']]))\n",
    "index = pd.MultiIndex.from_tuples(tuples, names=['first', 'second'])\n",
    "df = pd.DataFrame(np.random.randn(8, 2), index=index, columns=['A', 'B'])\n",
    "df2 = df[:4]\n",
    "print df\n",
    "print df2\n",
    "\n",
    "stacked = df2.stack()\n",
    "print stacked\n",
    "\n",
    "print stacked\n",
    "print stacked.unstack()\n",
    "print tacked.unstack(1)\n",
    "print stacked.unstack(0)"
   ]
  },
  {
   "cell_type": "code",
   "execution_count": null,
   "metadata": {
    "collapsed": true
   },
   "outputs": [],
   "source": [
    "# Pivot Tables\n",
    "\n",
    "df = pd.DataFrame({'A' : ['one', 'one', 'two', 'three'] * 3,\n",
    "                   'B' : ['A', 'B', 'C'] * 4,\n",
    "                   'C' : ['foo', 'foo', 'foo', 'bar', 'bar', 'bar'] * 2,\n",
    "                   'D' : np.random.randn(12),\n",
    "                   'E' : np.random.randn(12)})\n",
    "print df\n",
    "print pd.pivot_table(df, values='D', index=['A', 'B'], columns=['C'])"
   ]
  },
  {
   "cell_type": "code",
   "execution_count": null,
   "metadata": {
    "collapsed": true
   },
   "outputs": [],
   "source": [
    "# Time Series\n",
    "\n",
    "# pandas has simple, powerful, and efficient functionality for performing resampling operations during frequency conversion (e.g., converting secondly data into 5-minutely data). This is extremely common in, but not limited to, financial applications. See the Time Series section\n",
    "rng = pd.date_range('1/1/2012', periods=100, freq='S')\n",
    "ts = pd.Series(np.random.randint(0, 500, len(rng)), index=rng)\n",
    "ts.resample('5Min').sum()\n",
    "\n",
    "# Time zone representation\n",
    "rng = pd.date_range('3/6/2012 00:00', periods=5, freq='D')\n",
    "ts = pd.Series(np.random.randn(len(rng)), rng)\n",
    "ts_utc = ts.tz_localize('UTC')\n",
    "print ts\n",
    "print ts_utc\n",
    "\n",
    "# Convert to another time zone\n",
    "print ts_utc.tz_convert('US/Eastern')\n",
    "\n",
    "# Converting between time span representations\n",
    "rng = pd.date_range('1/1/2012', periods=5, freq='M')\n",
    "ts = pd.Series(np.random.randn(len(rng)), index=rng)\n",
    "print ts\n",
    "ps = ts.to_period()\n",
    "print ps\n",
    "print ps.to_timestamp()\n",
    "\n",
    "# Converting between period and timestamp enables some convenient arithmetic functions to be used. In the following example, we convert a quarterly frequency with year ending in November to 9am of the end of the month following the quarter end:\n",
    "prng = pd.period_range('1990Q1', '2000Q4', freq='Q-NOV')\n",
    "ts = pd.Series(np.random.randn(len(prng)), prng)\n",
    "ts.index = (prng.asfreq('M', 'e') + 1).asfreq('H', 's') + 9\n",
    "print ts.head()"
   ]
  },
  {
   "cell_type": "code",
   "execution_count": null,
   "metadata": {
    "collapsed": true
   },
   "outputs": [],
   "source": [
    "# Categoricals\n",
    "\n",
    "# Convert the raw grades to a categorical data type.\n",
    "df = pd.DataFrame({\"id\":[1,2,3,4,5,6], \"raw_grade\":['a', 'b', 'b', 'a', 'a', 'e']})\n",
    "df[\"grade\"] = df[\"raw_grade\"].astype(\"category\")\n",
    "print df[\"grade\"]\n",
    "\n",
    "# Rename the categories to more meaningful names (assigning to Series.cat.categories is inplace!)\n",
    "print df[\"grade\"].cat.categories = [\"very good\", \"good\", \"very bad\"]\n",
    "\n",
    "# Reorder the categories and simultaneously add the missing categories (methods under Series .cat return a new Series per default).\n",
    "df[\"grade\"] = df[\"grade\"].cat.set_categories([\"very bad\", \"bad\", \"medium\", \"good\", \"very good\"])\n",
    "print df[\"grade\"]\n",
    "\n",
    "# Sorting is per order in the categories, not lexical order.\n",
    "print df.sort_values(by=\"grade\")\n",
    "\n",
    "# Grouping by a categorical column shows also empty categories.\n",
    "print df.groupby(\"grade\").size()"
   ]
  },
  {
   "cell_type": "code",
   "execution_count": null,
   "metadata": {
    "collapsed": true
   },
   "outputs": [],
   "source": [
    "# Plotting\n",
    "\n",
    "ts = pd.Series(np.random.randn(1000), index=pd.date_range('1/1/2000', periods=1000))\n",
    "ts = ts.cumsum()\n",
    "ts.plot()\n",
    "\n",
    "# On DataFrame, plot() is a convenience to plot all of the columns with labels:\n",
    "df = pd.DataFrame(np.random.randn(1000, 4), index=ts.index, columns=['A', 'B', 'C', 'D'])\n",
    "df = df.cumsum()\n",
    "plt.figure(); df.plot(); plt.legend(loc='best')"
   ]
  },
  {
   "cell_type": "code",
   "execution_count": null,
   "metadata": {
    "collapsed": true
   },
   "outputs": [],
   "source": [
    "# Getting Data In/Out\n",
    "\n",
    "# CSV \n",
    "df.to_csv('foo.csv')   # Writing to a csv file\n",
    "pd.read_csv('foo.csv') # Reading from a csv file\n",
    "\n",
    "# HDF5\n",
    "df.to_hdf('foo.h5','df')   # Writing to a HDF5 Store\n",
    "pd.read_hdf('foo.h5','df') # Reading from a HDF5 Store\n",
    "\n",
    "# Excel\n",
    "df.to_excel('foo.xlsx', sheet_name='Sheet1')                          # Writing to an excel file\n",
    "pd.read_excel('foo.xlsx', 'Sheet1', index_col=None, na_values=['NA']) # Reading from an excel file"
   ]
  }
 ],
 "metadata": {
  "anaconda-cloud": {},
  "kernelspec": {
   "display_name": "Python [conda root]",
   "language": "python",
   "name": "conda-root-py"
  },
  "language_info": {
   "codemirror_mode": {
    "name": "ipython",
    "version": 2.0
   },
   "file_extension": ".py",
   "mimetype": "text/x-python",
   "name": "python",
   "nbconvert_exporter": "python",
   "pygments_lexer": "ipython2",
   "version": "2.7.12"
  }
 },
 "nbformat": 4,
 "nbformat_minor": 0
}