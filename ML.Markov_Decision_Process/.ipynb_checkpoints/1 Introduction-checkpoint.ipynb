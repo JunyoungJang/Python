{
 "cells": [
  {
   "cell_type": "markdown",
   "metadata": {},
   "source": [
    "<img src=\"img/Three learning problems.png\"/>\n",
    "\n",
    "# 강의\n",
    "\n",
    "Andrew Ng - CS229 \n",
    "\n",
    "Sung Kim - 모두를 위한 딥러닝 강좌 시즌 2\n",
    "\n",
    "David Silver - Reinforcement Learning \n",
    "\n",
    "John Schulman - CS294-112 2017 Deep Reinforcement Learning\n",
    "\n",
    "John Schulman - Deep Reinforcement Learning \n",
    "\n",
    "Lex Fridman - Deep Learning for Self-Driving Cars\n",
    "\n",
    "Deep Reinforcement Learning [Pieter Abbeel](https://www.youtube.com/watch?v=ID150Tl-MMw)\n",
    "\n",
    "A Tutorial on Reinforcement Learning by Emma Brunskill [1](https://www.youtube.com/watch?v=fIKkhoI1kF4) [2](https://www.youtube.com/watch?v=8hK0NnG_DhY)\n",
    "\n",
    "# Book\n",
    "\n",
    "Machine Learning, Tom Mitchell, 1997\n",
    "\n",
    "\n",
    "\n",
    "Algorithms for Reinforcement Learning [Szepesvari](https://sites.ualberta.ca/~szepesva/papers/RLAlgsInMDPs-lecture.pdf) [local-slide](http://localhost:8888/notebooks/Dropbox/Paper/Algorithms for Reinforcement Learning.pdf)\n",
    "\n",
    "Fundamental of Reinforcement Learning 이웅원 [ebook](https://www.gitbook.com/book/dnddnjs/rl/details) [code](https://github.com/rlcode/reinforcement-learning)\n",
    "\n",
    "Awesome Reinforcement Learning [Hyunsoo Kim, Jiwon Kim](http://aikorea.org/awesome-rl/)\n",
    "\n",
    "dennybritz/reinforcement-learning [code](https://github.com/dennybritz/reinforcement-learning)\n",
    "\n",
    "\n",
    "\n",
    "# Code\n",
    "\n",
    "[Simple Reinforcement Learning with TensorFlow](https://medium.com/emergent-future/)\n",
    "\n",
    "[Simple reinforcement learning methods to learn CartPole](http://kvfrans.com/simple-algoritms-for-solving-cartpole/)\n",
    "\n",
    "Deep Reinforcement Learning: Pong from Pixels [Andrej Karpathy](http://karpathy.github.io/2016/05/31/rl/)\n",
    "\n",
    "Reinforcement-learning [rlcode](https://github.com/dennybritz/reinforcement-learning)"
   ]
  },
  {
   "cell_type": "code",
   "execution_count": 1,
   "metadata": {
    "collapsed": false
   },
   "outputs": [
    {
     "data": {
      "text/plain": [
       "array([0, 3, 8, 2, 5, 7, 9, 6, 1, 4])"
      ]
     },
     "execution_count": 1,
     "metadata": {},
     "output_type": "execute_result"
    }
   ],
   "source": [
    "import numpy as np\n",
    "\n",
    "np.random.permutation(10)"
   ]
  },
  {
   "cell_type": "code",
   "execution_count": 33,
   "metadata": {
    "collapsed": false
   },
   "outputs": [
    {
     "name": "stdout",
     "output_type": "stream",
     "text": [
      "[ 1 18 13 15  2 23 24  6 14  8 22  0 21 10 20  5  4  9  3 19 12 11 16 25  7\n",
      " 17]\n",
      "(array([11]),)\n",
      "[ 1 18 13 15  2 23 24  6 14  8 22 21 10 20  5  4  9  3 19 12 11 16 25  7 17]\n"
     ]
    }
   ],
   "source": [
    "# random presenation order\n",
    "\n",
    "import numpy as np\n",
    "\n",
    "# size of your group\n",
    "n = 25\n",
    "\n",
    "# choose your random seed\n",
    "np.random.seed()\n",
    "\n",
    "# random permutation on {0,1,2,...,n}\n",
    "a = np.random.permutation(n+1)\n",
    "print(a)\n",
    "\n",
    "# find where is 0\n",
    "item_index = np.where(a==0)\n",
    "print(item_index)\n",
    "\n",
    "# random permutation on {1,2,...,n}\n",
    "a = np.delete(a, item_index, 0)\n",
    "print(a)"
   ]
  },
  {
   "cell_type": "code",
   "execution_count": 34,
   "metadata": {
    "collapsed": false
   },
   "outputs": [
    {
     "name": "stdout",
     "output_type": "stream",
     "text": [
      "[4 1 0 3 2]\n",
      "(array([2]),)\n",
      "[4 1 3 2]\n",
      "Dec 1, 2017: Group  D\n",
      "Dec 8, 2017: Group  A\n",
      "Dec 15, 2017: Group  C\n",
      "Dec 22, 2017: Group  B\n"
     ]
    }
   ],
   "source": [
    "# random presenation date\n",
    "# 1st presenation date - Dec  1, 2017\n",
    "# 2nd presenation date - Dec  8, 2017\n",
    "# 3rd presenation date - Dec 15, 2017\n",
    "# 4th presenation date - Dec 22, 2017\n",
    "\n",
    "import numpy as np\n",
    "\n",
    "# size of your group\n",
    "n = 4\n",
    "\n",
    "# choose your random seed\n",
    "np.random.seed()\n",
    "\n",
    "# random permutation on {0,1,2,...,n}\n",
    "a = np.random.permutation(n+1)\n",
    "print(a)\n",
    "\n",
    "# find where is 0\n",
    "item_index = np.where(a==0)\n",
    "print(item_index)\n",
    "\n",
    "# random permutation on {1,2,...,n}\n",
    "a = np.delete(a, item_index, 0)\n",
    "print(a)\n",
    "\n",
    "group = [\"A\", \"B\", \"C\", \"D\"]\n",
    "print(\"Dec 1, 2017: Group \", group[a[0]-1])\n",
    "print(\"Dec 8, 2017: Group \", group[a[1]-1])\n",
    "print(\"Dec 15, 2017: Group \", group[a[2]-1])\n",
    "print(\"Dec 22, 2017: Group \", group[a[3]-1])"
   ]
  },
  {
   "cell_type": "code",
   "execution_count": null,
   "metadata": {
    "collapsed": true
   },
   "outputs": [],
   "source": []
  },
  {
   "cell_type": "code",
   "execution_count": null,
   "metadata": {
    "collapsed": true
   },
   "outputs": [],
   "source": []
  }
 ],
 "metadata": {
  "celltoolbar": "Slideshow",
  "kernelspec": {
   "display_name": "Python 3",
   "language": "python",
   "name": "python3"
  },
  "language_info": {
   "codemirror_mode": {
    "name": "ipython",
    "version": 3
   },
   "file_extension": ".py",
   "mimetype": "text/x-python",
   "name": "python",
   "nbconvert_exporter": "python",
   "pygments_lexer": "ipython3",
   "version": "3.6.0"
  }
 },
 "nbformat": 4,
 "nbformat_minor": 2
}
