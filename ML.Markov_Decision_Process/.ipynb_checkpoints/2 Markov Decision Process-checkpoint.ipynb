{
 "cells": [
  {
   "cell_type": "markdown",
   "metadata": {
    "slideshow": {
     "slide_type": "slide"
    }
   },
   "source": [
    "\n",
    "\n",
    "# Markov Chain\n",
    " \n",
    "Sungchul Lee  "
   ]
  },
  {
   "cell_type": "markdown",
   "metadata": {
    "slideshow": {
     "slide_type": "subslide"
    }
   },
   "source": [
    "# How to run these slides yourself\n",
    "\n",
    "**Setup python environment**\n",
    "\n",
    "- Install RISE for an interactive presentation viewer"
   ]
  },
  {
   "cell_type": "code",
   "execution_count": 3,
   "metadata": {
    "collapsed": false,
    "slideshow": {
     "slide_type": "slide"
    }
   },
   "outputs": [
    {
     "name": "stdout",
     "output_type": "stream",
     "text": [
      "Current State: A\n",
      "State is now: B\n",
      "New State: C\n",
      "New State: A\n",
      "New State: C\n",
      "New State: A\n",
      "New State: C\n",
      "New State: B\n",
      "New State: C\n",
      "New State: A\n",
      "New State: B\n",
      "New State: C\n"
     ]
    }
   ],
   "source": [
    "# Markov Chain\n",
    "# http://charlesfranzen.com/posts/markov-chains-in-python/\n",
    "\n",
    "import numpy as np\n",
    "\n",
    "\n",
    "class Markov(object):\n",
    "\n",
    "    def __init__(self, state_dict):\n",
    "        self.state_dict = state_dict\n",
    "        self.state = list(self.state_dict.keys())[0]\n",
    "\n",
    "    def check_state(self):\n",
    "        print('Current State: %s' % (self.state))\n",
    "\n",
    "    def set_state(self, state):\n",
    "        self.state = state\n",
    "        print('State is now: %s' % (self.state))\n",
    "\n",
    "    def next_state(self):\n",
    "        A = self.state_dict[self.state]\n",
    "        self.state = np.random.choice(a=list(A[0]), p=list(A[1]))\n",
    "        print('New State: %s' % (self.state))\n",
    "\n",
    "        \n",
    "state_dict = {'A': np.array([['A', 'B', 'C'],\n",
    "                             [.2, .4, .4]]),\n",
    "              'B': np.array([['A', 'C'],\n",
    "                             [.4, .6]]),\n",
    "              'C': np.array([['A', 'B'],\n",
    "                             [.6, .4]])}\n",
    "\n",
    "diagram_a = Markov(state_dict)\n",
    "diagram_a.check_state()\n",
    "\n",
    "diagram_a.set_state('B')\n",
    "\n",
    "for _ in range(10):\n",
    "    diagram_a.next_state()"
   ]
  }
 ],
 "metadata": {
  "celltoolbar": "Slideshow",
  "kernelspec": {
   "display_name": "Python 3",
   "language": "python",
   "name": "python3"
  },
  "language_info": {
   "codemirror_mode": {
    "name": "ipython",
    "version": 3
   },
   "file_extension": ".py",
   "mimetype": "text/x-python",
   "name": "python",
   "nbconvert_exporter": "python",
   "pygments_lexer": "ipython3",
   "version": "3.6.0"
  }
 },
 "nbformat": 4,
 "nbformat_minor": 2
}
