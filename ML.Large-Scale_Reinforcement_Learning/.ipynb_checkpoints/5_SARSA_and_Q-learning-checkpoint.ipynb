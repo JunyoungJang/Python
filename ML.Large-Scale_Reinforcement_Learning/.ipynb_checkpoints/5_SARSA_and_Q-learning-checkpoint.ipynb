{
 "cells": [
  {
   "cell_type": "markdown",
   "metadata": {
    "collapsed": true,
    "slideshow": {
     "slide_type": "slide"
    }
   },
   "source": [
    "\n",
    "\n",
    "\n",
    "\n",
    "\n",
    "\n",
    "\n",
    "# SARSA and Q-learning\n",
    " \n",
    "Sungchul Lee  \n",
    "\n",
    "\n"
   ]
  },
  {
   "cell_type": "markdown",
   "metadata": {
    "slideshow": {
     "slide_type": "subslide"
    }
   },
   "source": [
    "# References\n",
    "\n",
    "- Reinforcement Learning: 4 Model-Free Prediction [David Silver](https://www.youtube.com/watch?v=PnHCvfgC_ZA&list=PL7-jPKtc4r78-wCZcQn5IqyuWhBZ8fOxT&index=4) [local-video](http://localhost:8888/notebooks/Dropbox/Video/RL Course by David Silver - Lecture 4_ Model-Free Prediction.mp4) [local-slide](http://localhost:8888/notebooks/Dropbox/Paper/Reinforcement Learning by David Silver 4.pdf) [slide](http://www0.cs.ucl.ac.uk/staff/d.silver/web/Teaching_files/MC-TD.pdf)\n",
    "\n",
    "- Reinforcement Learning: 5 Model Free Control [David Silver](https://www.youtube.com/watch?v=0g4j2k_Ggc4&index=5&list=PL7-jPKtc4r78-wCZcQn5IqyuWhBZ8fOxT) [local-slide](http://localhost:8888/notebooks/Dropbox/Paper/Reinforcement Learning by David Silver 5.pdf) [slide](http://www0.cs.ucl.ac.uk/staff/d.silver/web/Teaching_files/control.pdf)\n",
    "\n",
    "- Tutorial: Deep Reinforcement Learning, ICML 2016 [David Silver](http://icml.cc/2016/tutorials/deep_rl_tutorial.pdf) [local-slide](http://localhost:8888/notebooks/Dropbox/Paper/deep_rl_tutorial.pdf)\n",
    "\n",
    "- Machine Learning, part III: The Q-learning algorithm [JAKE BENNETT](https://articles.wearepop.com/secret-formula-for-self-learning-computers)\n",
    "\n",
    "- DQN [Lee Young Moo](http://www.phrgcm.com/blog/2016/08/17/deep-q-network/)\n",
    "\n",
    "- [Asynchronous Methods for Deep Reinforcement Learning](https://arxiv.org/pdf/1602.01783v2.pdf)\n",
    "\n"
   ]
  },
  {
   "cell_type": "markdown",
   "metadata": {
    "slideshow": {
     "slide_type": "subslide"
    }
   },
   "source": [
    "# How to run these slides yourself\n",
    "\n",
    "**Setup python environment**\n",
    "\n",
    "- Install RISE for an interactive presentation viewer"
   ]
  },
  {
   "cell_type": "markdown",
   "metadata": {
    "slideshow": {
     "slide_type": "slide"
    }
   },
   "source": [
    "# Model vs Model-free\n",
    "\n"
   ]
  },
  {
   "cell_type": "markdown",
   "metadata": {
    "slideshow": {
     "slide_type": "fragment"
    }
   },
   "source": [
    "$$\n",
    "\\begin{array}{llllll}\n",
    "\\mbox{Model}&\\quad\\Rightarrow\\quad&\\mbox{Model-free}\\\\\n",
    "\\mbox{Based on $P_{ss'}^a$}&\\quad\\Rightarrow\\quad&\\mbox{Based on Samples}\\\\\n",
    "V&\\quad\\Rightarrow\\quad&Q\\\\\n",
    "\\mbox{Greedy}&\\quad\\Rightarrow\\quad&\\mbox{$\\varepsilon$-Greedy}\\\\\n",
    "\\end{array}\n",
    "$$"
   ]
  },
  {
   "cell_type": "markdown",
   "metadata": {
    "slideshow": {
     "slide_type": "subslide"
    }
   },
   "source": [
    "# Model\n",
    "\n",
    "If we know $R_s^a$, $P_{ss'}^a$, and $V$, and if we are at state $s$, our next action is\n",
    "$$\n",
    "\\mbox{argmax}_a Q(s,a) \\quad =\\quad \\mbox{argmax}_a\\left(R_s^a + \\gamma * \\sum_{s'} P_{ss'}^a * V(s')\\right) \n",
    "$$"
   ]
  },
  {
   "cell_type": "markdown",
   "metadata": {
    "slideshow": {
     "slide_type": "fragment"
    }
   },
   "source": [
    "# Model-free\n",
    "\n",
    "- In reality, typically we don't know $P_{ss'}^a$.\n",
    "So, we cannot decide our next action based on $V$.\n",
    "That is why we use $Q$, not $V$.\n",
    "\n",
    "- If we update policy greedily, we may miss good regions in state space.\n",
    "We update policy $\\varepsilon$-greedily instead. "
   ]
  },
  {
   "cell_type": "markdown",
   "metadata": {
    "slideshow": {
     "slide_type": "slide"
    }
   },
   "source": [
    "# On and Off-Policy Learning\n",
    "\n"
   ]
  },
  {
   "cell_type": "markdown",
   "metadata": {
    "slideshow": {
     "slide_type": "fragment"
    }
   },
   "source": [
    "### On-policy learning\n",
    "\n",
    "- “Learn on the job”\n",
    "- Learn about policy $\\pi$ from experience sampled from $\\pi$\n"
   ]
  },
  {
   "cell_type": "markdown",
   "metadata": {
    "slideshow": {
     "slide_type": "fragment"
    }
   },
   "source": [
    "### Off-policy learning\n",
    "\n",
    "- “Look over someone’s shoulder”\n",
    "- Learn about policy $\\pi$ from experience sampled from $\\mu$"
   ]
  },
  {
   "cell_type": "markdown",
   "metadata": {
    "slideshow": {
     "slide_type": "subslide"
    }
   },
   "source": [
    "|Sample $V$|Sample $Q$|Sample $Q$ (off-policy)|\n",
    "|---|---|\n",
    "|MC|MC|\n",
    "|TD|SARSA|Q-learnig|\n",
    "|TD($\\lambda$)|SARSA($\\lambda$)|"
   ]
  },
  {
   "cell_type": "markdown",
   "metadata": {
    "slideshow": {
     "slide_type": "slide"
    }
   },
   "source": [
    "# SARSA \n",
    "\n",
    "\n",
    "\n"
   ]
  },
  {
   "cell_type": "markdown",
   "metadata": {
    "slideshow": {
     "slide_type": "fragment"
    }
   },
   "source": [
    "With $a_{t+1}$ from the data\n",
    "$$\n",
    "Q(s_t,a_t)\\quad\\leftarrow\\quad\n",
    "Q(s_t,a_t)+\\alpha(\\color{red}{r_{t+1}+\\gamma Q(s_{t+1},a_{t+1})}-Q(s_t,a_t))\n",
    "$$"
   ]
  },
  {
   "cell_type": "markdown",
   "metadata": {
    "slideshow": {
     "slide_type": "fragment"
    }
   },
   "source": [
    "\n",
    "\n",
    "\n",
    "<img src=\"img/RZBt6.png\"/>\n",
    "\n",
    "https://i.stack.imgur.com/RZBt6.png"
   ]
  },
  {
   "cell_type": "code",
   "execution_count": null,
   "metadata": {
    "collapsed": true,
    "slideshow": {
     "slide_type": "subslide"
    }
   },
   "outputs": [],
   "source": [
    "# state\n",
    "states = [0,1,2,3,4,5,6,7,8,9,10]\n",
    "N_STATES = len(states)\n",
    "\n",
    "# action\n",
    "actions = [0,1,2,3] # left, right, up, down\n",
    "N_ACTIONS = len(actions)\n",
    "\n",
    "# policy\n",
    "policy = 0.25*np.ones((N_STATES, N_ACTIONS))\n",
    "\n",
    "# Q\n",
    "Q = np.zeros((N_STATES, N_ACTIONS))\n",
    "Q[3,:] = 1\n",
    "Q[6,:] = -1"
   ]
  },
  {
   "cell_type": "code",
   "execution_count": null,
   "metadata": {
    "collapsed": true,
    "slideshow": {
     "slide_type": "subslide"
    }
   },
   "outputs": [],
   "source": [
    "# rewards\n",
    "if True: # fuel-efficient robot\n",
    "    R = -0.02 * np.ones((N_STATES, N_ACTIONS))  \n",
    "else: # fuel-inefficient robot \n",
    "    R = -0.5 * np.ones((N_STATES, N_ACTIONS))  "
   ]
  },
  {
   "cell_type": "code",
   "execution_count": null,
   "metadata": {
    "collapsed": true,
    "slideshow": {
     "slide_type": "subslide"
    }
   },
   "outputs": [],
   "source": [
    "# transition probabilities\n",
    "P = np.zeros((N_STATES, N_ACTIONS, N_STATES))  \n",
    "\n",
    "P[0,0,:] = [1,0,0,0,0,0,0,0,0,0,0]\n",
    "P[0,1,:] = [0,1,0,0,0,0,0,0,0,0,0]\n",
    "P[0,2,:] = [1,0,0,0,0,0,0,0,0,0,0]\n",
    "P[0,3,:] = [0,0,0,0,1,0,0,0,0,0,0]  \n",
    "\n",
    "P[1,0,:] = [0.9,0,0,0,0.1,0,0,0,0,0,0]\n",
    "P[1,1,:] = [0,0,0.9,0,0,0.1,0,0,0,0,0]\n",
    "P[1,2,:] = [0,1,0,0,0,0,0,0,0,0,0]\n",
    "P[1,3,:] = [0,1,0,0,0,0,0,0,0,0,0] \n",
    "\n",
    "P[2,0,:] = [0,1,0,0,0,0,0,0,0,0,0]\n",
    "P[2,1,:] = [0,0,0,0.9,0,0,0.1,0,0,0,0]\n",
    "P[2,2,:] = [0,0,1,0,0,0,0,0,0,0,0]\n",
    "P[2,3,:] = [0,0,0,0,0,0.9,0.1,0,0,0,0] \n",
    "\n",
    "P[3,0,:] = [0,0,0,1,0,0,0,0,0,0,0]\n",
    "P[3,1,:] = [0,0,0,1,0,0,0,0,0,0,0]\n",
    "P[3,2,:] = [0,0,0,1,0,0,0,0,0,0,0]\n",
    "P[3,3,:] = [0,0,0,1,0,0,0,0,0,0,0] \n",
    "\n",
    "P[4,0,:] = [0,0,0,0,1,0,0,0,0,0,0]\n",
    "P[4,1,:] = [0,0,0,0,1,0,0,0,0,0,0]\n",
    "P[4,2,:] = [0.9,0.1,0,0,0,0,0,0,0,0,0]\n",
    "P[4,3,:] = [0,0,0,0,0,0,0,0.9,0.1,0,0] \n",
    "\n",
    "P[5,0,:] = [0,0,0,0,0,1,0,0,0,0,0]\n",
    "P[5,1,:] = [0,0,0,0.1,0,0,0.8,0,0,0,0.1]\n",
    "P[5,2,:] = [0,0.1,0.8,0.1,0,0,0,0,0,0,0]\n",
    "P[5,3,:] = [0,0,0,0,0,0,0,0,0.1,0.8,0.1] \n",
    "\n",
    "P[6,0,:] = [0,0,0,0,0,0,1,0,0,0,0]\n",
    "P[6,1,:] = [0,0,0,0,0,0,1,0,0,0,0]\n",
    "P[6,2,:] = [0,0,0,0,0,0,1,0,0,0,0]\n",
    "P[6,3,:] = [0,0,0,0,0,0,1,0,0,0,0]\n",
    "\n",
    "P[7,0,:] = [0,0,0,0,0,0,0,1,0,0,0]\n",
    "P[7,1,:] = [0,0,0,0,0,0,0,0,1,0,0]\n",
    "P[7,2,:] = [0,0,0,0,1,0,0,0,0,0,0]\n",
    "P[7,3,:] = [0,0,0,0,0,0,0,1,0,0,0] \n",
    "\n",
    "P[8,0,:] = [0,0,0,0,0.1,0,0,0.9,0,0,0]\n",
    "P[8,1,:] = [0,0,0,0,0,0.1,0,0,0,0.9,0]\n",
    "P[8,2,:] = [0,0,0,0,0,0,0,0,1,0,0]\n",
    "P[8,3,:] = [0,0,0,0,0,0,0,0,1,0,0] \n",
    "\n",
    "P[9,0,:] = [0,0,0,0,0,0,0,0,1,0,0]\n",
    "P[9,1,:] = [0,0,0,0,0,0,0.1,0,0,0,0.9]\n",
    "P[9,2,:] = [0,0,0,0,0,0.9,0.1,0,0,0,0]\n",
    "P[9,3,:] = [0,0,0,0,0,0,0,0,0,1,0] \n",
    "\n",
    "P[10,0,:] = [0,0,0,0,0,0.1,0,0,0,0.9,0]\n",
    "P[10,1,:] = [0,0,0,0,0,0,0,0,0,0,1]\n",
    "P[10,2,:] = [0,0,0,0,0,0.1,0.9,0,0,0,0]\n",
    "P[10,3,:] = [0,0,0,0,0,0,0,0,0,0,1] "
   ]
  },
  {
   "cell_type": "code",
   "execution_count": null,
   "metadata": {
    "collapsed": true,
    "slideshow": {
     "slide_type": "subslide"
    }
   },
   "outputs": [],
   "source": [
    "# define a function - sample_action \n",
    "def sample_action(policy_given_state):\n",
    "    policy_now = policy_given_state\n",
    "    cum_policy_now = np.cumsum(policy_now)\n",
    "    random_coin = np.random.random(1)\n",
    "    cum_policy_now_minus_random_coin = cum_policy_now - random_coin \n",
    "    return [ n for n,i in enumerate(cum_policy_now_minus_random_coin) if i>0 ][0]"
   ]
  },
  {
   "cell_type": "code",
   "execution_count": null,
   "metadata": {
    "collapsed": true,
    "slideshow": {
     "slide_type": "subslide"
    }
   },
   "outputs": [],
   "source": [
    "# define a function - sample_transition\n",
    "def sample_transition(transition_prob_given_state_and_action):\n",
    "    prob = transition_prob_given_state_and_action\n",
    "    cum_prob = np.cumsum(prob)\n",
    "    random_coin = np.random.random(1)\n",
    "    cum_prob_minus_random_coin = cum_prob - random_coin \n",
    "    return [ n for n,i in enumerate(cum_prob_minus_random_coin) if i>0 ][0]"
   ]
  },
  {
   "cell_type": "code",
   "execution_count": null,
   "metadata": {
    "collapsed": true,
    "slideshow": {
     "slide_type": "subslide"
    }
   },
   "outputs": [],
   "source": [
    "# SARSA\n",
    "for t in range(epoch):\n",
    "    \n",
    "    # indicate game is not over yet\n",
    "    done = False\n",
    "    # choose initial state randomly\n",
    "    s = np.random.choice([0,1,2,4,5,7,8,9,10]) # 3 and 6 removed\n",
    "    # choose action using current policy\n",
    "    a = sample_action(policy_given_state=policy[s,:])\n",
    "    \n",
    "    while not done:\n",
    "        # choose next state using transition probabilities\n",
    "        s1 = sample_transition(\n",
    "            transition_prob_given_state_and_action=P[s,a,:])\n",
    "        \n",
    "        # epsilon-greedy policy update\n",
    "        policy_now = np.zeros(N_ACTIONS)\n",
    "        m = np.argmax(Q[s1,:])\n",
    "        policy_now[m] = 1\n",
    "        policy_now = (policy_now + epsilon) / (1+4*epsilon)\n",
    "        \n",
    "        # choose action using epsilon-greedy policy \n",
    "        a1 = sample_action(policy_given_state=policy_now) \n",
    "        \n",
    "        # SARSA\n",
    "        Q[s,a] = Q[s,a] + alpha * (R[s,a]+gamma*Q[s1,a1] - Q[s,a])\n",
    "\n",
    "        # if game is not over, continue playing game\n",
    "        if (s1 == 3) or (s1 == 6):\n",
    "            done = True\n",
    "        else:\n",
    "            s = s1\n",
    "            a = a1\n",
    "    \n",
    "print(Q)"
   ]
  },
  {
   "cell_type": "markdown",
   "metadata": {
    "slideshow": {
     "slide_type": "subslide"
    }
   },
   "source": [
    "<div align=\"center\"><img src=\"img/SARSA result.png\" width=\"60%\" height=\"20%\"></div>"
   ]
  },
  {
   "cell_type": "code",
   "execution_count": 2,
   "metadata": {
    "collapsed": false,
    "slideshow": {
     "slide_type": "fragment"
    }
   },
   "outputs": [
    {
     "name": "stdout",
     "output_type": "stream",
     "text": [
      "[[ 0.64950299  0.69017939  0.64939369  0.63193186]\n",
      " [ 0.65124177  0.72248816  0.66564699  0.66779558]\n",
      " [ 0.66797505  0.76349194  0.68449087  0.58899867]\n",
      " [ 1.          1.          1.          1.        ]\n",
      " [ 0.63078184  0.6282633   0.66567924  0.60356169]\n",
      " [ 0.69930416 -0.64837452  0.74738361  0.55217622]\n",
      " [-1.         -1.         -1.         -1.        ]\n",
      " [ 0.60415412  0.58117413  0.64038186  0.60503118]\n",
      " [ 0.6186548   0.56715898  0.5799376   0.58076371]\n",
      " [ 0.58860248  0.40910139  0.53398223  0.55080234]\n",
      " [ 0.55843397  0.5218148  -0.86600922  0.53349094]]\n"
     ]
    }
   ],
   "source": [
    "# SARSA\n",
    "\n",
    "# import libraries\n",
    "import numpy as np\n",
    "\n",
    "# set parameters ###############################################################\n",
    "epoch = 30000\n",
    "gamma = 0.99\n",
    "alpha = 0.01\n",
    "epsilon = 0.01\n",
    "# set parameters ###############################################################\n",
    "\n",
    "# state\n",
    "states = [0,1,2,3,4,5,6,7,8,9,10]\n",
    "N_STATES = len(states)\n",
    "\n",
    "# action\n",
    "actions = [0,1,2,3] # left, right, up, down\n",
    "N_ACTIONS = len(actions)\n",
    "\n",
    "# policy\n",
    "policy = 0.25*np.ones((N_STATES, N_ACTIONS))\n",
    "\n",
    "# Q\n",
    "Q = np.zeros((N_STATES, N_ACTIONS))\n",
    "Q[3,:] = 1\n",
    "Q[6,:] = -1\n",
    "\n",
    "# rewards\n",
    "if True: # fuel-efficient robot\n",
    "    R = -0.02 * np.ones((N_STATES, N_ACTIONS))  \n",
    "else: # fuel-inefficient robot \n",
    "    R = -0.5 * np.ones((N_STATES, N_ACTIONS))  \n",
    "\n",
    "# transition probabilities\n",
    "P = np.zeros((N_STATES, N_ACTIONS, N_STATES))  \n",
    "\n",
    "P[0,0,:] = [1,0,0,0,0,0,0,0,0,0,0]\n",
    "P[0,1,:] = [0,1,0,0,0,0,0,0,0,0,0]\n",
    "P[0,2,:] = [1,0,0,0,0,0,0,0,0,0,0]\n",
    "P[0,3,:] = [0,0,0,0,1,0,0,0,0,0,0]  \n",
    "\n",
    "P[1,0,:] = [0.9,0,0,0,0.1,0,0,0,0,0,0]\n",
    "P[1,1,:] = [0,0,0.9,0,0,0.1,0,0,0,0,0]\n",
    "P[1,2,:] = [0,1,0,0,0,0,0,0,0,0,0]\n",
    "P[1,3,:] = [0,1,0,0,0,0,0,0,0,0,0] \n",
    "\n",
    "P[2,0,:] = [0,1,0,0,0,0,0,0,0,0,0]\n",
    "P[2,1,:] = [0,0,0,0.9,0,0,0.1,0,0,0,0]\n",
    "P[2,2,:] = [0,0,1,0,0,0,0,0,0,0,0]\n",
    "P[2,3,:] = [0,0,0,0,0,0.9,0.1,0,0,0,0] \n",
    "\n",
    "P[3,0,:] = [0,0,0,1,0,0,0,0,0,0,0]\n",
    "P[3,1,:] = [0,0,0,1,0,0,0,0,0,0,0]\n",
    "P[3,2,:] = [0,0,0,1,0,0,0,0,0,0,0]\n",
    "P[3,3,:] = [0,0,0,1,0,0,0,0,0,0,0] \n",
    "\n",
    "P[4,0,:] = [0,0,0,0,1,0,0,0,0,0,0]\n",
    "P[4,1,:] = [0,0,0,0,1,0,0,0,0,0,0]\n",
    "P[4,2,:] = [0.9,0.1,0,0,0,0,0,0,0,0,0]\n",
    "P[4,3,:] = [0,0,0,0,0,0,0,0.9,0.1,0,0] \n",
    "\n",
    "P[5,0,:] = [0,0,0,0,0,1,0,0,0,0,0]\n",
    "P[5,1,:] = [0,0,0,0.1,0,0,0.8,0,0,0,0.1]\n",
    "P[5,2,:] = [0,0.1,0.8,0.1,0,0,0,0,0,0,0]\n",
    "P[5,3,:] = [0,0,0,0,0,0,0,0,0.1,0.8,0.1] \n",
    "\n",
    "P[6,0,:] = [0,0,0,0,0,0,1,0,0,0,0]\n",
    "P[6,1,:] = [0,0,0,0,0,0,1,0,0,0,0]\n",
    "P[6,2,:] = [0,0,0,0,0,0,1,0,0,0,0]\n",
    "P[6,3,:] = [0,0,0,0,0,0,1,0,0,0,0]\n",
    "\n",
    "P[7,0,:] = [0,0,0,0,0,0,0,1,0,0,0]\n",
    "P[7,1,:] = [0,0,0,0,0,0,0,0,1,0,0]\n",
    "P[7,2,:] = [0,0,0,0,1,0,0,0,0,0,0]\n",
    "P[7,3,:] = [0,0,0,0,0,0,0,1,0,0,0] \n",
    "\n",
    "P[8,0,:] = [0,0,0,0,0.1,0,0,0.9,0,0,0]\n",
    "P[8,1,:] = [0,0,0,0,0,0.1,0,0,0,0.9,0]\n",
    "P[8,2,:] = [0,0,0,0,0,0,0,0,1,0,0]\n",
    "P[8,3,:] = [0,0,0,0,0,0,0,0,1,0,0] \n",
    "\n",
    "P[9,0,:] = [0,0,0,0,0,0,0,0,1,0,0]\n",
    "P[9,1,:] = [0,0,0,0,0,0,0.1,0,0,0,0.9]\n",
    "P[9,2,:] = [0,0,0,0,0,0.9,0.1,0,0,0,0]\n",
    "P[9,3,:] = [0,0,0,0,0,0,0,0,0,1,0] \n",
    "\n",
    "P[10,0,:] = [0,0,0,0,0,0.1,0,0,0,0.9,0]\n",
    "P[10,1,:] = [0,0,0,0,0,0,0,0,0,0,1]\n",
    "P[10,2,:] = [0,0,0,0,0,0.1,0.9,0,0,0,0]\n",
    "P[10,3,:] = [0,0,0,0,0,0,0,0,0,0,1] \n",
    "\n",
    "# define a function - sample_action \n",
    "def sample_action(policy_given_state):\n",
    "    policy_now = policy_given_state\n",
    "    cum_policy_now = np.cumsum(policy_now)\n",
    "    random_coin = np.random.random(1)\n",
    "    cum_policy_now_minus_random_coin = cum_policy_now - random_coin \n",
    "    return [ n for n,i in enumerate(cum_policy_now_minus_random_coin) if i>0 ][0]\n",
    "\n",
    "# define a function - sample_transition\n",
    "def sample_transition(transition_prob_given_state_and_action):\n",
    "    prob = transition_prob_given_state_and_action\n",
    "    cum_prob = np.cumsum(prob)\n",
    "    random_coin = np.random.random(1)\n",
    "    cum_prob_minus_random_coin = cum_prob - random_coin \n",
    "    return [ n for n,i in enumerate(cum_prob_minus_random_coin) if i>0 ][0]\n",
    "\n",
    "# SARSA\n",
    "for t in range(epoch):\n",
    "    \n",
    "    # indicate game is not over yet\n",
    "    done = False\n",
    "    # choose initial state randomly\n",
    "    s = np.random.choice([0,1,2,4,5,7,8,9,10]) # 3 and 6 removed\n",
    "    # choose action using current policy\n",
    "    a = sample_action(policy_given_state=policy[s,:])\n",
    "    \n",
    "    while not done:\n",
    "        # choose next state using transition probabilities\n",
    "        s1 = sample_transition(\n",
    "            transition_prob_given_state_and_action=P[s,a,:])\n",
    "        \n",
    "        # epsilon-greedy policy update\n",
    "        policy_now = np.zeros(N_ACTIONS)\n",
    "        m = np.argmax(Q[s1,:])\n",
    "        policy_now[m] = 1\n",
    "        policy_now = (policy_now + epsilon) / (1+4*epsilon)\n",
    "        \n",
    "        # choose action using epsilon-greedy policy \n",
    "        a1 = sample_action(policy_given_state=policy_now) \n",
    "        \n",
    "        # SARSA\n",
    "        Q[s,a] = Q[s,a] + alpha * (R[s,a] + gamma * Q[s1,a1] - Q[s,a])\n",
    "\n",
    "        # if game is not over, continue playing game\n",
    "        if (s1 == 3) or (s1 == 6):\n",
    "            done = True\n",
    "        else:\n",
    "            s = s1\n",
    "            a = a1\n",
    "    \n",
    "print(Q)"
   ]
  },
  {
   "cell_type": "markdown",
   "metadata": {
    "slideshow": {
     "slide_type": "slide"
    }
   },
   "source": [
    "# Q-learnig \n",
    "\n"
   ]
  },
  {
   "cell_type": "markdown",
   "metadata": {
    "slideshow": {
     "slide_type": "fragment"
    }
   },
   "source": [
    "With a sampling $a'$ from the policy of interest, not from the data or the data generating policy\n",
    "$$\n",
    "Q(s_t,a_t)\\quad\\leftarrow\\quad\n",
    "Q(s_t,a_t)+\\alpha(\\color{red}{r_{t+1}+\\gamma Q(s_{t+1},a')}-Q(s_t,a_t))\n",
    "$$\n",
    "\n"
   ]
  },
  {
   "cell_type": "markdown",
   "metadata": {
    "slideshow": {
     "slide_type": "fragment"
    }
   },
   "source": [
    "If the policy of interest is greedy,\n",
    "$$\n",
    "Q(s_t,a_t)\\quad\\leftarrow\\quad\n",
    "Q(s_t,a_t)+\\alpha(\\color{red}{r_{t+1}+\\gamma \\max_{a'}Q(s_{t+1},a')}-Q(s_t,a_t))\n",
    "$$"
   ]
  },
  {
   "cell_type": "markdown",
   "metadata": {
    "slideshow": {
     "slide_type": "subslide"
    }
   },
   "source": [
    "\n",
    "<img src=\"img/Images_Algorithm_pt2_3.gif\"/>\n",
    "\n",
    "https://articles.wearepop.com/secret-formula-for-self-learning-computers"
   ]
  },
  {
   "cell_type": "markdown",
   "metadata": {
    "slideshow": {
     "slide_type": "subslide"
    }
   },
   "source": [
    "\n",
    "\n",
    "<img src=\"img/JvJqR.png\"/>\n",
    "\n",
    "https://i.stack.imgur.com/JvJqR.png"
   ]
  },
  {
   "cell_type": "code",
   "execution_count": null,
   "metadata": {
    "collapsed": true,
    "slideshow": {
     "slide_type": "subslide"
    }
   },
   "outputs": [],
   "source": [
    "# import libraries\n",
    "import numpy as np\n",
    "\n",
    "# set parameters ###############################################################\n",
    "epoch = 40000\n",
    "gamma = 0.99\n",
    "alpha = 0.01\n",
    "epsilon = 0.01\n",
    "# set parameters ###############################################################\n",
    "\n",
    "# state\n",
    "states = [0,1,2,3,4,5,6,7,8,9,10]\n",
    "N_STATES = len(states)\n",
    "\n",
    "# action\n",
    "actions = [0,1,2,3] # left, right, up, down\n",
    "N_ACTIONS = len(actions)\n",
    "\n",
    "# policy\n",
    "policy = 0.25*np.ones((N_STATES, N_ACTIONS))\n",
    "\n",
    "# Q\n",
    "Q = np.zeros((N_STATES, N_ACTIONS))\n",
    "Q[3,:] = 1\n",
    "Q[6,:] = -1\n",
    "\n",
    "# rewards\n",
    "if True: # fuel-efficient robot\n",
    "    R = -0.02 * np.ones((N_STATES, N_ACTIONS))  \n",
    "else: # fuel-inefficient robot \n",
    "    R = -0.5 * np.ones((N_STATES, N_ACTIONS))  \n",
    "\n",
    "# transition probabilities\n",
    "P = np.zeros((N_STATES, N_ACTIONS, N_STATES))  \n",
    "\n",
    "P[0,0,:] = [1,0,0,0,0,0,0,0,0,0,0]\n",
    "P[0,1,:] = [0,1,0,0,0,0,0,0,0,0,0]\n",
    "P[0,2,:] = [1,0,0,0,0,0,0,0,0,0,0]\n",
    "P[0,3,:] = [0,0,0,0,1,0,0,0,0,0,0]  \n",
    "\n",
    "P[1,0,:] = [0.9,0,0,0,0.1,0,0,0,0,0,0]\n",
    "P[1,1,:] = [0,0,0.9,0,0,0.1,0,0,0,0,0]\n",
    "P[1,2,:] = [0,1,0,0,0,0,0,0,0,0,0]\n",
    "P[1,3,:] = [0,1,0,0,0,0,0,0,0,0,0] \n",
    "\n",
    "P[2,0,:] = [0,1,0,0,0,0,0,0,0,0,0]\n",
    "P[2,1,:] = [0,0,0,0.9,0,0,0.1,0,0,0,0]\n",
    "P[2,2,:] = [0,0,1,0,0,0,0,0,0,0,0]\n",
    "P[2,3,:] = [0,0,0,0,0,0.9,0.1,0,0,0,0] \n",
    "\n",
    "P[3,0,:] = [0,0,0,1,0,0,0,0,0,0,0]\n",
    "P[3,1,:] = [0,0,0,1,0,0,0,0,0,0,0]\n",
    "P[3,2,:] = [0,0,0,1,0,0,0,0,0,0,0]\n",
    "P[3,3,:] = [0,0,0,1,0,0,0,0,0,0,0] \n",
    "\n",
    "P[4,0,:] = [0,0,0,0,1,0,0,0,0,0,0]\n",
    "P[4,1,:] = [0,0,0,0,1,0,0,0,0,0,0]\n",
    "P[4,2,:] = [0.9,0.1,0,0,0,0,0,0,0,0,0]\n",
    "P[4,3,:] = [0,0,0,0,0,0,0,0.9,0.1,0,0] \n",
    "\n",
    "P[5,0,:] = [0,0,0,0,0,1,0,0,0,0,0]\n",
    "P[5,1,:] = [0,0,0,0.1,0,0,0.8,0,0,0,0.1]\n",
    "P[5,2,:] = [0,0.1,0.8,0.1,0,0,0,0,0,0,0]\n",
    "P[5,3,:] = [0,0,0,0,0,0,0,0,0.1,0.8,0.1] \n",
    "\n",
    "P[6,0,:] = [0,0,0,0,0,0,1,0,0,0,0]\n",
    "P[6,1,:] = [0,0,0,0,0,0,1,0,0,0,0]\n",
    "P[6,2,:] = [0,0,0,0,0,0,1,0,0,0,0]\n",
    "P[6,3,:] = [0,0,0,0,0,0,1,0,0,0,0]\n",
    "\n",
    "P[7,0,:] = [0,0,0,0,0,0,0,1,0,0,0]\n",
    "P[7,1,:] = [0,0,0,0,0,0,0,0,1,0,0]\n",
    "P[7,2,:] = [0,0,0,0,1,0,0,0,0,0,0]\n",
    "P[7,3,:] = [0,0,0,0,0,0,0,1,0,0,0] \n",
    "\n",
    "P[8,0,:] = [0,0,0,0,0.1,0,0,0.9,0,0,0]\n",
    "P[8,1,:] = [0,0,0,0,0,0.1,0,0,0,0.9,0]\n",
    "P[8,2,:] = [0,0,0,0,0,0,0,0,1,0,0]\n",
    "P[8,3,:] = [0,0,0,0,0,0,0,0,1,0,0] \n",
    "\n",
    "P[9,0,:] = [0,0,0,0,0,0,0,0,1,0,0]\n",
    "P[9,1,:] = [0,0,0,0,0,0,0.1,0,0,0,0.9]\n",
    "P[9,2,:] = [0,0,0,0,0,0.9,0.1,0,0,0,0]\n",
    "P[9,3,:] = [0,0,0,0,0,0,0,0,0,1,0] \n",
    "\n",
    "P[10,0,:] = [0,0,0,0,0,0.1,0,0,0,0.9,0]\n",
    "P[10,1,:] = [0,0,0,0,0,0,0,0,0,0,1]\n",
    "P[10,2,:] = [0,0,0,0,0,0.1,0.9,0,0,0,0]\n",
    "P[10,3,:] = [0,0,0,0,0,0,0,0,0,0,1] \n",
    "\n",
    "# define a function - sample_action \n",
    "def sample_action(policy_given_state):\n",
    "    policy_now = policy_given_state\n",
    "    cum_policy_now = np.cumsum(policy_now)\n",
    "    random_coin = np.random.random(1)\n",
    "    cum_policy_now_minus_random_coin = cum_policy_now - random_coin \n",
    "    return [ n for n,i in enumerate(cum_policy_now_minus_random_coin) if i>0 ][0]\n",
    "\n",
    "# define a function - sample_transition\n",
    "def sample_transition(transition_prob_given_state_and_action):\n",
    "    prob = transition_prob_given_state_and_action\n",
    "    cum_prob = np.cumsum(prob)\n",
    "    random_coin = np.random.random(1)\n",
    "    cum_prob_minus_random_coin = cum_prob - random_coin \n",
    "    return [ n for n,i in enumerate(cum_prob_minus_random_coin) if i>0 ][0]"
   ]
  },
  {
   "cell_type": "code",
   "execution_count": null,
   "metadata": {
    "collapsed": true,
    "slideshow": {
     "slide_type": "subslide"
    }
   },
   "outputs": [],
   "source": [
    "# Q-learning\n",
    "for t in range(epoch):\n",
    "    \n",
    "    # indicate game is not over yet\n",
    "    done = False\n",
    "    # choose initial state randomly\n",
    "    s = np.random.choice([0,1,2,4,5,7,8,9,10]) # 3 and 6 removed\n",
    "    # choose action using current policy\n",
    "    a = sample_action(policy_given_state=policy[s,:])\n",
    "    \n",
    "    while not done:\n",
    "        # choose next state using transition probabilities\n",
    "        s1 = sample_transition(\n",
    "            transition_prob_given_state_and_action=P[s,a,:])\n",
    "        \n",
    "        # epsilon-greedy policy update\n",
    "        policy_now = np.zeros(N_ACTIONS)\n",
    "        m = np.argmax(Q[s1,:])\n",
    "        policy_now[m] = 1\n",
    "        policy_now = (policy_now + epsilon) / (1+4*epsilon)\n",
    "        \n",
    "        # choose action using epsilon-greedy policy \n",
    "        a1 = sample_action(policy_given_state=policy_now) \n",
    "        \n",
    "        # SARSA\n",
    "        # Q[s,a] = Q[s,a] + alpha * (R[s,a] + gamma * Q[s1,a1] - Q[s,a])\n",
    "\n",
    "        # Q-learning\n",
    "        Q[s,a] = Q[s,a] + alpha * (R[s,a] + gamma * max(Q[s1,:]) - Q[s,a])\n",
    "\n",
    "        # if game is not over, continue playing game\n",
    "        if (s1 == 3) or (s1 == 6):\n",
    "            done = True\n",
    "        else:\n",
    "            s = s1\n",
    "            a = a1\n",
    "    \n",
    "print(Q)"
   ]
  },
  {
   "cell_type": "markdown",
   "metadata": {
    "slideshow": {
     "slide_type": "subslide"
    }
   },
   "source": [
    "<div align=\"center\"><img src=\"img/Q-learning result.png\" width=\"60%\" height=\"20%\"></div>"
   ]
  },
  {
   "cell_type": "code",
   "execution_count": 2,
   "metadata": {
    "collapsed": false,
    "slideshow": {
     "slide_type": "fragment"
    }
   },
   "outputs": [
    {
     "name": "stdout",
     "output_type": "stream",
     "text": [
      "[[ 0.63795748  0.66894433  0.63796903  0.63448998]\n",
      " [ 0.64241004  0.68625675  0.64607077  0.64667734]\n",
      " [ 0.64670274  0.70859544  0.64558886  0.47432525]\n",
      " [ 1.          1.          1.          1.        ]\n",
      " [ 0.62380167  0.62312734  0.63855185  0.61957505]\n",
      " [ 0.71590873 -0.67242921  0.72853767  0.58694581]\n",
      " [-1.         -1.         -1.         -1.        ]\n",
      " [ 0.60824595  0.60788458  0.60981955  0.60867764]\n",
      " [ 0.60009355  0.59591962  0.60004376  0.59996823]\n",
      " [ 0.59988497  0.36246705  0.5871322   0.58257855]\n",
      " [ 0.60573852  0.5762576  -0.85525937  0.57595163]]\n"
     ]
    }
   ],
   "source": [
    "# Q-learning\n",
    "\n",
    "# import libraries\n",
    "import numpy as np\n",
    "\n",
    "# set parameters ###############################################################\n",
    "epoch = 40000\n",
    "gamma = 0.99\n",
    "alpha = 0.01\n",
    "epsilon = 0.01\n",
    "# set parameters ###############################################################\n",
    "\n",
    "# state\n",
    "states = [0,1,2,3,4,5,6,7,8,9,10]\n",
    "N_STATES = len(states)\n",
    "\n",
    "# action\n",
    "actions = [0,1,2,3] # left, right, up, down\n",
    "N_ACTIONS = len(actions)\n",
    "\n",
    "# policy\n",
    "policy = 0.25*np.ones((N_STATES, N_ACTIONS))\n",
    "\n",
    "# Q\n",
    "Q = np.zeros((N_STATES, N_ACTIONS))\n",
    "Q[3,:] = 1\n",
    "Q[6,:] = -1\n",
    "\n",
    "# rewards\n",
    "if True: # fuel-efficient robot\n",
    "    R = -0.02 * np.ones((N_STATES, N_ACTIONS))  \n",
    "else: # fuel-inefficient robot \n",
    "    R = -0.5 * np.ones((N_STATES, N_ACTIONS))  \n",
    "\n",
    "# transition probabilities\n",
    "P = np.zeros((N_STATES, N_ACTIONS, N_STATES))  \n",
    "\n",
    "P[0,0,:] = [1,0,0,0,0,0,0,0,0,0,0]\n",
    "P[0,1,:] = [0,1,0,0,0,0,0,0,0,0,0]\n",
    "P[0,2,:] = [1,0,0,0,0,0,0,0,0,0,0]\n",
    "P[0,3,:] = [0,0,0,0,1,0,0,0,0,0,0]  \n",
    "\n",
    "P[1,0,:] = [0.9,0,0,0,0.1,0,0,0,0,0,0]\n",
    "P[1,1,:] = [0,0,0.9,0,0,0.1,0,0,0,0,0]\n",
    "P[1,2,:] = [0,1,0,0,0,0,0,0,0,0,0]\n",
    "P[1,3,:] = [0,1,0,0,0,0,0,0,0,0,0] \n",
    "\n",
    "P[2,0,:] = [0,1,0,0,0,0,0,0,0,0,0]\n",
    "P[2,1,:] = [0,0,0,0.9,0,0,0.1,0,0,0,0]\n",
    "P[2,2,:] = [0,0,1,0,0,0,0,0,0,0,0]\n",
    "P[2,3,:] = [0,0,0,0,0,0.9,0.1,0,0,0,0] \n",
    "\n",
    "P[3,0,:] = [0,0,0,1,0,0,0,0,0,0,0]\n",
    "P[3,1,:] = [0,0,0,1,0,0,0,0,0,0,0]\n",
    "P[3,2,:] = [0,0,0,1,0,0,0,0,0,0,0]\n",
    "P[3,3,:] = [0,0,0,1,0,0,0,0,0,0,0] \n",
    "\n",
    "P[4,0,:] = [0,0,0,0,1,0,0,0,0,0,0]\n",
    "P[4,1,:] = [0,0,0,0,1,0,0,0,0,0,0]\n",
    "P[4,2,:] = [0.9,0.1,0,0,0,0,0,0,0,0,0]\n",
    "P[4,3,:] = [0,0,0,0,0,0,0,0.9,0.1,0,0] \n",
    "\n",
    "P[5,0,:] = [0,0,0,0,0,1,0,0,0,0,0]\n",
    "P[5,1,:] = [0,0,0,0.1,0,0,0.8,0,0,0,0.1]\n",
    "P[5,2,:] = [0,0.1,0.8,0.1,0,0,0,0,0,0,0]\n",
    "P[5,3,:] = [0,0,0,0,0,0,0,0,0.1,0.8,0.1] \n",
    "\n",
    "P[6,0,:] = [0,0,0,0,0,0,1,0,0,0,0]\n",
    "P[6,1,:] = [0,0,0,0,0,0,1,0,0,0,0]\n",
    "P[6,2,:] = [0,0,0,0,0,0,1,0,0,0,0]\n",
    "P[6,3,:] = [0,0,0,0,0,0,1,0,0,0,0]\n",
    "\n",
    "P[7,0,:] = [0,0,0,0,0,0,0,1,0,0,0]\n",
    "P[7,1,:] = [0,0,0,0,0,0,0,0,1,0,0]\n",
    "P[7,2,:] = [0,0,0,0,1,0,0,0,0,0,0]\n",
    "P[7,3,:] = [0,0,0,0,0,0,0,1,0,0,0] \n",
    "\n",
    "P[8,0,:] = [0,0,0,0,0.1,0,0,0.9,0,0,0]\n",
    "P[8,1,:] = [0,0,0,0,0,0.1,0,0,0,0.9,0]\n",
    "P[8,2,:] = [0,0,0,0,0,0,0,0,1,0,0]\n",
    "P[8,3,:] = [0,0,0,0,0,0,0,0,1,0,0] \n",
    "\n",
    "P[9,0,:] = [0,0,0,0,0,0,0,0,1,0,0]\n",
    "P[9,1,:] = [0,0,0,0,0,0,0.1,0,0,0,0.9]\n",
    "P[9,2,:] = [0,0,0,0,0,0.9,0.1,0,0,0,0]\n",
    "P[9,3,:] = [0,0,0,0,0,0,0,0,0,1,0] \n",
    "\n",
    "P[10,0,:] = [0,0,0,0,0,0.1,0,0,0,0.9,0]\n",
    "P[10,1,:] = [0,0,0,0,0,0,0,0,0,0,1]\n",
    "P[10,2,:] = [0,0,0,0,0,0.1,0.9,0,0,0,0]\n",
    "P[10,3,:] = [0,0,0,0,0,0,0,0,0,0,1] \n",
    "\n",
    "# define a function - sample_action \n",
    "def sample_action(policy_given_state):\n",
    "    policy_now = policy_given_state\n",
    "    cum_policy_now = np.cumsum(policy_now)\n",
    "    random_coin = np.random.random(1)\n",
    "    cum_policy_now_minus_random_coin = cum_policy_now - random_coin \n",
    "    return [ n for n,i in enumerate(cum_policy_now_minus_random_coin) if i>0 ][0]\n",
    "\n",
    "# define a function - sample_transition\n",
    "def sample_transition(transition_prob_given_state_and_action):\n",
    "    prob = transition_prob_given_state_and_action\n",
    "    cum_prob = np.cumsum(prob)\n",
    "    random_coin = np.random.random(1)\n",
    "    cum_prob_minus_random_coin = cum_prob - random_coin \n",
    "    return [ n for n,i in enumerate(cum_prob_minus_random_coin) if i>0 ][0]\n",
    "\n",
    "# Q-learning\n",
    "for t in range(epoch):\n",
    "    \n",
    "    # indicate game is not over yet\n",
    "    done = False\n",
    "    # choose initial state randomly\n",
    "    s = np.random.choice([0,1,2,4,5,7,8,9,10]) # 3 and 6 removed\n",
    "    # choose action using current policy\n",
    "    a = sample_action(policy_given_state=policy[s,:])\n",
    "    \n",
    "    while not done:\n",
    "        # choose next state using transition probabilities\n",
    "        s1 = sample_transition(\n",
    "            transition_prob_given_state_and_action=P[s,a,:])\n",
    "        \n",
    "        # epsilon-greedy policy update\n",
    "        policy_now = np.zeros(N_ACTIONS)\n",
    "        m = np.argmax(Q[s1,:])\n",
    "        policy_now[m] = 1\n",
    "        policy_now = (policy_now + epsilon) / (1+4*epsilon)\n",
    "        \n",
    "        # choose action using epsilon-greedy policy \n",
    "        a1 = sample_action(policy_given_state=policy_now) \n",
    "        \n",
    "        # SARSA\n",
    "        # Q[s,a] = Q[s,a] + alpha * (R[s,a] + gamma * Q[s1,a1] - Q[s,a])\n",
    "\n",
    "        # Q-learning\n",
    "        Q[s,a] = Q[s,a] + alpha * (R[s,a] + gamma * max(Q[s1,:]) - Q[s,a])\n",
    "\n",
    "        # if game is not over, continue playing game\n",
    "        if (s1 == 3) or (s1 == 6):\n",
    "            done = True\n",
    "        else:\n",
    "            s = s1\n",
    "            a = a1\n",
    "    \n",
    "print(Q)"
   ]
  },
  {
   "cell_type": "markdown",
   "metadata": {
    "slideshow": {
     "slide_type": "slide"
    }
   },
   "source": [
    "# Q-learning using experience replay"
   ]
  },
  {
   "cell_type": "markdown",
   "metadata": {
    "slideshow": {
     "slide_type": "fragment"
    }
   },
   "source": [
    "<img src=\"img/output_ahug9u_by_elphin_zephyr-daxvvvu.gif\"/>\n",
    "\n",
    "https://orig00.deviantart.net/1b54/f/2017/035/9/b/output_ahug9u_by_elphin_zephyr-daxvvvu.gif"
   ]
  },
  {
   "cell_type": "code",
   "execution_count": null,
   "metadata": {
    "collapsed": true,
    "slideshow": {
     "slide_type": "subslide"
    }
   },
   "outputs": [],
   "source": [
    "# import libraries\n",
    "import numpy as np\n",
    "from collections import deque\n",
    "import random"
   ]
  },
  {
   "cell_type": "code",
   "execution_count": null,
   "metadata": {
    "collapsed": true,
    "slideshow": {
     "slide_type": "subslide"
    }
   },
   "outputs": [],
   "source": [
    "# set parameters ###############################################################\n",
    "epoch_sarsa = 1000\n",
    "epoch_q_learning = 20000\n",
    "gamma = 0.99\n",
    "alpha = 0.01\n",
    "epsilon = 0.01\n",
    "# set parameters ###############################################################"
   ]
  },
  {
   "cell_type": "code",
   "execution_count": null,
   "metadata": {
    "collapsed": true,
    "slideshow": {
     "slide_type": "subslide"
    }
   },
   "outputs": [],
   "source": [
    "# state\n",
    "states = [0,1,2,3,4,5,6,7,8,9,10]\n",
    "N_STATES = len(states)\n",
    "\n",
    "# action\n",
    "actions = [0,1,2,3] # left, right, up, down\n",
    "N_ACTIONS = len(actions)\n",
    "\n",
    "# policy\n",
    "policy = 0.25*np.ones((N_STATES, N_ACTIONS))\n",
    "\n",
    "# Q\n",
    "Q = np.zeros((N_STATES, N_ACTIONS))\n",
    "Q[3,:] = 1\n",
    "Q[6,:] = -1\n",
    "\n",
    "# rewards\n",
    "if True: # fuel-efficient robot\n",
    "    R = -0.02 * np.ones((N_STATES, N_ACTIONS))  \n",
    "else: # fuel-inefficient robot \n",
    "    R = -0.5 * np.ones((N_STATES, N_ACTIONS))  \n",
    "        \n",
    "# transition probabilities\n",
    "P = np.zeros((N_STATES, N_ACTIONS, N_STATES)) \n",
    "\n",
    "P[0, 0, :] = [1, 0, 0, 0, 0, 0, 0, 0, 0, 0, 0]\n",
    "P[0, 1, :] = [0, 1, 0, 0, 0, 0, 0, 0, 0, 0, 0]\n",
    "P[0, 2, :] = [1, 0, 0, 0, 0, 0, 0, 0, 0, 0, 0]\n",
    "P[0, 3, :] = [0, 0, 0, 0, 1, 0, 0, 0, 0, 0, 0]\n",
    "\n",
    "P[1, 0, :] = [0.9, 0, 0, 0, 0.1, 0, 0, 0, 0, 0, 0]\n",
    "P[1, 1, :] = [0, 0, 0.9, 0, 0, 0.1, 0, 0, 0, 0, 0]\n",
    "P[1, 2, :] = [0, 1, 0, 0, 0, 0, 0, 0, 0, 0, 0]\n",
    "P[1, 3, :] = [0, 1, 0, 0, 0, 0, 0, 0, 0, 0, 0]\n",
    "\n",
    "P[2, 0, :] = [0, 1, 0, 0, 0, 0, 0, 0, 0, 0, 0]\n",
    "P[2, 1, :] = [0, 0, 0, 0.9, 0, 0, 0.1, 0, 0, 0, 0]\n",
    "P[2, 2, :] = [0, 0, 1, 0, 0, 0, 0, 0, 0, 0, 0]\n",
    "P[2, 3, :] = [0, 0, 0, 0, 0, 0.9, 0.1, 0, 0, 0, 0]\n",
    "\n",
    "P[3, 0, :] = [0, 0, 0, 1, 0, 0, 0, 0, 0, 0, 0]\n",
    "P[3, 1, :] = [0, 0, 0, 1, 0, 0, 0, 0, 0, 0, 0]\n",
    "P[3, 2, :] = [0, 0, 0, 1, 0, 0, 0, 0, 0, 0, 0]\n",
    "P[3, 3, :] = [0, 0, 0, 1, 0, 0, 0, 0, 0, 0, 0]\n",
    "\n",
    "P[4, 0, :] = [0, 0, 0, 0, 1, 0, 0, 0, 0, 0, 0]\n",
    "P[4, 1, :] = [0, 0, 0, 0, 1, 0, 0, 0, 0, 0, 0]\n",
    "P[4, 2, :] = [0.9, 0.1, 0, 0, 0, 0, 0, 0, 0, 0, 0]\n",
    "P[4, 3, :] = [0, 0, 0, 0, 0, 0, 0, 0.9, 0.1, 0, 0]\n",
    "\n",
    "P[5, 0, :] = [0, 0, 0, 0, 0, 1, 0, 0, 0, 0, 0]\n",
    "P[5, 1, :] = [0, 0, 0, 0.1, 0, 0, 0.8, 0, 0, 0, 0.1]\n",
    "P[5, 2, :] = [0, 0.1, 0.8, 0.1, 0, 0, 0, 0, 0, 0, 0]\n",
    "P[5, 3, :] = [0, 0, 0, 0, 0, 0, 0, 0, 0.1, 0.8, 0.1]\n",
    "\n",
    "P[6, 0, :] = [0, 0, 0, 0, 0, 0, 1, 0, 0, 0, 0]\n",
    "P[6, 1, :] = [0, 0, 0, 0, 0, 0, 1, 0, 0, 0, 0]\n",
    "P[6, 2, :] = [0, 0, 0, 0, 0, 0, 1, 0, 0, 0, 0]\n",
    "P[6, 3, :] = [0, 0, 0, 0, 0, 0, 1, 0, 0, 0, 0]\n",
    "\n",
    "P[7, 0, :] = [0, 0, 0, 0, 0, 0, 0, 1, 0, 0, 0]\n",
    "P[7, 1, :] = [0, 0, 0, 0, 0, 0, 0, 0, 1, 0, 0]\n",
    "P[7, 2, :] = [0, 0, 0, 0, 1, 0, 0, 0, 0, 0, 0]\n",
    "P[7, 3, :] = [0, 0, 0, 0, 0, 0, 0, 1, 0, 0, 0]\n",
    "\n",
    "P[8, 0, :] = [0, 0, 0, 0, 0.1, 0, 0, 0.9, 0, 0, 0]\n",
    "P[8, 1, :] = [0, 0, 0, 0, 0, 0.1, 0, 0, 0, 0.9, 0]\n",
    "P[8, 2, :] = [0, 0, 0, 0, 0, 0, 0, 0, 1, 0, 0]\n",
    "P[8, 3, :] = [0, 0, 0, 0, 0, 0, 0, 0, 1, 0, 0]\n",
    "\n",
    "P[9, 0, :] = [0, 0, 0, 0, 0, 0, 0, 0, 1, 0, 0]\n",
    "P[9, 1, :] = [0, 0, 0, 0, 0, 0, 0.1, 0, 0, 0, 0.9]\n",
    "P[9, 2, :] = [0, 0, 0, 0, 0, 0.9, 0.1, 0, 0, 0, 0]\n",
    "P[9, 3, :] = [0, 0, 0, 0, 0, 0, 0, 0, 0, 1, 0]\n",
    "\n",
    "P[10, 0, :] = [0, 0, 0, 0, 0, 0.1, 0, 0, 0, 0.9, 0]\n",
    "P[10, 1, :] = [0, 0, 0, 0, 0, 0, 0, 0, 0, 0, 1]\n",
    "P[10, 2, :] = [0, 0, 0, 0, 0, 0.1, 0.9, 0, 0, 0, 0]\n",
    "P[10, 3, :] = [0, 0, 0, 0, 0, 0, 0, 0, 0, 0, 1]\n",
    "\n",
    "# define a function - sample_action \n",
    "def sample_action(policy_given_state):\n",
    "    policy_now = policy_given_state\n",
    "    cum_policy_now = np.cumsum(policy_now)\n",
    "    random_coin = np.random.random(1)\n",
    "    cum_policy_now_minus_random_coin = cum_policy_now - random_coin\n",
    "    return [n for n, i in enumerate(cum_policy_now_minus_random_coin) if i > 0][0]\n",
    "\n",
    "# define a function - sample_transition\n",
    "def sample_transition(transition_prob_given_state_and_action):\n",
    "    prob = transition_prob_given_state_and_action\n",
    "    cum_prob = np.cumsum(prob)\n",
    "    random_coin = np.random.random(1)\n",
    "    cum_prob_minus_random_coin = cum_prob - random_coin\n",
    "    return [n for n, i in enumerate(cum_prob_minus_random_coin) if i > 0][0]"
   ]
  },
  {
   "cell_type": "markdown",
   "metadata": {
    "slideshow": {
     "slide_type": "subslide"
    }
   },
   "source": [
    "\n",
    "\n",
    "<div align=\"center\"><img src=\"img/WW1-Great-War-Cartoons-Punch-Magazine-Raven-Hill-1917-12-19-421.jpg\" width=\"60%\" height=\"20%\"></div>\n",
    "\n",
    "\n",
    "https://ssl.c.photoshelter.com/img-get/I0000x4Qkv5Ut3mo/s/900/720/WW1-Great-War-Cartoons-Punch-Magazine-Raven-Hill-1917-12-19-421.jpg"
   ]
  },
  {
   "cell_type": "code",
   "execution_count": null,
   "metadata": {
    "collapsed": true,
    "slideshow": {
     "slide_type": "fragment"
    }
   },
   "outputs": [],
   "source": [
    "# make a memory for a deque of maxlen 100 for experience replay\n",
    "replay_meomory = deque(maxlen=100)"
   ]
  },
  {
   "cell_type": "code",
   "execution_count": null,
   "metadata": {
    "collapsed": true,
    "slideshow": {
     "slide_type": "subslide"
    }
   },
   "outputs": [],
   "source": [
    "# make a deque of maxlen 100 for experience replay\n",
    "for t in range(epoch_sarsa):\n",
    "    \n",
    "    # indicate game is not over yet\n",
    "    done = False\n",
    "    # choose initial state randomly\n",
    "    s = np.random.choice([0,1,2,4,5,7,8,9,10]) # 3 and 6 removed\n",
    "    # choose action using current policy\n",
    "    a = sample_action(policy_given_state=policy[s,:])\n",
    "\n",
    "    while not done:\n",
    "        # choose next state using transition probabilities\n",
    "        s1 = sample_transition(transition_prob_given_state_and_action=P[s, a, :])\n",
    "\n",
    "        # epsilon-greedy policy update\n",
    "        policy_now = np.zeros(N_ACTIONS)\n",
    "        m = np.argmax(Q[s1, :])\n",
    "        policy_now[m] = 1\n",
    "        policy_now = (policy_now + epsilon) / (1 + 4 * epsilon)\n",
    "\n",
    "        # choose action using epsilon-greedy policy\n",
    "        a1 = sample_action(policy_given_state=policy_now)\n",
    "        \n",
    "        # SARSA\n",
    "        Q[s,a] = Q[s,a] + alpha * (R[s,a] + gamma * Q[s1,a1] - Q[s,a])\n",
    "\n",
    "        # append current experience at the end of the deque and update the deque\n",
    "        replay_meomory.append([s,a,R[s,a],s1])\n",
    "\n",
    "        # if game is not over, continue playing game\n",
    "        if (s1 == 3) or (s1 == 6):\n",
    "            done = True\n",
    "        else:\n",
    "            s = s1\n",
    "            a = a1\n",
    "\n",
    "print(Q)\n",
    "\n"
   ]
  },
  {
   "cell_type": "code",
   "execution_count": null,
   "metadata": {
    "collapsed": true,
    "slideshow": {
     "slide_type": "subslide"
    }
   },
   "outputs": [],
   "source": [
    "# Q-learning using experience replay\n",
    "for t in range(epoch_q_learning):\n",
    "\n",
    "    # indicate game is not over yet\n",
    "    done = False\n",
    "    # choose initial state randomly\n",
    "    s = np.random.choice([0,1,2,4,5,7,8,9,10]) # 3 and 6 removed\n",
    "    # choose action using current policy\n",
    "    a = sample_action(policy_given_state=policy[s,:]) \n",
    "    \n",
    "    while not done:\n",
    "        # exploit - update Q-function using Q-learning with experience replay\n",
    "        # and\n",
    "        # explore - move according to updated epsilon-greedy policy\n",
    "        \n",
    "        # choose next state using transition probabilities\n",
    "        s1 = sample_transition(transition_prob_given_state_and_action=P[s,a,:])\n",
    "\n",
    "        # epsilon-greedy policy update\n",
    "        policy_now = np.zeros(N_ACTIONS)\n",
    "        m = np.argmax(Q[s1, :])\n",
    "        policy_now[m] = 1\n",
    "        policy_now = (policy_now + epsilon) / (1 + 4 * epsilon)\n",
    "\n",
    "        # choose action using epsilon-greedy policy\n",
    "        a1 = sample_action(policy_given_state=policy_now)\n",
    "        \n",
    "        # append current experience at the end of the deque and update the deque\n",
    "        replay_meomory.append([s, a, R[s, a], s1])\n",
    "\n",
    "        # Q-learning using experience replay\n",
    "        # choose 7 experiences from the deque\n",
    "        sample = random.sample(replay_meomory, 7)\n",
    "        for i in range(7):\n",
    "            # experience replay\n",
    "            replay = sample[i]\n",
    "            # Q-learning\n",
    "            Q[replay[0],replay[1]] = Q[replay[0],replay[1]] + \\\n",
    "                                 alpha * (replay[2] + gamma * max(Q[replay[3],:]) - Q[replay[0],replay[1]])\n",
    "\n",
    "        # if game is not over, continue playing game\n",
    "        if (s1 == 3) or (s1 == 6):\n",
    "            done = True\n",
    "        else:\n",
    "            s = s1\n",
    "            a = a1\n",
    "\n",
    "print(Q)"
   ]
  },
  {
   "cell_type": "markdown",
   "metadata": {
    "slideshow": {
     "slide_type": "subslide"
    }
   },
   "source": [
    "<div align=\"center\"><img src=\"img/Q-learning using experience replay.png\" width=\"60%\" height=\"20%\"></div>"
   ]
  },
  {
   "cell_type": "code",
   "execution_count": 4,
   "metadata": {
    "collapsed": false,
    "slideshow": {
     "slide_type": "fragment"
    }
   },
   "outputs": [
    {
     "name": "stdout",
     "output_type": "stream",
     "text": [
      "[[ 0.05498236  0.54533103  0.07056754  0.03224705]\n",
      " [ 0.07911819  0.70386938  0.14433013  0.13376335]\n",
      " [ 0.1112421   0.79432344  0.2396675   0.08519836]\n",
      " [ 1.          1.          1.          1.        ]\n",
      " [ 0.02083935  0.01809598  0.3324215  -0.00364398]\n",
      " [ 0.15757644 -0.20682696  0.73833763  0.02644631]\n",
      " [-1.         -1.         -1.         -1.        ]\n",
      " [-0.00855757  0.01510166  0.08693695 -0.00556295]\n",
      " [-0.00731839  0.21470185 -0.00184952  0.00212867]\n",
      " [ 0.0079362  -0.01800231  0.42161678  0.05253249]\n",
      " [ 0.19009332  0.01269543 -0.23225642  0.00846619]]\n",
      "[[ 0.4585549   0.76560936  0.45227328  0.42416659]\n",
      " [ 0.44748585  0.78950609  0.49530373  0.51888518]\n",
      " [ 0.49591137  0.75993222  0.62025129  0.34950453]\n",
      " [ 1.          1.          1.          1.        ]\n",
      " [ 0.39306242  0.39920305  0.732524    0.38897126]\n",
      " [ 0.54592265 -0.70593815  0.81264371  0.33907882]\n",
      " [-1.         -1.         -1.         -1.        ]\n",
      " [ 0.35676667  0.3080031   0.67916175  0.34497249]\n",
      " [ 0.55154856  0.37293773  0.28650671  0.29991655]\n",
      " [ 0.37714219  0.24254151  0.22560698  0.28822026]\n",
      " [ 0.36824605  0.34027213 -0.93933829  0.33842648]]\n"
     ]
    }
   ],
   "source": [
    "# Q-learning using experience replay\n",
    "\n",
    "# import libraries\n",
    "import numpy as np\n",
    "from collections import deque\n",
    "import random\n",
    "\n",
    "# set parameters ###############################################################\n",
    "epoch_sarsa = 1000\n",
    "epoch_q_learning = 20000\n",
    "gamma = 0.99\n",
    "alpha = 0.01\n",
    "epsilon = 0.01\n",
    "# set parameters ###############################################################\n",
    "\n",
    "# state\n",
    "states = [0,1,2,3,4,5,6,7,8,9,10]\n",
    "N_STATES = len(states)\n",
    "\n",
    "# action\n",
    "actions = [0,1,2,3] # left, right, up, down\n",
    "N_ACTIONS = len(actions)\n",
    "\n",
    "# policy\n",
    "policy = 0.25*np.ones((N_STATES, N_ACTIONS))\n",
    "\n",
    "# Q\n",
    "Q = np.zeros((N_STATES, N_ACTIONS))\n",
    "Q[3,:] = 1\n",
    "Q[6,:] = -1\n",
    "\n",
    "# rewards\n",
    "if True: # fuel-efficient robot\n",
    "    R = -0.02 * np.ones((N_STATES, N_ACTIONS))  \n",
    "else: # fuel-inefficient robot \n",
    "    R = -0.5 * np.ones((N_STATES, N_ACTIONS))  \n",
    "        \n",
    "# transition probabilities\n",
    "P = np.zeros((N_STATES, N_ACTIONS, N_STATES))  \n",
    "\n",
    "P[0, 0, :] = [1, 0, 0, 0, 0, 0, 0, 0, 0, 0, 0]\n",
    "P[0, 1, :] = [0, 1, 0, 0, 0, 0, 0, 0, 0, 0, 0]\n",
    "P[0, 2, :] = [1, 0, 0, 0, 0, 0, 0, 0, 0, 0, 0]\n",
    "P[0, 3, :] = [0, 0, 0, 0, 1, 0, 0, 0, 0, 0, 0]\n",
    "\n",
    "P[1, 0, :] = [0.9, 0, 0, 0, 0.1, 0, 0, 0, 0, 0, 0]\n",
    "P[1, 1, :] = [0, 0, 0.9, 0, 0, 0.1, 0, 0, 0, 0, 0]\n",
    "P[1, 2, :] = [0, 1, 0, 0, 0, 0, 0, 0, 0, 0, 0]\n",
    "P[1, 3, :] = [0, 1, 0, 0, 0, 0, 0, 0, 0, 0, 0]\n",
    "\n",
    "P[2, 0, :] = [0, 1, 0, 0, 0, 0, 0, 0, 0, 0, 0]\n",
    "P[2, 1, :] = [0, 0, 0, 0.9, 0, 0, 0.1, 0, 0, 0, 0]\n",
    "P[2, 2, :] = [0, 0, 1, 0, 0, 0, 0, 0, 0, 0, 0]\n",
    "P[2, 3, :] = [0, 0, 0, 0, 0, 0.9, 0.1, 0, 0, 0, 0]\n",
    "\n",
    "P[3, 0, :] = [0, 0, 0, 1, 0, 0, 0, 0, 0, 0, 0]\n",
    "P[3, 1, :] = [0, 0, 0, 1, 0, 0, 0, 0, 0, 0, 0]\n",
    "P[3, 2, :] = [0, 0, 0, 1, 0, 0, 0, 0, 0, 0, 0]\n",
    "P[3, 3, :] = [0, 0, 0, 1, 0, 0, 0, 0, 0, 0, 0]\n",
    "\n",
    "P[4, 0, :] = [0, 0, 0, 0, 1, 0, 0, 0, 0, 0, 0]\n",
    "P[4, 1, :] = [0, 0, 0, 0, 1, 0, 0, 0, 0, 0, 0]\n",
    "P[4, 2, :] = [0.9, 0.1, 0, 0, 0, 0, 0, 0, 0, 0, 0]\n",
    "P[4, 3, :] = [0, 0, 0, 0, 0, 0, 0, 0.9, 0.1, 0, 0]\n",
    "\n",
    "P[5, 0, :] = [0, 0, 0, 0, 0, 1, 0, 0, 0, 0, 0]\n",
    "P[5, 1, :] = [0, 0, 0, 0.1, 0, 0, 0.8, 0, 0, 0, 0.1]\n",
    "P[5, 2, :] = [0, 0.1, 0.8, 0.1, 0, 0, 0, 0, 0, 0, 0]\n",
    "P[5, 3, :] = [0, 0, 0, 0, 0, 0, 0, 0, 0.1, 0.8, 0.1]\n",
    "\n",
    "P[6, 0, :] = [0, 0, 0, 0, 0, 0, 1, 0, 0, 0, 0]\n",
    "P[6, 1, :] = [0, 0, 0, 0, 0, 0, 1, 0, 0, 0, 0]\n",
    "P[6, 2, :] = [0, 0, 0, 0, 0, 0, 1, 0, 0, 0, 0]\n",
    "P[6, 3, :] = [0, 0, 0, 0, 0, 0, 1, 0, 0, 0, 0]\n",
    "\n",
    "P[7, 0, :] = [0, 0, 0, 0, 0, 0, 0, 1, 0, 0, 0]\n",
    "P[7, 1, :] = [0, 0, 0, 0, 0, 0, 0, 0, 1, 0, 0]\n",
    "P[7, 2, :] = [0, 0, 0, 0, 1, 0, 0, 0, 0, 0, 0]\n",
    "P[7, 3, :] = [0, 0, 0, 0, 0, 0, 0, 1, 0, 0, 0]\n",
    "\n",
    "P[8, 0, :] = [0, 0, 0, 0, 0.1, 0, 0, 0.9, 0, 0, 0]\n",
    "P[8, 1, :] = [0, 0, 0, 0, 0, 0.1, 0, 0, 0, 0.9, 0]\n",
    "P[8, 2, :] = [0, 0, 0, 0, 0, 0, 0, 0, 1, 0, 0]\n",
    "P[8, 3, :] = [0, 0, 0, 0, 0, 0, 0, 0, 1, 0, 0]\n",
    "\n",
    "P[9, 0, :] = [0, 0, 0, 0, 0, 0, 0, 0, 1, 0, 0]\n",
    "P[9, 1, :] = [0, 0, 0, 0, 0, 0, 0.1, 0, 0, 0, 0.9]\n",
    "P[9, 2, :] = [0, 0, 0, 0, 0, 0.9, 0.1, 0, 0, 0, 0]\n",
    "P[9, 3, :] = [0, 0, 0, 0, 0, 0, 0, 0, 0, 1, 0]\n",
    "\n",
    "P[10, 0, :] = [0, 0, 0, 0, 0, 0.1, 0, 0, 0, 0.9, 0]\n",
    "P[10, 1, :] = [0, 0, 0, 0, 0, 0, 0, 0, 0, 0, 1]\n",
    "P[10, 2, :] = [0, 0, 0, 0, 0, 0.1, 0.9, 0, 0, 0, 0]\n",
    "P[10, 3, :] = [0, 0, 0, 0, 0, 0, 0, 0, 0, 0, 1]\n",
    "\n",
    "# define a function - sample_action \n",
    "def sample_action(policy_given_state):\n",
    "    policy_now = policy_given_state\n",
    "    cum_policy_now = np.cumsum(policy_now)\n",
    "    random_coin = np.random.random(1)\n",
    "    cum_policy_now_minus_random_coin = cum_policy_now - random_coin\n",
    "    return [n for n, i in enumerate(cum_policy_now_minus_random_coin) if i > 0][0]\n",
    "\n",
    "# define a function - sample_transition\n",
    "def sample_transition(transition_prob_given_state_and_action):\n",
    "    prob = transition_prob_given_state_and_action\n",
    "    cum_prob = np.cumsum(prob)\n",
    "    random_coin = np.random.random(1)\n",
    "    cum_prob_minus_random_coin = cum_prob - random_coin\n",
    "    return [n for n, i in enumerate(cum_prob_minus_random_coin) if i > 0][0]\n",
    "\n",
    "# make a memory for a deque of maxlen 100 for experience replay\n",
    "replay_meomory = deque(maxlen=100)\n",
    "\n",
    "# make a deque of maxlen 100 for experience replay\n",
    "for t in range(epoch_sarsa):\n",
    "    \n",
    "    # indicate game is not over yet\n",
    "    done = False\n",
    "    # choose initial state randomly\n",
    "    s = np.random.choice([0,1,2,4,5,7,8,9,10]) # 3 and 6 removed\n",
    "    # choose action using current policy\n",
    "    a = sample_action(policy_given_state=policy[s,:])\n",
    "\n",
    "    while not done:\n",
    "        # choose next state using transition probabilities\n",
    "        s1 = sample_transition(transition_prob_given_state_and_action=P[s, a, :])\n",
    "\n",
    "        # epsilon-greedy policy update\n",
    "        policy_now = np.zeros(N_ACTIONS)\n",
    "        m = np.argmax(Q[s1, :])\n",
    "        policy_now[m] = 1\n",
    "        policy_now = (policy_now + epsilon) / (1 + 4 * epsilon)\n",
    "\n",
    "        # choose action using epsilon-greedy policy\n",
    "        a1 = sample_action(policy_given_state=policy_now)\n",
    "        \n",
    "        # SARSA\n",
    "        Q[s,a] = Q[s,a] + alpha * (R[s,a] + gamma * Q[s1,a1] - Q[s,a])\n",
    "\n",
    "        # append current experience at the end of the deque and update the deque\n",
    "        replay_meomory.append([s,a,R[s,a],s1])\n",
    "\n",
    "        # if game is not over, continue playing game\n",
    "        if (s1 == 3) or (s1 == 6):\n",
    "            done = True\n",
    "        else:\n",
    "            s = s1\n",
    "            a = a1\n",
    "\n",
    "print(Q)\n",
    "\n",
    "# Q-learning using experience replay\n",
    "for t in range(epoch_q_learning):\n",
    "\n",
    "    # indicate game is not over yet\n",
    "    done = False\n",
    "    # choose initial state randomly\n",
    "    s = np.random.choice([0,1,2,4,5,7,8,9,10]) # 3 and 6 removed\n",
    "    # choose action using current policy\n",
    "    a = sample_action(policy_given_state=policy[s,:]) \n",
    "    \n",
    "    while not done:\n",
    "        # exploit - update Q-function using Q-learning with experience replay\n",
    "        # and\n",
    "        # explore - move according to updated epsilon-greedy policy\n",
    "        \n",
    "        # choose next state using transition probabilities\n",
    "        s1 = sample_transition(transition_prob_given_state_and_action=P[s,a,:])\n",
    "\n",
    "        # epsilon-greedy policy update\n",
    "        policy_now = np.zeros(N_ACTIONS)\n",
    "        m = np.argmax(Q[s1, :])\n",
    "        policy_now[m] = 1\n",
    "        policy_now = (policy_now + epsilon) / (1 + 4 * epsilon)\n",
    "\n",
    "        # choose action using epsilon-greedy policy\n",
    "        a1 = sample_action(policy_given_state=policy_now)\n",
    "        \n",
    "        # append current experience at the end of the deque and update the deque\n",
    "        replay_meomory.append([s, a, R[s, a], s1])\n",
    "\n",
    "        # Q-learning using experience replay\n",
    "        # choose 7 experiences from the deque\n",
    "        sample = random.sample(replay_meomory, 7)\n",
    "        for i in range(7):\n",
    "            # experience replay\n",
    "            replay = sample[i]\n",
    "            # Q-learning\n",
    "            Q[replay[0],replay[1]] = Q[replay[0],replay[1]] + \\\n",
    "                                 alpha * (replay[2] + gamma * max(Q[replay[3],:]) - Q[replay[0],replay[1]])\n",
    "\n",
    "        # if game is not over, continue playing game\n",
    "        if (s1 == 3) or (s1 == 6):\n",
    "            done = True\n",
    "        else:\n",
    "            s = s1\n",
    "            a = a1\n",
    "\n",
    "print(Q)"
   ]
  },
  {
   "cell_type": "markdown",
   "metadata": {
    "slideshow": {
     "slide_type": "slide"
    }
   },
   "source": [
    "# Q-learning using experience replay and target Q"
   ]
  },
  {
   "cell_type": "code",
   "execution_count": 7,
   "metadata": {
    "collapsed": false,
    "slideshow": {
     "slide_type": "subslide"
    }
   },
   "outputs": [
    {
     "name": "stdout",
     "output_type": "stream",
     "text": [
      "[[  7.20477115e-02   6.23569214e-01   7.51497043e-02   3.49270849e-02]\n",
      " [  6.69469273e-02   7.34768345e-01   1.62949182e-01   1.33353783e-01]\n",
      " [  1.66233815e-01   7.53564952e-01   1.51510595e-01   8.99148776e-02]\n",
      " [  1.00000000e+00   1.00000000e+00   1.00000000e+00   1.00000000e+00]\n",
      " [  4.44500336e-02   2.25966833e-02   4.15697612e-01   5.49873502e-03]\n",
      " [  1.57705936e-01  -1.74401997e-01   7.50917635e-01   4.97867570e-02]\n",
      " [ -1.00000000e+00  -1.00000000e+00  -1.00000000e+00  -1.00000000e+00]\n",
      " [  6.36393639e-04  -3.39228410e-03   1.55186056e-01  -2.93230692e-03]\n",
      " [ -3.87006439e-03   2.01921509e-01  -5.42407939e-03  -1.78645296e-03]\n",
      " [ -1.30538920e-02  -2.62087774e-02   4.35722999e-01   9.18807343e-03]\n",
      " [  1.46041357e-01  -2.72626419e-03  -1.50432675e-01  -2.07415314e-03]]\n",
      "[[ 0.7269991   0.75107371  0.73514853  0.70416665]\n",
      " [ 0.72884115  0.78054021  0.76281138  0.76344136]\n",
      " [ 0.77573499  0.81651291  0.77941966  0.42552569]\n",
      " [ 1.          1.          1.          1.        ]\n",
      " [ 0.69511574  0.69957325  0.73405508  0.67891531]\n",
      " [ 0.77540263 -0.78554644  0.80654549  0.63865782]\n",
      " [-1.         -1.         -1.         -1.        ]\n",
      " [ 0.68027537  0.65148964  0.72025483  0.66838324]\n",
      " [ 0.70572441  0.63633402  0.66661668  0.65046284]\n",
      " [ 0.67432883  0.60000168  0.49349264  0.61149341]\n",
      " [ 0.66552492  0.60197246 -1.0091236   0.59818344]]\n"
     ]
    }
   ],
   "source": [
    "# Q-learning using experience replay and target Q\n",
    "\n",
    "# import libraries\n",
    "import numpy as np\n",
    "from collections import deque\n",
    "import random\n",
    "\n",
    "# set parameters ###############################################################\n",
    "epoch_sarsa = 1000\n",
    "epoch_q_learning = 40000\n",
    "size_experience_replay = 1000\n",
    "number_of_sample_from_experience_replay = 20\n",
    "time_period_to_update_target_Q = 100\n",
    "gamma = 0.99\n",
    "alpha = 0.01\n",
    "epsilon = 0.01\n",
    "# set parameters ###############################################################\n",
    "\n",
    "# state\n",
    "states = [0,1,2,3,4,5,6,7,8,9,10]\n",
    "N_STATES = len(states)\n",
    "\n",
    "# action\n",
    "actions = [0,1,2,3] # left, right, up, down\n",
    "N_ACTIONS = len(actions)\n",
    "\n",
    "# policy\n",
    "policy = 0.25*np.ones((N_STATES, N_ACTIONS))\n",
    "\n",
    "# Q \n",
    "Q = np.zeros((N_STATES, N_ACTIONS))\n",
    "Q[3,:] = 1\n",
    "Q[6,:] = -1\n",
    "\n",
    "# rewards\n",
    "if True: # fuel-efficient robot\n",
    "    R = -0.02 * np.ones((N_STATES, N_ACTIONS))  \n",
    "else: # fuel-inefficient robot \n",
    "    R = -0.5 * np.ones((N_STATES, N_ACTIONS))  \n",
    "        \n",
    "# transition probabilities\n",
    "P = np.zeros((N_STATES, N_ACTIONS, N_STATES))  \n",
    "\n",
    "P[0, 0, :] = [1, 0, 0, 0, 0, 0, 0, 0, 0, 0, 0]\n",
    "P[0, 1, :] = [0, 1, 0, 0, 0, 0, 0, 0, 0, 0, 0]\n",
    "P[0, 2, :] = [1, 0, 0, 0, 0, 0, 0, 0, 0, 0, 0]\n",
    "P[0, 3, :] = [0, 0, 0, 0, 1, 0, 0, 0, 0, 0, 0]\n",
    "\n",
    "P[1, 0, :] = [0.9, 0, 0, 0, 0.1, 0, 0, 0, 0, 0, 0]\n",
    "P[1, 1, :] = [0, 0, 0.9, 0, 0, 0.1, 0, 0, 0, 0, 0]\n",
    "P[1, 2, :] = [0, 1, 0, 0, 0, 0, 0, 0, 0, 0, 0]\n",
    "P[1, 3, :] = [0, 1, 0, 0, 0, 0, 0, 0, 0, 0, 0]\n",
    "\n",
    "P[2, 0, :] = [0, 1, 0, 0, 0, 0, 0, 0, 0, 0, 0]\n",
    "P[2, 1, :] = [0, 0, 0, 0.9, 0, 0, 0.1, 0, 0, 0, 0]\n",
    "P[2, 2, :] = [0, 0, 1, 0, 0, 0, 0, 0, 0, 0, 0]\n",
    "P[2, 3, :] = [0, 0, 0, 0, 0, 0.9, 0.1, 0, 0, 0, 0]\n",
    "\n",
    "P[3, 0, :] = [0, 0, 0, 1, 0, 0, 0, 0, 0, 0, 0]\n",
    "P[3, 1, :] = [0, 0, 0, 1, 0, 0, 0, 0, 0, 0, 0]\n",
    "P[3, 2, :] = [0, 0, 0, 1, 0, 0, 0, 0, 0, 0, 0]\n",
    "P[3, 3, :] = [0, 0, 0, 1, 0, 0, 0, 0, 0, 0, 0]\n",
    "\n",
    "P[4, 0, :] = [0, 0, 0, 0, 1, 0, 0, 0, 0, 0, 0]\n",
    "P[4, 1, :] = [0, 0, 0, 0, 1, 0, 0, 0, 0, 0, 0]\n",
    "P[4, 2, :] = [0.9, 0.1, 0, 0, 0, 0, 0, 0, 0, 0, 0]\n",
    "P[4, 3, :] = [0, 0, 0, 0, 0, 0, 0, 0.9, 0.1, 0, 0]\n",
    "\n",
    "P[5, 0, :] = [0, 0, 0, 0, 0, 1, 0, 0, 0, 0, 0]\n",
    "P[5, 1, :] = [0, 0, 0, 0.1, 0, 0, 0.8, 0, 0, 0, 0.1]\n",
    "P[5, 2, :] = [0, 0.1, 0.8, 0.1, 0, 0, 0, 0, 0, 0, 0]\n",
    "P[5, 3, :] = [0, 0, 0, 0, 0, 0, 0, 0, 0.1, 0.8, 0.1]\n",
    "\n",
    "P[6, 0, :] = [0, 0, 0, 0, 0, 0, 1, 0, 0, 0, 0]\n",
    "P[6, 1, :] = [0, 0, 0, 0, 0, 0, 1, 0, 0, 0, 0]\n",
    "P[6, 2, :] = [0, 0, 0, 0, 0, 0, 1, 0, 0, 0, 0]\n",
    "P[6, 3, :] = [0, 0, 0, 0, 0, 0, 1, 0, 0, 0, 0]\n",
    "\n",
    "P[7, 0, :] = [0, 0, 0, 0, 0, 0, 0, 1, 0, 0, 0]\n",
    "P[7, 1, :] = [0, 0, 0, 0, 0, 0, 0, 0, 1, 0, 0]\n",
    "P[7, 2, :] = [0, 0, 0, 0, 1, 0, 0, 0, 0, 0, 0]\n",
    "P[7, 3, :] = [0, 0, 0, 0, 0, 0, 0, 1, 0, 0, 0]\n",
    "\n",
    "P[8, 0, :] = [0, 0, 0, 0, 0.1, 0, 0, 0.9, 0, 0, 0]\n",
    "P[8, 1, :] = [0, 0, 0, 0, 0, 0.1, 0, 0, 0, 0.9, 0]\n",
    "P[8, 2, :] = [0, 0, 0, 0, 0, 0, 0, 0, 1, 0, 0]\n",
    "P[8, 3, :] = [0, 0, 0, 0, 0, 0, 0, 0, 1, 0, 0]\n",
    "\n",
    "P[9, 0, :] = [0, 0, 0, 0, 0, 0, 0, 0, 1, 0, 0]\n",
    "P[9, 1, :] = [0, 0, 0, 0, 0, 0, 0.1, 0, 0, 0, 0.9]\n",
    "P[9, 2, :] = [0, 0, 0, 0, 0, 0.9, 0.1, 0, 0, 0, 0]\n",
    "P[9, 3, :] = [0, 0, 0, 0, 0, 0, 0, 0, 0, 1, 0]\n",
    "\n",
    "P[10, 0, :] = [0, 0, 0, 0, 0, 0.1, 0, 0, 0, 0.9, 0]\n",
    "P[10, 1, :] = [0, 0, 0, 0, 0, 0, 0, 0, 0, 0, 1]\n",
    "P[10, 2, :] = [0, 0, 0, 0, 0, 0.1, 0.9, 0, 0, 0, 0]\n",
    "P[10, 3, :] = [0, 0, 0, 0, 0, 0, 0, 0, 0, 0, 1]\n",
    "\n",
    "# define a function - sample_action \n",
    "def sample_action(policy_given_state):\n",
    "    policy_now = policy_given_state\n",
    "    cum_policy_now = np.cumsum(policy_now)\n",
    "    random_coin = np.random.random(1)\n",
    "    cum_policy_now_minus_random_coin = cum_policy_now - random_coin\n",
    "    return [n for n, i in enumerate(cum_policy_now_minus_random_coin) if i > 0][0]\n",
    "\n",
    "# define a function - sample_transition\n",
    "def sample_transition(transition_prob_given_state_and_action):\n",
    "    prob = transition_prob_given_state_and_action\n",
    "    cum_prob = np.cumsum(prob)\n",
    "    random_coin = np.random.random(1)\n",
    "    cum_prob_minus_random_coin = cum_prob - random_coin\n",
    "    return [n for n, i in enumerate(cum_prob_minus_random_coin) if i > 0][0]\n",
    "\n",
    "# make a memory for a deque of maxlen size_experience_replay for experience replay\n",
    "replay_meomory = deque(maxlen=size_experience_replay)\n",
    "\n",
    "# make a deque of maxlen size_experience_replay for experience replay\n",
    "for t in range(epoch_sarsa):\n",
    "    \n",
    "    # indicate game is not over yet\n",
    "    done = False\n",
    "    # choose initial state randomly\n",
    "    s = np.random.choice([0,1,2,4,5,7,8,9,10]) # 3 and 6 removed\n",
    "    # choose action using current policy\n",
    "    a = sample_action(policy_given_state=policy[s,:])\n",
    "\n",
    "    while not done:\n",
    "        # choose next state using transition probabilities\n",
    "        s1 = sample_transition(transition_prob_given_state_and_action=P[s, a, :])\n",
    "\n",
    "        # epsilon-greedy policy update\n",
    "        policy_now = np.zeros(N_ACTIONS)\n",
    "        m = np.argmax(Q[s1, :])\n",
    "        policy_now[m] = 1\n",
    "        policy_now = (policy_now + epsilon) / (1 + 4 * epsilon)\n",
    "\n",
    "        # choose action using epsilon-greedy policy\n",
    "        a1 = sample_action(policy_given_state=policy_now)\n",
    "        \n",
    "        # SARSA\n",
    "        Q[s,a] = Q[s,a] + alpha * (R[s,a] + gamma * Q[s1,a1] - Q[s,a])\n",
    "\n",
    "        # append current experience at the end of the deque and update the deque\n",
    "        replay_meomory.append([s,a,R[s,a],s1])\n",
    "\n",
    "        # if game is not over, continue playing game\n",
    "        if (s1 == 3) or (s1 == 6):\n",
    "            done = True\n",
    "        else:\n",
    "            s = s1\n",
    "            a = a1\n",
    "\n",
    "print(Q)\n",
    "\n",
    "# initialize target Q\n",
    "Q_target = Q\n",
    "\n",
    "# Q-learning using experience replay and target Q\n",
    "for t in range(epoch_q_learning):\n",
    "\n",
    "    # indicate game is not over yet\n",
    "    done = False\n",
    "    # choose initial state randomly\n",
    "    s = np.random.choice([0,1,2,4,5,7,8,9,10]) # 3 and 6 removed\n",
    "    # choose action using current policy\n",
    "    a = sample_action(policy_given_state=policy[s,:]) \n",
    "    \n",
    "    # time log to update target Q\n",
    "    time_log_to_update_target_Q = 0\n",
    "    \n",
    "    while not done:\n",
    "        # exploit - update Q-function using Q-learning with experience replay\n",
    "        # and\n",
    "        # explore - move according to updated epsilon-greedy policy\n",
    "        \n",
    "        # time log to update target Q\n",
    "        time_log_to_update_target_Q += 1\n",
    "        \n",
    "        # choose next state using transition probabilities\n",
    "        s1 = sample_transition(transition_prob_given_state_and_action=P[s,a,:])\n",
    "\n",
    "        # epsilon-greedy policy update\n",
    "        policy_now = np.zeros(N_ACTIONS)\n",
    "        m = np.argmax(Q[s1, :])\n",
    "        policy_now[m] = 1\n",
    "        policy_now = (policy_now + epsilon) / (1 + 4 * epsilon)\n",
    "\n",
    "        # choose action using epsilon-greedy policy\n",
    "        a1 = sample_action(policy_given_state=policy_now)\n",
    "        \n",
    "        # append current experience at the end of the deque and update the deque\n",
    "        replay_meomory.append([s, a, R[s, a], s1])\n",
    "\n",
    "        # Q-learning using experience replay and target Q\n",
    "        # choose number_of_sample_from_experience_replay experiences from the deque\n",
    "        sample = random.sample(replay_meomory, number_of_sample_from_experience_replay)\n",
    "        for i in range(number_of_sample_from_experience_replay):\n",
    "            # experience replay\n",
    "            replay = sample[i]\n",
    "            \n",
    "            # Q-learning\n",
    "            # Q[replay[0],replay[1]] = Q[replay[0],replay[1]] + \\\n",
    "            #                      alpha * (replay[2] + gamma * max(Q[replay[3],:]) - Q[replay[0],replay[1]])\n",
    "                \n",
    "            # Q-learning with target Q\n",
    "            Q[replay[0],replay[1]] = Q[replay[0],replay[1]] + \\\n",
    "                                 alpha * (replay[2] + gamma * max(Q_target[replay[3],:]) - Q[replay[0],replay[1]])\n",
    "                \n",
    "        # target Q update\n",
    "        if time_log_to_update_target_Q % time_period_to_update_target_Q == 0:\n",
    "            Q_target = Q\n",
    "\n",
    "        # if game is not over, continue playing game\n",
    "        if (s1 == 3) or (s1 == 6):\n",
    "            done = True\n",
    "        else:\n",
    "            s = s1\n",
    "            a = a1\n",
    "\n",
    "print(Q)"
   ]
  },
  {
   "cell_type": "markdown",
   "metadata": {
    "slideshow": {
     "slide_type": "slide"
    }
   },
   "source": [
    "# DQN\n",
    "\n",
    "DQN paper: https://www.nature.com/articles/nature14236\n",
    "\n",
    "DQN source code: https://sites.google.com/a/deepmind.com/dqn/\n",
    "\n",
    "<div align=\"center\"><img src=\"img/DQN Nature.png\" width=\"60%\" height=\"20%\"></div>\n",
    "\n",
    "\n",
    "\n"
   ]
  },
  {
   "cell_type": "markdown",
   "metadata": {
    "slideshow": {
     "slide_type": "subslide"
    }
   },
   "source": [
    "<div align=\"center\"><img src=\"img/Deep Reinforcement Learning in Atari.png\" width=\"60%\" height=\"20%\"></div>\n",
    "\n",
    "http://icml.cc/2016/tutorials/deep_rl_tutorial.pdf"
   ]
  },
  {
   "cell_type": "markdown",
   "metadata": {
    "slideshow": {
     "slide_type": "subslide"
    }
   },
   "source": [
    "<div align=\"center\"><img src=\"img/DQN in Atari.png\" width=\"60%\" height=\"20%\"></div>\n",
    "\n",
    "http://icml.cc/2016/tutorials/deep_rl_tutorial.pdf"
   ]
  },
  {
   "cell_type": "markdown",
   "metadata": {
    "slideshow": {
     "slide_type": "subslide"
    }
   },
   "source": [
    "<div align=\"center\"><img src=\"img/DQN Results in Atari.png\" width=\"60%\" height=\"20%\"></div>\n",
    "\n",
    "http://icml.cc/2016/tutorials/deep_rl_tutorial.pdf"
   ]
  },
  {
   "cell_type": "markdown",
   "metadata": {
    "slideshow": {
     "slide_type": "slide"
    }
   },
   "source": [
    "<div align=\"center\"><img src=\"img/Improvements since Nature DQN.png\" width=\"60%\" height=\"20%\"></div>\n",
    "\n",
    "http://icml.cc/2016/tutorials/deep_rl_tutorial.pdf"
   ]
  },
  {
   "cell_type": "markdown",
   "metadata": {
    "slideshow": {
     "slide_type": "subslide"
    }
   },
   "source": [
    "# Asynchronous Method\n",
    "\n",
    "최근에는 Asynchronous Method라는 방법으로 correlation을 없애줘서 Experience Replay를 대체한다고 한다. 간단히 Asynchronous Method를 설명하면 Thread를 통해서 여러개의 agent가 동시에 [state, action, reward, state’]를 수집한다. 그렇게 여러 agent가 동시에 수집한 데이터들은 서로 correlation이 없을 것이기 때문에 Experience Replay를 대체할 수 있으면서 더 빠르고 메모리도 절약할 수 있는 방법이라고 한다.\n",
    "\n",
    "http://www.phrgcm.com/blog/2016/08/17/deep-q-network/\n",
    "\n",
    "https://arxiv.org/pdf/1602.01783v2.pdf"
   ]
  },
  {
   "cell_type": "code",
   "execution_count": null,
   "metadata": {
    "collapsed": true
   },
   "outputs": [],
   "source": []
  }
 ],
 "metadata": {
  "celltoolbar": "Slideshow",
  "kernelspec": {
   "display_name": "Python 3",
   "language": "python",
   "name": "python3"
  },
  "language_info": {
   "codemirror_mode": {
    "name": "ipython",
    "version": 3
   },
   "file_extension": ".py",
   "mimetype": "text/x-python",
   "name": "python",
   "nbconvert_exporter": "python",
   "pygments_lexer": "ipython3",
   "version": "3.6.0"
  }
 },
 "nbformat": 4,
 "nbformat_minor": 2
}
