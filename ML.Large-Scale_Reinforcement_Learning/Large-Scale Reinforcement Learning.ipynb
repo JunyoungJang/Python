{
 "cells": [
  {
   "cell_type": "markdown",
   "metadata": {
    "collapsed": true,
    "slideshow": {
     "slide_type": "slide"
    }
   },
   "source": [
    "\n",
    "\n",
    "\n",
    "\n",
    "\n",
    "\n",
    "\n",
    "# Large-Scale Reinforcement Learning\n",
    " \n",
    "Sungchul Lee  \n",
    "\n",
    "\n"
   ]
  },
  {
   "cell_type": "markdown",
   "metadata": {
    "slideshow": {
     "slide_type": "subslide"
    }
   },
   "source": [
    "# References\n",
    "\n",
    "- Reinforcement Learning: 6 Value Function Approximation [David Silver](https://www.youtube.com/watch?v=UoPei5o4fps&index=6&list=PL7-jPKtc4r78-wCZcQn5IqyuWhBZ8fOxT) [local-slide](http://localhost:8888/notebooks/Dropbox/Paper/Reinforcement Learning by David Silver 6.pdf) [slide](http://www0.cs.ucl.ac.uk/staff/d.silver/web/Teaching_files/FA.pdf)\n",
    "\n",
    "- Tutorial: Deep Reinforcement Learning, ICML 2016 [David Silver](http://icml.cc/2016/tutorials/deep_rl_tutorial.pdf) [local-slide](http://localhost:8888/notebooks/Dropbox/Paper/deep_rl_tutorial.pdf)\n",
    "\n",
    "- Gradient Temporal Difference Networks [David Silver](http://proceedings.mlr.press/v24/silver12a/silver12a.pdf) [local-slide](http://localhost:8888/notebooks/Dropbox/Paper/silver12a.pdf) \n",
    "\n",
    "- Gradient Temporal-Difference Learning Algorithms [Hamid Maei](http://ai2-s2-pdfs.s3.amazonaws.com/9494/639c7d4cc4aad0842c18a26562903ca0c6f8.pdf) [local-slide](http://localhost:8888/notebooks/Dropbox/Paper/639c7d4cc4aad0842c18a26562903ca0c6f8.pdf) \n",
    "\n",
    "- Simple Reinforcement Learning with Tensorflow Part 4: Deep Q-Networks and Beyond [Arthur Juliani](https://medium.com/@awjuliani/simple-reinforcement-learning-with-tensorflow-part-4-deep-q-networks-and-beyond-8438a3e2b8df)\n",
    "\n",
    "- DQN [Lee Young Moo](http://www.phrgcm.com/blog/2016/08/17/deep-q-network/)\n",
    "\n",
    "- [Asynchronous Methods for Deep Reinforcement Learning](https://arxiv.org/pdf/1602.01783v2.pdf)\n",
    "\n",
    "- [PR-005: Playing Atari with Deep Reinforcement Learning (NIPS 2013 Deep Learning Workshop)](https://www.youtube.com/watch?v=V7_cNTfm2i8&t=4s&list=PLlMkM4tgfjnJhhd4wn5aj8fVTYJwIpWkS&index=6)\n",
    "\n",
    "- DQN [nalsil](https://github.com/nalsil/TensorFlow-Tutorials/tree/master/07%20-%20DQN)\n",
    "\n",
    "- Sung Kim [ReinforcementZeroToAll](https://github.com/hunkim/ReinforcementZeroToAll) [Lecture 6 Q-Network](https://www.youtube.com/watch?v=w9GwqPx7LW8&list=PLlMkM4tgfjnKsCWav-Z2F-MMFRx-2gMGG&index=11) [실습 6-1 Q Network for Frozen Lake](https://www.youtube.com/watch?v=Fcmgl8ow2Uc&index=12&list=PLlMkM4tgfjnKsCWav-Z2F-MMFRx-2gMGG) [실습 6-2 Q Network for Cart Pole](https://www.youtube.com/watch?v=MF_Wllw9VKk&list=PLlMkM4tgfjnKsCWav-Z2F-MMFRx-2gMGG&index=13) [Lecture 7: DQN](https://www.youtube.com/watch?v=S1Y9eys2bdg&list=PLlMkM4tgfjnKsCWav-Z2F-MMFRx-2gMGG&index=14) [실습 7-1 DQN 1 (NIPS 2013)](https://www.youtube.com/watch?v=Fbf9YUyDFww&index=15&list=PLlMkM4tgfjnKsCWav-Z2F-MMFRx-2gMGG) [실습 7-2 DQN 2 (Nature 2015)](https://www.youtube.com/watch?v=ByB49iDMiZE&list=PLlMkM4tgfjnKsCWav-Z2F-MMFRx-2gMGG&index=16) [실습 7-3 DQN Cart Pole Demo (with Music)!](https://www.youtube.com/watch?v=TdA0APWRCx0&index=17&list=PLlMkM4tgfjnKsCWav-Z2F-MMFRx-2gMGG) [실습 7-4 DQN Simple Pacman exercise example (with Music)!](https://www.youtube.com/watch?v=SJQEWgkvBvo&index=18&list=PLlMkM4tgfjnKsCWav-Z2F-MMFRx-2gMGG) [실습 8-3 DQN vs Policy Gradient on Simple Pacman (with Music)!](https://www.youtube.com/watch?v=M8RfOCYIL8k&index=19&list=PLlMkM4tgfjnKsCWav-Z2F-MMFRx-2gMGG)\n",
    "\n",
    "- Siraj Raval [How to use Q Learning in Video Games Easily](https://www.youtube.com/watch?v=A5eihauRQvo&t=91s) [Deep Q Learning for Video Games - The Math of Intelligence #9](https://www.youtube.com/watch?v=79pmNdyxEGo)\n",
    "\n",
    "- Hvass Laboratories [TensorFlow Tutorial #16 Reinforcement Learning](https://www.youtube.com/watch?v=Vz5l886eptw) [code](https://github.com/Hvass-Labs/TensorFlow-Tutorials/blob/master/16_Reinforcement_Learning.ipynb)\n",
    "\n",
    "- Richard Sutton [Tutorial: Introduction to Reinforcement Learning with Function Approximation](https://www.youtube.com/watch?v=ggqnxyjaKe4)\n",
    "\n",
    "- Richard Sutton [The Long-term of AI & Temporal-Difference Learning](https://www.youtube.com/watch?v=EeMCEQa85tw)\n",
    "\n",
    "- Shane M. Conway [Introduction to Reinforcement Learning](https://www.youtube.com/watch?v=xa6AHMoND6E) \n",
    "\n"
   ]
  },
  {
   "cell_type": "markdown",
   "metadata": {
    "slideshow": {
     "slide_type": "subslide"
    }
   },
   "source": [
    "# How to run these slides yourself\n",
    "\n",
    "**Setup python environment**\n",
    "\n",
    "- Install RISE for an interactive presentation viewer"
   ]
  },
  {
   "cell_type": "markdown",
   "metadata": {
    "slideshow": {
     "slide_type": "slide"
    }
   },
   "source": [
    "# Large-Scale Reinforcement Learning\n",
    "\n"
   ]
  },
  {
   "cell_type": "markdown",
   "metadata": {
    "slideshow": {
     "slide_type": "fragment"
    }
   },
   "source": [
    "<div align=\"center\"><img src=\"img/201701052205399322_t.jpg\" width=\"90%\" height=\"20%\"></div>\n",
    "\n",
    "http://image.ytn.co.kr/general/jpg/2017/0105/201701052205399322_t.jpg"
   ]
  },
  {
   "cell_type": "markdown",
   "metadata": {
    "slideshow": {
     "slide_type": "fragment"
    }
   },
   "source": [
    "### Question\n",
    "\n",
    "How many states in Comupter Go?"
   ]
  },
  {
   "cell_type": "markdown",
   "metadata": {
    "slideshow": {
     "slide_type": "subslide"
    }
   },
   "source": [
    "<div align=\"center\"><img src=\"img/Large-Scale Reinforcement Learning.png\" width=\"90%\" height=\"100%\"></div>\n",
    "\n",
    "http://www0.cs.ucl.ac.uk/staff/d.silver/web/Teaching_files/FA.pdf"
   ]
  },
  {
   "cell_type": "markdown",
   "metadata": {
    "slideshow": {
     "slide_type": "slide"
    }
   },
   "source": [
    "# Function Approximation\n",
    "\n",
    "<div align=\"center\"><img src=\"img/Value Function Approximation.png\" width=\"90%\" height=\"20%\"></div>\n",
    "\n",
    "http://www0.cs.ucl.ac.uk/staff/d.silver/web/Teaching_files/FA.pdf"
   ]
  },
  {
   "cell_type": "markdown",
   "metadata": {
    "slideshow": {
     "slide_type": "subslide"
    }
   },
   "source": [
    "# Types of Function Approximation\n",
    "\n",
    "<div align=\"center\"><img src=\"img/Types of Value Function Approximation.png\" width=\"90%\" height=\"20%\"></div>\n",
    "\n",
    "http://www0.cs.ucl.ac.uk/staff/d.silver/web/Teaching_files/FA.pdf"
   ]
  },
  {
   "cell_type": "markdown",
   "metadata": {
    "slideshow": {
     "slide_type": "slide"
    }
   },
   "source": [
    "# Value Function Approximation "
   ]
  },
  {
   "cell_type": "markdown",
   "metadata": {
    "slideshow": {
     "slide_type": "fragment"
    }
   },
   "source": [
    "### Goal\n",
    "\n",
    "Find ${\\bf w}$ minimizing\n",
    "$$\n",
    "J({\\bf w})=\\mathbb{E}_\\pi\\left(v_\\pi(S)-v_{\\bf w}(S)\\right)^2\n",
    "$$"
   ]
  },
  {
   "cell_type": "markdown",
   "metadata": {
    "slideshow": {
     "slide_type": "fragment"
    }
   },
   "source": [
    "### Stochastic gradient descent - Need oracle to tell $v_\\pi(S)$\n",
    "$$\\begin{array}{lllllll}\n",
    "\\mbox{GD}&\n",
    "\\Delta{\\bf w}\n",
    "&=&\\alpha&\\mathbb{E}_\\pi&\\left(v_\\pi(S)-v_{\\bf w}(S)\\right)\\nabla_{\\bf w}v_{\\bf w}(S)\\\\\n",
    "\\mbox{SGD}&\n",
    "\\Delta{\\bf w}\n",
    "&=&\\alpha&&\\left(v_\\pi(S_t)-v_{\\bf w}(S_t)\\right)\\nabla_{\\bf w}v_{\\bf w}(S_t)\n",
    "\\end{array}$$"
   ]
  },
  {
   "cell_type": "markdown",
   "metadata": {
    "slideshow": {
     "slide_type": "subslide"
    }
   },
   "source": [
    "### Incremental Method - No need oracle\n",
    "\n",
    "$$\\begin{array}{llllll}\n",
    "\\mbox{MC}&\\Delta{\\bf w}&=&\\alpha&\\left(G_t-v_{\\bf w}(S_t)\\right)&\\nabla_{\\bf w}v_{\\bf w}(S_t)\\\\\n",
    "\\mbox{TD}&\\Delta{\\bf w}&=&\\alpha&\\left(R_{t+1}+\\gamma v_{\\bf w}(S_{t+1}) -v_{\\bf w}(S_t)\\right)&\\nabla_{\\bf w}v_{\\bf w}(S_t)\\\\\n",
    "\\end{array}$$"
   ]
  },
  {
   "cell_type": "markdown",
   "metadata": {
    "slideshow": {
     "slide_type": "subslide"
    }
   },
   "source": [
    "### Incremental Method - Linear Approximation"
   ]
  },
  {
   "cell_type": "markdown",
   "metadata": {
    "slideshow": {
     "slide_type": "fragment"
    }
   },
   "source": [
    "- Represent state by a feature vector\n",
    "$$\n",
    "{\\bf x}(S)=\\left(\\begin{array}{c}\n",
    "{\\bf x}_1(S)\\\\\n",
    "\\vdots\\\\\n",
    "{\\bf x}_n(S)\n",
    "\\end{array}\\right)$$"
   ]
  },
  {
   "cell_type": "markdown",
   "metadata": {
    "slideshow": {
     "slide_type": "fragment"
    }
   },
   "source": [
    "- Linear Value Function Approximation\n",
    "$$\n",
    "v_{\\bf w}(S)={\\bf x}(S)^T {\\bf w}\n",
    "$$"
   ]
  },
  {
   "cell_type": "markdown",
   "metadata": {
    "slideshow": {
     "slide_type": "fragment"
    }
   },
   "source": [
    "- Incremental Prediction\n",
    "\n",
    "$$\\begin{array}{llllll}\n",
    "\\mbox{MC}&\\Delta{\\bf w}&=&\\alpha&\\left(G_t-v_{\\bf w}(S_t)\\right)&{\\bf x}(S_t)\\\\\n",
    "\\mbox{TD}&\\Delta{\\bf w}&=&\\alpha&\\left(R_{t+1}+\\gamma v_{\\bf w}(S_{t+1}) -v_{\\bf w}(S_t)\\right)&{\\bf x}(S_t)\\\\\n",
    "\\mbox{TD}(\\lambda)&\\Delta{\\bf w}&=&\\alpha&\\left(R_{t+1}+\\gamma v_{\\bf w}(S_{t+1}) -v_{\\bf w}(S_t)\\right)&(\\gamma\\lambda E_{t−1}+{\\bf x}(S_t))\\\\\n",
    "\\end{array}$$"
   ]
  },
  {
   "cell_type": "markdown",
   "metadata": {
    "slideshow": {
     "slide_type": "slide"
    }
   },
   "source": [
    "# Action-Value Function Approximation "
   ]
  },
  {
   "cell_type": "markdown",
   "metadata": {
    "slideshow": {
     "slide_type": "fragment"
    }
   },
   "source": [
    "### Goal\n",
    "\n",
    "Find ${\\bf w}$ minimizing\n",
    "$$\n",
    "J({\\bf w})=\\mathbb{E}_\\pi\\left(q_\\pi(S,A)-q_{\\bf w}(S,A)\\right)^2\n",
    "$$"
   ]
  },
  {
   "cell_type": "markdown",
   "metadata": {
    "slideshow": {
     "slide_type": "fragment"
    }
   },
   "source": [
    "### SGD - Need oracle to tell $q_\\pi(S,A)$\n",
    "$$\\begin{array}{llllllll}\n",
    "\\mbox{Gradient descent}&\n",
    "\\Delta{\\bf w}\n",
    "&=&\\alpha&\\mathbb{E}_\\pi&\\left(q_\\pi(S,A)-q_{\\bf w}(S,A)\\right)\\nabla_{\\bf w}q_{\\bf w}(S,A)\\\\\n",
    "\\mbox{Stochastic gradient descent}&\n",
    "\\Delta{\\bf w}\n",
    "&=&\\alpha&&\\left(q_\\pi(S_t,A_t)-q_{\\bf w}(S_t,A_t)\\right)\\nabla_{\\bf w}q_{\\bf w}(S_t,A_t)\n",
    "\\end{array}$$"
   ]
  },
  {
   "cell_type": "markdown",
   "metadata": {
    "slideshow": {
     "slide_type": "subslide"
    }
   },
   "source": [
    "### Incremental Method - No need oracle\n",
    "\n",
    "$$\\begin{array}{llllll}\n",
    "\\mbox{MC}&\\Delta{\\bf w}&=&\\alpha&\\left(G_t-q_{\\bf w}(S_t,A_t)\\right)&\\nabla_{\\bf w}q_{\\bf w}(S_t,A_t)\\\\\n",
    "\\mbox{TD}&\\Delta{\\bf w}&=&\\alpha&\\left(R_{t+1}+\\gamma q_{\\bf w}(S_{t+1},A_{t+1}) -q_{\\bf w}(S_t,A_t)\\right)&\\nabla_{\\bf w}q_{\\bf w}(S_t,A_t)\\\\\n",
    "\\end{array}$$"
   ]
  },
  {
   "cell_type": "markdown",
   "metadata": {
    "slideshow": {
     "slide_type": "subslide"
    }
   },
   "source": [
    "### Incremental Method - Linear Approximation"
   ]
  },
  {
   "cell_type": "markdown",
   "metadata": {
    "slideshow": {
     "slide_type": "fragment"
    }
   },
   "source": [
    "- Represent state by a feature vector\n",
    "$$\n",
    "{\\bf x}(S,A)=\\left(\\begin{array}{c}\n",
    "{\\bf x}_1(S,A)\\\\\n",
    "\\vdots\\\\\n",
    "{\\bf x}_n(S,A)\n",
    "\\end{array}\\right)$$"
   ]
  },
  {
   "cell_type": "markdown",
   "metadata": {
    "slideshow": {
     "slide_type": "fragment"
    }
   },
   "source": [
    "- Linear Value Function Approximation\n",
    "$$\n",
    "q_{\\bf w}(S,A)={\\bf x}(S,A)^T {\\bf w}\n",
    "$$"
   ]
  },
  {
   "cell_type": "markdown",
   "metadata": {
    "slideshow": {
     "slide_type": "fragment"
    }
   },
   "source": [
    "- Incremental Prediction\n",
    "\n",
    "$$\\begin{array}{llllll}\n",
    "\\mbox{MC}&\\Delta{\\bf w}&=&\\alpha&\\left(G_t-q_{\\bf w}(S_t,A_t)\\right)&{\\bf x}(S_t,A_t)\\\\\n",
    "\\mbox{TD}&\\Delta{\\bf w}&=&\\alpha&\\left(R_{t+1}+\\gamma q_{\\bf w}(S_{t+1},A_{t+1}) -q_{\\bf w}(S_t,A_t)\\right)&{\\bf x}(S_t,A_t)\\\\\n",
    "\\mbox{Q}&\\Delta{\\bf w}&=&\\alpha&\\left(R_{t+1}+\\gamma \\mbox{max}_{a'}q_{\\bf w}(S_{t+1},a') -q_{\\bf w}(S_t,A_t)\\right)&{\\bf x}(S_t,A_t)\\\\\n",
    "\\mbox{TD}(\\lambda)&\\Delta{\\bf w}&=&\\alpha&\\left(R_{t+1}+\\gamma q_{\\bf w}(S_{t+1},A_{t+1}) -q_{\\bf w}(S_t,A_t)\\right)&(\\gamma\\lambda E_{t−1}+{\\bf x}(S_t,A_t))\\\\\n",
    "\\end{array}$$"
   ]
  },
  {
   "cell_type": "markdown",
   "metadata": {
    "slideshow": {
     "slide_type": "slide"
    }
   },
   "source": [
    "# DQN\n",
    "\n",
    "DQN paper: https://www.nature.com/articles/nature14236\n",
    "\n",
    "DQN source code: https://sites.google.com/a/deepmind.com/dqn/\n",
    "\n",
    "<div align=\"center\"><img src=\"img/DQN Nature.png\" width=\"60%\" height=\"20%\"></div>"
   ]
  },
  {
   "cell_type": "markdown",
   "metadata": {
    "slideshow": {
     "slide_type": "subslide"
    }
   },
   "source": [
    "<div align=\"center\"><img src=\"img/Deep Reinforcement Learning in Atari.png\" width=\"60%\" height=\"20%\"></div>\n",
    "\n",
    "http://icml.cc/2016/tutorials/deep_rl_tutorial.pdf"
   ]
  },
  {
   "cell_type": "markdown",
   "metadata": {
    "slideshow": {
     "slide_type": "subslide"
    }
   },
   "source": [
    "<div align=\"center\"><img src=\"img/breakout.gif\" width=\"30%\" height=\"30%\"></div>\n",
    "\n",
    "http://ikuz.eu/wp-content/uploads/2015/02/breakout.gif\n",
    "\n",
    "DQN Breakout [DeepMind](https://www.youtube.com/watch?v=TmPfTpjtdgg)"
   ]
  },
  {
   "cell_type": "markdown",
   "metadata": {
    "slideshow": {
     "slide_type": "subslide"
    }
   },
   "source": [
    "<div align=\"center\"><img src=\"img/DQN in Atari.png\" width=\"60%\" height=\"20%\"></div>\n",
    "\n",
    "http://icml.cc/2016/tutorials/deep_rl_tutorial.pdf"
   ]
  },
  {
   "cell_type": "markdown",
   "metadata": {
    "slideshow": {
     "slide_type": "subslide"
    }
   },
   "source": [
    "<div align=\"center\"><img src=\"img/DQN Results in Atari.png\" width=\"60%\" height=\"20%\"></div>\n",
    "\n",
    "http://icml.cc/2016/tutorials/deep_rl_tutorial.pdf"
   ]
  },
  {
   "cell_type": "markdown",
   "metadata": {
    "slideshow": {
     "slide_type": "subslide"
    }
   },
   "source": [
    "<div align=\"center\"><img src=\"img/Experience Replay in Deep Q-Networks.png\" width=\"60%\" height=\"20%\"></div>\n",
    "\n",
    "http://icml.cc/2016/tutorials/deep_rl_tutorial.pdf"
   ]
  },
  {
   "cell_type": "markdown",
   "metadata": {
    "slideshow": {
     "slide_type": "subslide"
    }
   },
   "source": [
    "# Why DQN works"
   ]
  },
  {
   "cell_type": "markdown",
   "metadata": {
    "slideshow": {
     "slide_type": "fragment"
    }
   },
   "source": [
    "- Going from a single-layer network to a multi-layer convolutional network to approximate the Q function."
   ]
  },
  {
   "cell_type": "markdown",
   "metadata": {
    "slideshow": {
     "slide_type": "fragment"
    }
   },
   "source": [
    "- Implementing Experience Replay, which will allow our network to train itself using stored memories from it’s experience.\n"
   ]
  },
  {
   "cell_type": "markdown",
   "metadata": {
    "slideshow": {
     "slide_type": "fragment"
    }
   },
   "source": [
    "- Utilizing a second “target” network, which we will use to compute target Q-values during our updates.\n",
    "\n",
    "https://medium.com/@awjuliani/simple-reinforcement-learning-with-tensorflow-part-4-deep-q-networks-and-beyond-8438a3e2b8df"
   ]
  },
  {
   "cell_type": "markdown",
   "metadata": {
    "slideshow": {
     "slide_type": "slide"
    }
   },
   "source": [
    "# How to make a one hot encode function"
   ]
  },
  {
   "cell_type": "code",
   "execution_count": 3,
   "metadata": {
    "collapsed": false,
    "slideshow": {
     "slide_type": "fragment"
    }
   },
   "outputs": [
    {
     "name": "stdout",
     "output_type": "stream",
     "text": [
      "[[ 1.  0.  0.  0.  0.  0.  0.  0.  0.  0.  0.]\n",
      " [ 0.  1.  0.  0.  0.  0.  0.  0.  0.  0.  0.]\n",
      " [ 0.  0.  1.  0.  0.  0.  0.  0.  0.  0.  0.]\n",
      " [ 0.  0.  0.  1.  0.  0.  0.  0.  0.  0.  0.]\n",
      " [ 0.  0.  0.  0.  1.  0.  0.  0.  0.  0.  0.]\n",
      " [ 0.  0.  0.  0.  0.  1.  0.  0.  0.  0.  0.]\n",
      " [ 0.  0.  0.  0.  0.  0.  1.  0.  0.  0.  0.]\n",
      " [ 0.  0.  0.  0.  0.  0.  0.  1.  0.  0.  0.]\n",
      " [ 0.  0.  0.  0.  0.  0.  0.  0.  1.  0.  0.]\n",
      " [ 0.  0.  0.  0.  0.  0.  0.  0.  0.  1.  0.]\n",
      " [ 0.  0.  0.  0.  0.  0.  0.  0.  0.  0.  1.]]\n"
     ]
    }
   ],
   "source": [
    "import numpy as np\n",
    "\n",
    "a = np.identity(11)\n",
    "print(a)"
   ]
  },
  {
   "cell_type": "code",
   "execution_count": 4,
   "metadata": {
    "collapsed": false,
    "slideshow": {
     "slide_type": "fragment"
    }
   },
   "outputs": [
    {
     "name": "stdout",
     "output_type": "stream",
     "text": [
      "[[ 0.  0.  0.  1.  0.  0.  0.  0.  0.  0.  0.]]\n"
     ]
    }
   ],
   "source": [
    "import numpy as np\n",
    "\n",
    "a = np.identity(11)\n",
    "print(a[3:3+1])"
   ]
  },
  {
   "cell_type": "code",
   "execution_count": 5,
   "metadata": {
    "collapsed": false,
    "slideshow": {
     "slide_type": "subslide"
    }
   },
   "outputs": [
    {
     "name": "stdout",
     "output_type": "stream",
     "text": [
      "[[ 0.  0.  0.  1.  0.  0.  0.  0.  0.  0.  0.]]\n"
     ]
    }
   ],
   "source": [
    "import numpy as np\n",
    "\n",
    "def one_hot(state):\n",
    "    a = np.identity(11)\n",
    "    return a[state:state+1]\n",
    "\n",
    "a = one_hot(3)\n",
    "print(a)"
   ]
  },
  {
   "cell_type": "markdown",
   "metadata": {
    "collapsed": true,
    "slideshow": {
     "slide_type": "slide"
    }
   },
   "source": [
    "# DQN "
   ]
  },
  {
   "cell_type": "markdown",
   "metadata": {
    "slideshow": {
     "slide_type": "fragment"
    }
   },
   "source": [
    "<div align=\"center\"><img src=\"img/DQN result 1.png\" width=\"40%\" height=\"20%\"></div>"
   ]
  },
  {
   "cell_type": "markdown",
   "metadata": {
    "slideshow": {
     "slide_type": "fragment"
    }
   },
   "source": [
    "<div align=\"center\"><img src=\"img/DQN result 2.png\" width=\"40%\" height=\"20%\"></div>"
   ]
  },
  {
   "cell_type": "code",
   "execution_count": 7,
   "metadata": {
    "collapsed": false
   },
   "outputs": [
    {
     "name": "stderr",
     "output_type": "stream",
     "text": [
      "Initial Burning Period\n",
      "Training Start\n",
      "Episode  100\n",
      "Episode  200\n",
      "Episode  300\n",
      "Episode  400\n",
      "Episode  500\n",
      "Episode  600\n",
      "Episode  700\n",
      "Episode  800\n",
      "Episode  900\n",
      "Episode  1000\n",
      "Episode  1100\n",
      "Episode  1200\n",
      "Episode  1300\n",
      "Episode  1400\n",
      "Episode  1500\n",
      "Episode  1600\n",
      "Episode  1700\n",
      "Episode  1800\n",
      "Episode  1900\n",
      "Episode  2000\n",
      "Episode  2100\n",
      "Episode  2200\n",
      "Episode  2300\n",
      "Episode  2400\n",
      "Episode  2500\n",
      "Episode  2600\n",
      "Episode  2700\n",
      "Episode  2800\n",
      "Episode  2900\n",
      "Episode  3000\n",
      "Episode  3100\n",
      "Episode  3200\n",
      "Episode  3300\n",
      "Episode  3400\n",
      "Episode  3500\n",
      "Episode  3600\n",
      "Episode  3700\n",
      "Episode  3800\n",
      "Episode  3900\n",
      "Episode  4000\n",
      "Episode  4100\n",
      "Episode  4200\n",
      "Episode  4300\n",
      "Episode  4400\n",
      "Episode  4500\n",
      "Episode  4600\n",
      "Episode  4700\n",
      "Episode  4800\n",
      "Episode  4900\n",
      "Episode  5000\n",
      "Episode  5100\n",
      "Episode  5200\n",
      "Episode  5300\n",
      "Episode  5400\n",
      "Episode  5500\n",
      "Episode  5600\n",
      "Episode  5700\n",
      "Episode  5800\n",
      "Episode  5900\n",
      "Episode  6000\n",
      "Episode  6100\n",
      "Episode  6200\n",
      "Episode  6300\n",
      "Episode  6400\n",
      "Episode  6500\n",
      "Episode  6600\n",
      "Episode  6700\n",
      "Episode  6800\n",
      "Episode  6900\n",
      "Episode  7000\n",
      "Episode  7100\n",
      "Episode  7200\n",
      "Episode  7300\n",
      "Episode  7400\n",
      "Episode  7500\n",
      "Episode  7600\n",
      "Episode  7700\n",
      "Episode  7800\n",
      "Episode  7900\n",
      "Episode  8000\n",
      "Episode  8100\n",
      "Episode  8200\n",
      "Episode  8300\n",
      "Episode  8400\n",
      "Episode  8500\n",
      "Episode  8600\n",
      "Episode  8700\n",
      "Episode  8800\n",
      "Episode  8900\n",
      "Episode  9000\n",
      "Episode  9100\n",
      "Episode  9200\n",
      "Episode  9300\n",
      "Episode  9400\n",
      "Episode  9500\n",
      "Episode  9600\n",
      "Episode  9700\n",
      "Episode  9800\n",
      "Episode  9900\n",
      "Episode  10000\n"
     ]
    },
    {
     "data": {
      "image/png": "[encoded data removed]",
      "text/plain": [
       "<matplotlib.figure.Figure at 0x1161ab860>"
      ]
     },
     "metadata": {},
     "output_type": "display_data"
    },
    {
     "data": {
      "image/png": "[encoded data removed]",
      "text/plain": [
       "<matplotlib.figure.Figure at 0x116308358>"
      ]
     },
     "metadata": {},
     "output_type": "display_data"
    }
   ],
   "source": [
    "# DQN\n",
    "\n",
    "# env.py #########################################################################\n",
    "# this part is identical to ./dqn_winterschool/env.py\n",
    "\n",
    "import numpy as np\n",
    "\n",
    "class ENVIRONMENT:\n",
    "    def __init__(self):\n",
    "        \n",
    "        \" States and Actions \"\n",
    "        self._states = [0, 1, 2, 3, 4, 5, 6, 7, 8, 9, 10]\n",
    "        self._actions = [0, 1, 2, 3]\n",
    "        self._num_state = len(self._states)\n",
    "        self._num_action = len(self._actions)\n",
    "\n",
    "        # \"state 3\" : (terminal-state) +1 reward\n",
    "        # \"state 6\" : (terminal-state) -1 reward\n",
    "        self._terminal_state = [3, 6]\n",
    "\n",
    "        \" Transition self._Probabilities \"\n",
    "        self._P = np.zeros((self._num_state, self._num_action, self._num_state))\n",
    "\n",
    "        self._P[0, 0, :] = [1, 0, 0, 0, 0, 0, 0, 0, 0, 0, 0]\n",
    "        self._P[0, 1, :] = [0, 1, 0, 0, 0, 0, 0, 0, 0, 0, 0]\n",
    "        self._P[0, 2, :] = [1, 0, 0, 0, 0, 0, 0, 0, 0, 0, 0]\n",
    "        self._P[0, 3, :] = [0, 0, 0, 0, 1, 0, 0, 0, 0, 0, 0]\n",
    "\n",
    "        self._P[1, 0, :] = [0.9, 0, 0, 0, 0.1, 0, 0, 0, 0, 0, 0]\n",
    "        self._P[1, 1, :] = [0, 0, 0.9, 0, 0, 0.1, 0, 0, 0, 0, 0]\n",
    "        self._P[1, 2, :] = [0, 1, 0, 0, 0, 0, 0, 0, 0, 0, 0]\n",
    "        self._P[1, 3, :] = [0, 1, 0, 0, 0, 0, 0, 0, 0, 0, 0]\n",
    "\n",
    "        self._P[2, 0, :] = [0, 1, 0, 0, 0, 0, 0, 0, 0, 0, 0]\n",
    "        self._P[2, 1, :] = [0, 0, 0, 0.9, 0, 0, 0.1, 0, 0, 0, 0]\n",
    "        self._P[2, 2, :] = [0, 0, 1, 0, 0, 0, 0, 0, 0, 0, 0]\n",
    "        self._P[2, 3, :] = [0, 0, 0, 0, 0, 0.9, 0.1, 0, 0, 0, 0]\n",
    "\n",
    "        self._P[3, 0, :] = [0, 0, 0, 1, 0, 0, 0, 0, 0, 0, 0]\n",
    "        self._P[3, 1, :] = [0, 0, 0, 1, 0, 0, 0, 0, 0, 0, 0]\n",
    "        self._P[3, 2, :] = [0, 0, 0, 1, 0, 0, 0, 0, 0, 0, 0]\n",
    "        self._P[3, 3, :] = [0, 0, 0, 1, 0, 0, 0, 0, 0, 0, 0]\n",
    "\n",
    "        self._P[4, 0, :] = [0, 0, 0, 0, 1, 0, 0, 0, 0, 0, 0]\n",
    "        self._P[4, 1, :] = [0, 0, 0, 0, 1, 0, 0, 0, 0, 0, 0]\n",
    "        self._P[4, 2, :] = [0.9, 0.1, 0, 0, 0, 0, 0, 0, 0, 0, 0]\n",
    "        self._P[4, 3, :] = [0, 0, 0, 0, 0, 0, 0, 0.9, 0.1, 0, 0]\n",
    "\n",
    "        self._P[5, 0, :] = [0, 0, 0, 0, 0, 1, 0, 0, 0, 0, 0]\n",
    "        self._P[5, 1, :] = [0, 0, 0, 0.1, 0, 0, 0.8, 0, 0, 0, 0.1]\n",
    "        self._P[5, 2, :] = [0, 0.1, 0.8, 0.1, 0, 0, 0, 0, 0, 0, 0]\n",
    "        self._P[5, 3, :] = [0, 0, 0, 0, 0, 0, 0, 0, 0.1, 0.8, 0.1]\n",
    "\n",
    "        self._P[6, 0, :] = [0, 0, 0, 0, 0, 0, 1, 0, 0, 0, 0]\n",
    "        self._P[6, 1, :] = [0, 0, 0, 0, 0, 0, 1, 0, 0, 0, 0]\n",
    "        self._P[6, 2, :] = [0, 0, 0, 0, 0, 0, 1, 0, 0, 0, 0]\n",
    "        self._P[6, 3, :] = [0, 0, 0, 0, 0, 0, 1, 0, 0, 0, 0]\n",
    "\n",
    "        self._P[7, 0, :] = [0, 0, 0, 0, 0, 0, 0, 1, 0, 0, 0]\n",
    "        self._P[7, 1, :] = [0, 0, 0, 0, 0, 0, 0, 0, 1, 0, 0]\n",
    "        self._P[7, 2, :] = [0, 0, 0, 0, 1, 0, 0, 0, 0, 0, 0]\n",
    "        self._P[7, 3, :] = [0, 0, 0, 0, 0, 0, 0, 1, 0, 0, 0]\n",
    "\n",
    "        self._P[8, 0, :] = [0, 0, 0, 0, 0.1, 0, 0, 0.9, 0, 0, 0]\n",
    "        self._P[8, 1, :] = [0, 0, 0, 0, 0, 0.1, 0, 0, 0, 0.9, 0]\n",
    "        self._P[8, 2, :] = [0, 0, 0, 0, 0, 0, 0, 0, 1, 0, 0]\n",
    "        self._P[8, 3, :] = [0, 0, 0, 0, 0, 0, 0, 0, 1, 0, 0]\n",
    "\n",
    "        self._P[9, 0, :] = [0, 0, 0, 0, 0, 0, 0, 0, 1, 0, 0]\n",
    "        self._P[9, 1, :] = [0, 0, 0, 0, 0, 0, 0.1, 0, 0, 0, 0.9]\n",
    "        self._P[9, 2, :] = [0, 0, 0, 0, 0, 0.9, 0.1, 0, 0, 0, 0]\n",
    "        self._P[9, 3, :] = [0, 0, 0, 0, 0, 0, 0, 0, 0, 1, 0]\n",
    "\n",
    "        self._P[10, 0, :] = [0, 0, 0, 0, 0, 0.1, 0, 0, 0, 0.9, 0]\n",
    "        self._P[10, 1, :] = [0, 0, 0, 0, 0, 0, 0, 0, 0, 0, 1]\n",
    "        self._P[10, 2, :] = [0, 0, 0, 0, 0, 0.1, 0.9, 0, 0, 0, 0]\n",
    "        self._P[10, 3, :] = [0, 0, 0, 0, 0, 0, 0, 0, 0, 0, 1]\n",
    "\n",
    "        \" Current State\"\n",
    "        self._current_state = None\n",
    "        \n",
    "    def reset(self):\n",
    "        # Terminal-state cannot be an initial state.\n",
    "        initial_state = np.random.choice([0, 1, 2, 4, 5, 7, 8, 9, 10])\n",
    "        self._current_state = initial_state\n",
    "        return initial_state\n",
    "\n",
    "    def step(self, action):\n",
    "        if self._current_state is None:\n",
    "            raise ValueError(\"Current State must be initialized\")\n",
    "        if self._current_state in self._terminal_state:\n",
    "            raise ValueError(\"Current State is at the terminal state\")\n",
    "\n",
    "        action = int(action)\n",
    "        reward = -0.02\n",
    "        done = False\n",
    "        state = np.random.choice(self._num_state, 1, p=self._P[self._current_state, action])[0]\n",
    "        if state == self._terminal_state[0]:\n",
    "            reward += 1.0\n",
    "            done = True\n",
    "        if state == self._terminal_state[1]:\n",
    "            reward += -1.0\n",
    "            done = True\n",
    "\n",
    "        self._current_state = state\n",
    "\n",
    "        return state, reward, done\n",
    "\n",
    "    def action_sample(self):\n",
    "        return np.random.randint(0, self._num_action)\n",
    "\n",
    "    @property\n",
    "    def num_state(self):\n",
    "        return self._num_state\n",
    "\n",
    "    @property\n",
    "    def num_action(self):\n",
    "        return self._num_action\n",
    "\n",
    "    @property\n",
    "    def win_state(self):\n",
    "        return self._terminal_state[0]\n",
    "\n",
    "    @property\n",
    "    def lose_state(self):\n",
    "        return self._terminal_state[1]\n",
    "    \n",
    "# ops.py #########################################################################\n",
    "# this part is identical to ./dqn_winterschool/ops.py\n",
    "\n",
    "import numpy as np\n",
    "\n",
    "def one_hot_encode(states, num_states):\n",
    "    \"\"\"\n",
    "\n",
    "    :param states: list or 1D numpy array, ie: [1,2,5,7]\n",
    "    :param num_states: integer; number of states\n",
    "    :return: numpy 2D array using one-hot encoding.\n",
    "    \"\"\"\n",
    "\n",
    "    num_encoding = len(states)\n",
    "    encoding = np.zeros([num_encoding, num_states])\n",
    "    encoding[np.arange(num_encoding), states] = 1\n",
    "\n",
    "    return encoding\n",
    "\n",
    "# dqn.py #########################################################################\n",
    "# this part is modified from ./dqn_winterschool/dqn.py\n",
    "# 1. We commented out two import lines:\n",
    "#    # from env import ENVIRONMENT\n",
    "#    # import ops\n",
    "# 2. Due to the first modification, we have to change all ops.one_hot_encode(...) \n",
    "#    ops.one_hot_encode(...)  ---> one_hot_encode(...) \n",
    "\n",
    "import numpy as np\n",
    "import random\n",
    "import matplotlib.pyplot as plt\n",
    "from copy import deepcopy\n",
    "from collections import deque, namedtuple\n",
    "import logging\n",
    "\n",
    "# from env import ENVIRONMENT\n",
    "# import ops\n",
    "\n",
    "logging.basicConfig(level=logging.DEBUG, format='%(message)s')\n",
    "\n",
    "\"\"\" Hyper Parameters \"\"\"\n",
    "gamma = 0.99\n",
    "max_episodes = 10000\n",
    "epsilon = 0.10\n",
    "memory_size = 1000\n",
    "num_burning_episode = 100\n",
    "batch_size = 32\n",
    "learning_rate = 0.01\n",
    "copy_period = 100\n",
    "test_period = 100\n",
    "epsilon_test = 0.00\n",
    "\n",
    "\"\"\" Environment \"\"\"\n",
    "env = ENVIRONMENT()\n",
    "exp = namedtuple('experience', ['state', 'action', 'reward', 'next_state', 'done'])\n",
    "\n",
    "\"\"\" Q-net and target Q-net \"\"\"\n",
    "W = np.random.uniform(0.0, 1.0, [env.num_state, env.num_action])\n",
    "W_target = deepcopy(W)\n",
    "\n",
    "\"\"\" Replay Memory\"\"\"\n",
    "replay_memory = deque(maxlen=memory_size)\n",
    "\n",
    "\"\"\" Burning Period \"\"\"\n",
    "logging.info('Initial Burning Period')\n",
    "for _ in range(num_burning_episode):\n",
    "    state = env.reset()\n",
    "    while(1):\n",
    "        action = env.action_sample()\n",
    "        next_state, reward, done = env.step(action)\n",
    "        sample = exp(state=state, action=action, reward=reward, next_state=next_state, done=done)\n",
    "        replay_memory.append(sample)\n",
    "\n",
    "        if done:\n",
    "            break\n",
    "        state = next_state\n",
    "\n",
    "\"\"\" Training \"\"\"\n",
    "logging.info('Training Start')\n",
    "train_step = 0\n",
    "cum_return_test = []\n",
    "step_history = []\n",
    "for episode_num in range(max_episodes):\n",
    "    # Reset Environment and Reset Cum. Reward\n",
    "    state = env.reset()\n",
    "    done = False\n",
    "\n",
    "    learning_rate = 1.0 / ((episode_num * 0.1) + 1.0)\n",
    "    epsilon = 1. / ((episode_num * 0.1) + 1.0)\n",
    "\n",
    "    while(1):\n",
    "        # Action Selection\n",
    "        action_seed = np.random.sample()\n",
    "        if action_seed > epsilon:\n",
    "            action = np.argmax(np.matmul(one_hot_encode([state], env.num_state), W))\n",
    "        else:\n",
    "            action = env.action_sample()\n",
    "        next_state, reward, done = env.step(action)\n",
    "\n",
    "        sample = exp(state=state, action=action, reward=reward, next_state=next_state, done=done)\n",
    "        replay_memory.append(sample)\n",
    "        state = next_state\n",
    "\n",
    "        # Sample scenarios from replay-memory.\n",
    "        samples = random.sample(replay_memory, batch_size)\n",
    "\n",
    "        states_ = [sample.state for sample in samples]\n",
    "        actions_ = [sample.action for sample in samples]\n",
    "        rewards_ = [sample.reward for sample in samples]\n",
    "        next_states_ = [sample.next_state for sample in samples]\n",
    "        dones_ = [float(sample.done) for sample in samples]\n",
    "\n",
    "        states = one_hot_encode(states_, env.num_state)\n",
    "        actions = one_hot_encode(actions_, env.num_action)\n",
    "        rewards = np.reshape(np.array(rewards_, dtype=np.float32), [-1, 1])\n",
    "        next_states = one_hot_encode(next_states_, env.num_state)\n",
    "        dones = np.reshape(np.array(dones_, dtype=np.float32), [-1, 1])\n",
    "\n",
    "        # Make target for Q-net.\n",
    "        q_target_max = np.amax(np.matmul(next_states, W_target), axis=1, keepdims=True)\n",
    "        targets = (1.0 - dones) * (rewards + gamma * q_target_max) + dones * rewards\n",
    "\n",
    "        # Weight Update\n",
    "        q_val = np.sum(np.matmul(states, W) * actions, axis=1, keepdims=True)\n",
    "        W[states_, actions_] += learning_rate * np.reshape((targets - q_val), [-1])\n",
    "\n",
    "        train_step += 1\n",
    "\n",
    "        # Network Synchronization\n",
    "        if train_step % copy_period == 0:\n",
    "            W_target = deepcopy(W)\n",
    "\n",
    "        # Terminal of Scenario.\n",
    "        if done:\n",
    "            if state == env.win_state:\n",
    "                step_history.append(1)\n",
    "            if state == env.lose_state:\n",
    "                step_history.append(0)\n",
    "            break\n",
    "\n",
    "    if (episode_num + 1) % 100 == 0:\n",
    "        logging.info('Episode  %d' % (episode_num+1))\n",
    "\n",
    "    \"\"\" Test \"\"\"\n",
    "    if episode_num % test_period == 0:\n",
    "        state = env.reset()\n",
    "        done = False\n",
    "        cum_rwd = 0.0\n",
    "\n",
    "        while(1):\n",
    "            # Action Selection\n",
    "            action_seed = np.random.sample()\n",
    "            if action_seed > epsilon_test:\n",
    "                action = np.argmax(np.matmul(one_hot_encode([state], env.num_state), W))\n",
    "            else:\n",
    "                action = env.action_sample()\n",
    "\n",
    "            next_state, reward, done = env.step(action)\n",
    "            cum_rwd += reward\n",
    "            if done:\n",
    "                break\n",
    "            if cum_rwd < -10.0:\n",
    "                break\n",
    "\n",
    "            state = next_state\n",
    "\n",
    "        cum_return_test.append(cum_rwd)\n",
    "\n",
    "fig = plt.figure(1)\n",
    "history = np.cumsum(step_history) / (np.arange(max_episodes) + 1)\n",
    "plt.plot(history)\n",
    "plt.show()\n",
    "\n",
    "fig = plt.figure(2)\n",
    "plt.plot(np.arange(len(cum_return_test)) * test_period, cum_return_test)\n",
    "plt.xlabel('episode.')\n",
    "plt.ylabel('cum. reward')\n",
    "plt.show()\n"
   ]
  },
  {
   "cell_type": "markdown",
   "metadata": {
    "slideshow": {
     "slide_type": "slide"
    }
   },
   "source": [
    "<div align=\"center\"><img src=\"img/Improvements since Nature DQN.png\" width=\"60%\" height=\"20%\"></div>\n",
    "\n",
    "http://icml.cc/2016/tutorials/deep_rl_tutorial.pdf"
   ]
  },
  {
   "cell_type": "markdown",
   "metadata": {
    "slideshow": {
     "slide_type": "subslide"
    }
   },
   "source": [
    "# Asynchronous Method\n",
    "\n",
    "최근에는 Asynchronous Method라는 방법으로 correlation을 없애줘서 Experience Replay를 대체한다고 한다. 간단히 Asynchronous Method를 설명하면 Thread를 통해서 여러개의 agent가 동시에 [state, action, reward, state’]를 수집한다. 그렇게 여러 agent가 동시에 수집한 데이터들은 서로 correlation이 없을 것이기 때문에 Experience Replay를 대체할 수 있으면서 더 빠르고 메모리도 절약할 수 있는 방법이라고 한다.\n",
    "\n",
    "http://www.phrgcm.com/blog/2016/08/17/deep-q-network/\n",
    "\n",
    "https://arxiv.org/pdf/1602.01783v2.pdf"
   ]
  },
  {
   "cell_type": "markdown",
   "metadata": {
    "slideshow": {
     "slide_type": "slide"
    }
   },
   "source": [
    "# Dueling DQN\n",
    "\n"
   ]
  },
  {
   "cell_type": "markdown",
   "metadata": {
    "slideshow": {
     "slide_type": "fragment"
    }
   },
   "source": [
    "$$\\begin{array}{ccccccccc}\n",
    "Q(s,a)&=&V(s)&+&A(s,a)\\\\\n",
    "\\uparrow&&\\uparrow&&\\uparrow\\\\\n",
    "\\mbox{$Q$ function}&&\\mbox{value function}&&\\mbox{advantage function}\\\\\n",
    "\\end{array}$$\n"
   ]
  },
  {
   "cell_type": "markdown",
   "metadata": {
    "slideshow": {
     "slide_type": "fragment"
    }
   },
   "source": [
    "<div align=\"center\"><img src=\"img/1-N_t9I7MeejAoWlDuH1i7cw.png\" width=\"30%\" height=\"10%\"></div>\n",
    "\n",
    "https://medium.com/@awjuliani/simple-reinforcement-learning-with-tensorflow-part-4-deep-q-networks-and-beyond-8438a3e2b8df"
   ]
  },
  {
   "cell_type": "code",
   "execution_count": 5,
   "metadata": {
    "collapsed": false,
    "slideshow": {
     "slide_type": "slide"
    }
   },
   "outputs": [
    {
     "name": "stderr",
     "output_type": "stream",
     "text": [
      "[2017-11-21 21:48:25,836] Making new env: Breakout-v0\n"
     ]
    },
    {
     "name": "stdout",
     "output_type": "stream",
     "text": [
      "Game Environment\n",
      "Create Agent\n",
      "Trying to restore last checkpoint ...\n",
      "INFO:tensorflow:Restoring parameters from checkpoints_tutorial16/Breakout-v0/checkpoint-127639066\n"
     ]
    },
    {
     "name": "stderr",
     "output_type": "stream",
     "text": [
      "[2017-11-21 21:48:28,398] Restoring parameters from checkpoints_tutorial16/Breakout-v0/checkpoint-127639066\n"
     ]
    },
    {
     "name": "stdout",
     "output_type": "stream",
     "text": [
      "Failed to restore checkpoint from: checkpoints_tutorial16/Breakout-v0\n",
      "Initializing variables instead.\n",
      "Training\n",
      "   1:311\t Epsilon: 1.00\t Reward: 3.0\t Episode Mean: 3.0\n",
      "Training Progress\n",
      "Training Progress: Reward\n"
     ]
    },
    {
     "data": {
      "image/png": "[encoded data removed]",
      "text/plain": [
       "<matplotlib.figure.Figure at 0x1e31f1550>"
      ]
     },
     "metadata": {},
     "output_type": "display_data"
    },
    {
     "name": "stdout",
     "output_type": "stream",
     "text": [
      "Training Progress: Q-Values\n"
     ]
    },
    {
     "data": {
      "image/png": "[encoded data removed]",
      "text/plain": [
       "<matplotlib.figure.Figure at 0x1e3b829b0>"
      ]
     },
     "metadata": {},
     "output_type": "display_data"
    },
    {
     "name": "stdout",
     "output_type": "stream",
     "text": [
      "Mean Reward\n",
      "   3:611\t Epsilon: 1.00\t Reward: 2.0\t Episode Mean: 2.0\n",
      "   4:919\t Epsilon: 1.00\t Reward: 2.0\t Episode Mean: 2.0\n",
      "   5:1191\t Epsilon: 1.00\t Reward: 2.0\t Episode Mean: 2.0\n",
      "   6:1421\t Epsilon: 1.00\t Reward: 1.0\t Episode Mean: 1.8\n",
      "   7:1694\t Epsilon: 1.00\t Reward: 2.0\t Episode Mean: 1.8\n",
      "   8:2000\t Epsilon: 1.00\t Reward: 2.0\t Episode Mean: 1.8\n",
      "   9:2161\t Epsilon: 1.00\t Reward: 0.0\t Episode Mean: 1.6\n",
      "  10:2397\t Epsilon: 1.00\t Reward: 1.0\t Episode Mean: 1.5\n",
      "  11:2575\t Epsilon: 1.00\t Reward: 0.0\t Episode Mean: 1.3\n",
      "  12:2919\t Epsilon: 1.00\t Reward: 3.0\t Episode Mean: 1.5\n",
      "  13:3293\t Epsilon: 1.00\t Reward: 3.0\t Episode Mean: 1.6\n",
      "  14:3465\t Epsilon: 1.00\t Reward: 0.0\t Episode Mean: 1.5\n",
      "  15:3713\t Epsilon: 1.00\t Reward: 1.0\t Episode Mean: 1.5\n",
      "  16:3884\t Epsilon: 1.00\t Reward: 0.0\t Episode Mean: 1.4\n",
      "  17:4110\t Epsilon: 1.00\t Reward: 1.0\t Episode Mean: 1.3\n",
      "  18:4402\t Epsilon: 1.00\t Reward: 2.0\t Episode Mean: 1.4\n",
      "  19:4722\t Epsilon: 1.00\t Reward: 3.0\t Episode Mean: 1.5\n",
      "  20:5021\t Epsilon: 1.00\t Reward: 3.0\t Episode Mean: 1.6\n",
      "  21:5272\t Epsilon: 1.00\t Reward: 2.0\t Episode Mean: 1.6\n",
      "  22:5634\t Epsilon: 0.99\t Reward: 4.0\t Episode Mean: 1.7\n",
      "  23:6015\t Epsilon: 0.99\t Reward: 4.0\t Episode Mean: 1.8\n",
      "  24:6240\t Epsilon: 0.99\t Reward: 1.0\t Episode Mean: 1.8\n",
      "  25:6405\t Epsilon: 0.99\t Reward: 0.0\t Episode Mean: 1.7\n",
      "  26:6575\t Epsilon: 0.99\t Reward: 0.0\t Episode Mean: 1.6\n",
      "  27:6857\t Epsilon: 0.99\t Reward: 2.0\t Episode Mean: 1.6\n",
      "  28:7042\t Epsilon: 0.99\t Reward: 0.0\t Episode Mean: 1.6\n",
      "  29:7387\t Epsilon: 0.99\t Reward: 3.0\t Episode Mean: 1.6\n",
      "  30:7673\t Epsilon: 0.99\t Reward: 2.0\t Episode Mean: 1.6\n",
      "  31:7851\t Epsilon: 0.99\t Reward: 0.0\t Episode Mean: 1.6\n",
      "  32:8242\t Epsilon: 0.99\t Reward: 3.0\t Episode Mean: 1.6\n",
      "Rewards for 30 episodes:\n",
      "- Min:    0.0\n",
      "- Mean:   1.63333333333\n",
      "- Max:    4.0\n",
      "- Stdev:  1.25122162527\n"
     ]
    },
    {
     "data": {
      "image/png": "[encoded data removed]",
      "text/plain": [
       "<matplotlib.figure.Figure at 0x1f5132cc0>"
      ]
     },
     "metadata": {},
     "output_type": "display_data"
    },
    {
     "name": "stdout",
     "output_type": "stream",
     "text": [
      "Example States\n",
      "Example States: Highest Reward\n",
      "53\n"
     ]
    },
    {
     "data": {
      "image/png": "[encoded data removed]",
      "text/plain": [
       "<matplotlib.figure.Figure at 0x1e3d78dd8>"
      ]
     },
     "metadata": {},
     "output_type": "display_data"
    },
    {
     "name": "stdout",
     "output_type": "stream",
     "text": [
      "Action:     Q-Value:\n",
      "====================\n",
      "NOOP        0.014 (Action Taken)\n",
      "FIRE        -0.009 \n",
      "RIGHT       -0.009 \n",
      "LEFT        -0.033 \n",
      "\n"
     ]
    },
    {
     "data": {
      "image/png": "[encoded data removed]",
      "text/plain": [
       "<matplotlib.figure.Figure at 0x318258f98>"
      ]
     },
     "metadata": {},
     "output_type": "display_data"
    },
    {
     "name": "stdout",
     "output_type": "stream",
     "text": [
      "Action:     Q-Value:\n",
      "====================\n",
      "NOOP        0.015 \n",
      "FIRE        -0.009 (Action Taken)\n",
      "RIGHT       -0.009 \n",
      "LEFT        -0.033 \n",
      "\n"
     ]
    },
    {
     "data": {
      "image/png": "[encoded data removed]",
      "text/plain": [
       "<matplotlib.figure.Figure at 0x1e3bdb1d0>"
      ]
     },
     "metadata": {},
     "output_type": "display_data"
    },
    {
     "name": "stdout",
     "output_type": "stream",
     "text": [
      "Action:     Q-Value:\n",
      "====================\n",
      "NOOP        0.015 \n",
      "FIRE        -0.010 (Action Taken)\n",
      "RIGHT       -0.010 \n",
      "LEFT        -0.032 \n",
      "\n"
     ]
    },
    {
     "data": {
      "image/png": "[encoded data removed]",
      "text/plain": [
       "<matplotlib.figure.Figure at 0x1f51f5e80>"
      ]
     },
     "metadata": {},
     "output_type": "display_data"
    },
    {
     "name": "stdout",
     "output_type": "stream",
     "text": [
      "Action:     Q-Value:\n",
      "====================\n",
      "NOOP        0.015 \n",
      "FIRE        -0.010 \n",
      "RIGHT       -0.010 (Action Taken)\n",
      "LEFT        -0.033 \n",
      "\n"
     ]
    },
    {
     "data": {
      "image/png": "[encoded data removed]",
      "text/plain": [
       "<matplotlib.figure.Figure at 0x1f649a9b0>"
      ]
     },
     "metadata": {},
     "output_type": "display_data"
    },
    {
     "name": "stdout",
     "output_type": "stream",
     "text": [
      "Action:     Q-Value:\n",
      "====================\n",
      "NOOP        0.015 \n",
      "FIRE        -0.011 (Action Taken)\n",
      "RIGHT       -0.008 \n",
      "LEFT        -0.033 \n",
      "\n"
     ]
    },
    {
     "data": {
      "image/png": "[encoded data removed]",
      "text/plain": [
       "<matplotlib.figure.Figure at 0x1fad09c88>"
      ]
     },
     "metadata": {},
     "output_type": "display_data"
    },
    {
     "name": "stdout",
     "output_type": "stream",
     "text": [
      "Action:     Q-Value:\n",
      "====================\n",
      "NOOP        0.014 \n",
      "FIRE        -0.010 (Action Taken)\n",
      "RIGHT       -0.009 \n",
      "LEFT        -0.034 \n",
      "\n"
     ]
    },
    {
     "data": {
      "image/png": "[encoded data removed]",
      "text/plain": [
       "<matplotlib.figure.Figure at 0x1e3efe7f0>"
      ]
     },
     "metadata": {},
     "output_type": "display_data"
    },
    {
     "name": "stdout",
     "output_type": "stream",
     "text": [
      "Action:     Q-Value:\n",
      "====================\n",
      "NOOP        0.014 (Action Taken)\n",
      "FIRE        -0.009 \n",
      "RIGHT       -0.009 \n",
      "LEFT        -0.034 \n",
      "\n"
     ]
    },
    {
     "data": {
      "image/png": "[encoded data removed]",
      "text/plain": [
       "<matplotlib.figure.Figure at 0x1fad1bdd8>"
      ]
     },
     "metadata": {},
     "output_type": "display_data"
    },
    {
     "name": "stdout",
     "output_type": "stream",
     "text": [
      "Action:     Q-Value:\n",
      "====================\n",
      "NOOP        0.010 \n",
      "FIRE        -0.010 \n",
      "RIGHT       -0.011 \n",
      "LEFT        -0.034 (Action Taken)\n",
      "\n",
      "Example: Highest Q-Value\n",
      "1594\n"
     ]
    },
    {
     "data": {
      "image/png": "[encoded data removed]",
      "text/plain": [
       "<matplotlib.figure.Figure at 0x1f5094eb8>"
      ]
     },
     "metadata": {},
     "output_type": "display_data"
    },
    {
     "name": "stdout",
     "output_type": "stream",
     "text": [
      "Action:     Q-Value:\n",
      "====================\n",
      "NOOP        0.018 \n",
      "FIRE        -0.010 \n",
      "RIGHT       -0.013 \n",
      "LEFT        -0.031 (Action Taken)\n",
      "\n"
     ]
    },
    {
     "data": {
      "image/png": "[encoded data removed]",
      "text/plain": [
       "<matplotlib.figure.Figure at 0x1fad24cc0>"
      ]
     },
     "metadata": {},
     "output_type": "display_data"
    },
    {
     "name": "stdout",
     "output_type": "stream",
     "text": [
      "Action:     Q-Value:\n",
      "====================\n",
      "NOOP        0.015 \n",
      "FIRE        -0.010 (Action Taken)\n",
      "RIGHT       -0.012 \n",
      "LEFT        -0.032 \n",
      "\n"
     ]
    },
    {
     "data": {
      "image/png": "[encoded data removed]",
      "text/plain": [
       "<matplotlib.figure.Figure at 0x1e3da4e10>"
      ]
     },
     "metadata": {},
     "output_type": "display_data"
    },
    {
     "name": "stdout",
     "output_type": "stream",
     "text": [
      "Action:     Q-Value:\n",
      "====================\n",
      "NOOP        0.015 (Action Taken)\n",
      "FIRE        -0.011 \n",
      "RIGHT       -0.014 \n",
      "LEFT        -0.033 \n",
      "\n"
     ]
    },
    {
     "data": {
      "image/png": "[encoded data removed]",
      "text/plain": [
       "<matplotlib.figure.Figure at 0x1e3dc7400>"
      ]
     },
     "metadata": {},
     "output_type": "display_data"
    },
    {
     "name": "stdout",
     "output_type": "stream",
     "text": [
      "Action:     Q-Value:\n",
      "====================\n",
      "NOOP        0.013 \n",
      "FIRE        -0.011 (Action Taken)\n",
      "RIGHT       -0.013 \n",
      "LEFT        -0.034 \n",
      "\n"
     ]
    },
    {
     "data": {
      "image/png": "[encoded data removed]",
      "text/plain": [
       "<matplotlib.figure.Figure at 0x1f67d4e80>"
      ]
     },
     "metadata": {},
     "output_type": "display_data"
    },
    {
     "name": "stdout",
     "output_type": "stream",
     "text": [
      "Action:     Q-Value:\n",
      "====================\n",
      "NOOP        0.013 \n",
      "FIRE        -0.010 (Action Taken)\n",
      "RIGHT       -0.013 \n",
      "LEFT        -0.034 \n",
      "\n",
      "Example: Loss of Life\n",
      "97\n"
     ]
    },
    {
     "data": {
      "image/png": "[encoded data removed]",
      "text/plain": [
       "<matplotlib.figure.Figure at 0x1e3f793c8>"
      ]
     },
     "metadata": {},
     "output_type": "display_data"
    },
    {
     "name": "stdout",
     "output_type": "stream",
     "text": [
      "Action:     Q-Value:\n",
      "====================\n",
      "NOOP        0.008 (Action Taken)\n",
      "FIRE        -0.009 \n",
      "RIGHT       -0.010 \n",
      "LEFT        -0.032 \n",
      "\n"
     ]
    },
    {
     "data": {
      "image/png": "[encoded data removed]",
      "text/plain": [
       "<matplotlib.figure.Figure at 0x11aa3a518>"
      ]
     },
     "metadata": {},
     "output_type": "display_data"
    },
    {
     "name": "stdout",
     "output_type": "stream",
     "text": [
      "Action:     Q-Value:\n",
      "====================\n",
      "NOOP        0.008 \n",
      "FIRE        -0.008 \n",
      "RIGHT       -0.010 (Action Taken)\n",
      "LEFT        -0.031 \n",
      "\n"
     ]
    },
    {
     "data": {
      "image/png": "[encoded data removed]",
      "text/plain": [
       "<matplotlib.figure.Figure at 0x1e3e56fd0>"
      ]
     },
     "metadata": {},
     "output_type": "display_data"
    },
    {
     "name": "stdout",
     "output_type": "stream",
     "text": [
      "Action:     Q-Value:\n",
      "====================\n",
      "NOOP        0.008 \n",
      "FIRE        -0.009 \n",
      "RIGHT       -0.010 (Action Taken)\n",
      "LEFT        -0.032 \n",
      "\n"
     ]
    },
    {
     "data": {
      "image/png": "[encoded data removed]",
      "text/plain": [
       "<matplotlib.figure.Figure at 0x16439b748>"
      ]
     },
     "metadata": {},
     "output_type": "display_data"
    },
    {
     "name": "stdout",
     "output_type": "stream",
     "text": [
      "Action:     Q-Value:\n",
      "====================\n",
      "NOOP        0.007 \n",
      "FIRE        -0.010 (Action Taken)\n",
      "RIGHT       -0.010 \n",
      "LEFT        -0.035 \n",
      "\n"
     ]
    },
    {
     "data": {
      "image/png": "[encoded data removed]",
      "text/plain": [
       "<matplotlib.figure.Figure at 0x1f646dc88>"
      ]
     },
     "metadata": {},
     "output_type": "display_data"
    },
    {
     "name": "stdout",
     "output_type": "stream",
     "text": [
      "Action:     Q-Value:\n",
      "====================\n",
      "NOOP        0.009 \n",
      "FIRE        -0.010 (Action Taken)\n",
      "RIGHT       -0.010 \n",
      "LEFT        -0.035 \n",
      "\n"
     ]
    },
    {
     "data": {
      "image/png": "[encoded data removed]",
      "text/plain": [
       "<matplotlib.figure.Figure at 0x168bbdb38>"
      ]
     },
     "metadata": {},
     "output_type": "display_data"
    },
    {
     "name": "stdout",
     "output_type": "stream",
     "text": [
      "Action:     Q-Value:\n",
      "====================\n",
      "NOOP        0.010 \n",
      "FIRE        -0.010 \n",
      "RIGHT       -0.010 \n",
      "LEFT        -0.034 (Action Taken)\n",
      "\n"
     ]
    },
    {
     "data": {
      "image/png": "[encoded data removed]",
      "text/plain": [
       "<matplotlib.figure.Figure at 0x119a2af60>"
      ]
     },
     "metadata": {},
     "output_type": "display_data"
    },
    {
     "name": "stdout",
     "output_type": "stream",
     "text": [
      "Action:     Q-Value:\n",
      "====================\n",
      "NOOP        0.010 \n",
      "FIRE        -0.010 (Action Taken)\n",
      "RIGHT       -0.009 \n",
      "LEFT        -0.034 \n",
      "\n"
     ]
    },
    {
     "data": {
      "image/png": "[encoded data removed]",
      "text/plain": [
       "<matplotlib.figure.Figure at 0x168bb30f0>"
      ]
     },
     "metadata": {},
     "output_type": "display_data"
    },
    {
     "name": "stdout",
     "output_type": "stream",
     "text": [
      "Action:     Q-Value:\n",
      "====================\n",
      "NOOP        0.010 (Action Taken)\n",
      "FIRE        -0.009 \n",
      "RIGHT       -0.011 \n",
      "LEFT        -0.033 \n",
      "\n"
     ]
    },
    {
     "data": {
      "image/png": "[encoded data removed]",
      "text/plain": [
       "<matplotlib.figure.Figure at 0x317df2dd8>"
      ]
     },
     "metadata": {},
     "output_type": "display_data"
    },
    {
     "name": "stdout",
     "output_type": "stream",
     "text": [
      "Action:     Q-Value:\n",
      "====================\n",
      "NOOP        0.010 (Action Taken)\n",
      "FIRE        -0.009 \n",
      "RIGHT       -0.010 \n",
      "LEFT        -0.033 \n",
      "\n"
     ]
    },
    {
     "data": {
      "image/png": "[encoded data removed]",
      "text/plain": [
       "<matplotlib.figure.Figure at 0x317f352e8>"
      ]
     },
     "metadata": {},
     "output_type": "display_data"
    },
    {
     "name": "stdout",
     "output_type": "stream",
     "text": [
      "Action:     Q-Value:\n",
      "====================\n",
      "NOOP        0.010 \n",
      "FIRE        -0.009 (Action Taken)\n",
      "RIGHT       -0.010 \n",
      "LEFT        -0.033 \n",
      "\n",
      "Example: Greatest Difference in Q-Values\n",
      "4923\n"
     ]
    },
    {
     "data": {
      "image/png": "[encoded data removed]",
      "text/plain": [
       "<matplotlib.figure.Figure at 0x164261da0>"
      ]
     },
     "metadata": {},
     "output_type": "display_data"
    },
    {
     "name": "stdout",
     "output_type": "stream",
     "text": [
      "Action:     Q-Value:\n",
      "====================\n",
      "NOOP        0.014 \n",
      "FIRE        -0.012 \n",
      "RIGHT       -0.008 \n",
      "LEFT        -0.037 (Action Taken)\n",
      "\n"
     ]
    },
    {
     "data": {
      "image/png": "[encoded data removed]",
      "text/plain": [
       "<matplotlib.figure.Figure at 0x11ab8e208>"
      ]
     },
     "metadata": {},
     "output_type": "display_data"
    },
    {
     "name": "stdout",
     "output_type": "stream",
     "text": [
      "Action:     Q-Value:\n",
      "====================\n",
      "NOOP        0.012 \n",
      "FIRE        -0.012 \n",
      "RIGHT       -0.010 \n",
      "LEFT        -0.035 (Action Taken)\n",
      "\n"
     ]
    },
    {
     "data": {
      "image/png": "[encoded data removed]",
      "text/plain": [
       "<matplotlib.figure.Figure at 0x1647d9e10>"
      ]
     },
     "metadata": {},
     "output_type": "display_data"
    },
    {
     "name": "stdout",
     "output_type": "stream",
     "text": [
      "Action:     Q-Value:\n",
      "====================\n",
      "NOOP        0.011 (Action Taken)\n",
      "FIRE        -0.012 \n",
      "RIGHT       -0.011 \n",
      "LEFT        -0.034 \n",
      "\n"
     ]
    },
    {
     "data": {
      "image/png": "[encoded data removed]",
      "text/plain": [
       "<matplotlib.figure.Figure at 0x1647d9978>"
      ]
     },
     "metadata": {},
     "output_type": "display_data"
    },
    {
     "name": "stdout",
     "output_type": "stream",
     "text": [
      "Action:     Q-Value:\n",
      "====================\n",
      "NOOP        0.012 \n",
      "FIRE        -0.012 \n",
      "RIGHT       -0.011 \n",
      "LEFT        -0.033 (Action Taken)\n",
      "\n"
     ]
    },
    {
     "data": {
      "image/png": "[encoded data removed]",
      "text/plain": [
       "<matplotlib.figure.Figure at 0x11ab75668>"
      ]
     },
     "metadata": {},
     "output_type": "display_data"
    },
    {
     "name": "stdout",
     "output_type": "stream",
     "text": [
      "Action:     Q-Value:\n",
      "====================\n",
      "NOOP        0.013 (Action Taken)\n",
      "FIRE        -0.011 \n",
      "RIGHT       -0.010 \n",
      "LEFT        -0.035 \n",
      "\n",
      "Example: Smallest Difference in Q-Values\n",
      "112\n"
     ]
    },
    {
     "data": {
      "image/png": "[encoded data removed]",
      "text/plain": [
       "<matplotlib.figure.Figure at 0x11ab714a8>"
      ]
     },
     "metadata": {},
     "output_type": "display_data"
    },
    {
     "name": "stdout",
     "output_type": "stream",
     "text": [
      "Action:     Q-Value:\n",
      "====================\n",
      "NOOP        0.006 \n",
      "FIRE        -0.010 \n",
      "RIGHT       -0.009 \n",
      "LEFT        -0.031 (Action Taken)\n",
      "\n"
     ]
    },
    {
     "data": {
      "image/png": "[encoded data removed]",
      "text/plain": [
       "<matplotlib.figure.Figure at 0x317f5f7f0>"
      ]
     },
     "metadata": {},
     "output_type": "display_data"
    },
    {
     "name": "stdout",
     "output_type": "stream",
     "text": [
      "Action:     Q-Value:\n",
      "====================\n",
      "NOOP        0.006 \n",
      "FIRE        -0.009 \n",
      "RIGHT       -0.010 \n",
      "LEFT        -0.032 (Action Taken)\n",
      "\n"
     ]
    },
    {
     "data": {
      "image/png": "[encoded data removed]",
      "text/plain": [
       "<matplotlib.figure.Figure at 0x318214c88>"
      ]
     },
     "metadata": {},
     "output_type": "display_data"
    },
    {
     "name": "stdout",
     "output_type": "stream",
     "text": [
      "Action:     Q-Value:\n",
      "====================\n",
      "NOOP        0.006 \n",
      "FIRE        -0.010 \n",
      "RIGHT       -0.010 (Action Taken)\n",
      "LEFT        -0.033 \n",
      "\n"
     ]
    },
    {
     "data": {
      "image/png": "[encoded data removed]",
      "text/plain": [
       "<matplotlib.figure.Figure at 0x318209438>"
      ]
     },
     "metadata": {},
     "output_type": "display_data"
    },
    {
     "name": "stdout",
     "output_type": "stream",
     "text": [
      "Action:     Q-Value:\n",
      "====================\n",
      "NOOP        0.007 (Action Taken)\n",
      "FIRE        -0.011 \n",
      "RIGHT       -0.010 \n",
      "LEFT        -0.033 \n",
      "\n"
     ]
    },
    {
     "data": {
      "image/png": "[encoded data removed]",
      "text/plain": [
       "<matplotlib.figure.Figure at 0x168b72898>"
      ]
     },
     "metadata": {},
     "output_type": "display_data"
    },
    {
     "name": "stdout",
     "output_type": "stream",
     "text": [
      "Action:     Q-Value:\n",
      "====================\n",
      "NOOP        0.007 \n",
      "FIRE        -0.010 (Action Taken)\n",
      "RIGHT       -0.012 \n",
      "LEFT        -0.033 \n",
      "\n"
     ]
    }
   ],
   "source": [
    "# https://github.com/Hvass-Labs/TensorFlow-Tutorials/blob/master/16_Reinforcement_Learning.ipynb\n",
    "\n",
    "# Imports\n",
    "import matplotlib.pyplot as plt\n",
    "import tensorflow as tf\n",
    "import gym\n",
    "import numpy as np\n",
    "import math\n",
    "import reinforcement_learning as rl\n",
    "\n",
    "print(\"Game Environment\")\n",
    "env_name = 'Breakout-v0'\n",
    "rl.checkpoint_base_dir = 'checkpoints_tutorial16/'\n",
    "rl.update_paths(env_name=env_name)\n",
    "\n",
    "# print(\"Download Pre-Trained Model\")\n",
    "# https://drive.google.com/uc?export=download&id=0B2aDiIly76ZvUjZTcXRuRFY0RjQ\n",
    "\n",
    "print(\"Create Agent\")\n",
    "agent = rl.Agent(env_name=env_name,\n",
    "                 training=True,\n",
    "                 render=True,\n",
    "                 use_logging=False)\n",
    "model = agent.model\n",
    "replay_memory = agent.replay_memory\n",
    "\n",
    "print(\"Training\")\n",
    "agent.run(num_episodes=1)\n",
    "\n",
    "print(\"Training Progress\")\n",
    "log_q_values = rl.LogQValues()\n",
    "log_reward = rl.LogReward()\n",
    "\n",
    "log_q_values.read()\n",
    "log_reward.read()\n",
    "\n",
    "print(\"Training Progress: Reward\")\n",
    "plt.plot(log_reward.count_states, log_reward.episode, label='Episode Reward')\n",
    "plt.plot(log_reward.count_states, log_reward.mean, label='Mean of 30 episodes')\n",
    "plt.xlabel('State-Count for Game Environment')\n",
    "plt.legend()\n",
    "plt.show()\n",
    "\n",
    "print(\"Training Progress: Q-Values\")\n",
    "plt.plot(log_q_values.count_states, log_q_values.mean, label='Q-Value Mean')\n",
    "plt.xlabel('State-Count for Game Environment')\n",
    "plt.legend()\n",
    "plt.show()\n",
    "\n",
    "# print(\"Testing\")\n",
    "# agent.epsilon_greedy.epsilon_testing\n",
    "# agent.training = False\n",
    "# agent.reset_episode_rewards()\n",
    "# agent.render = True\n",
    "# agent.run(num_episodes=1)\n",
    "\n",
    "print(\"Mean Reward\")\n",
    "agent.reset_episode_rewards()\n",
    "agent.render = False\n",
    "agent.run(num_episodes=30)\n",
    "\n",
    "rewards = agent.episode_rewards\n",
    "print(\"Rewards for {0} episodes:\".format(len(rewards)))\n",
    "print(\"- Min:   \", np.min(rewards))\n",
    "print(\"- Mean:  \", np.mean(rewards))\n",
    "print(\"- Max:   \", np.max(rewards))\n",
    "print(\"- Stdev: \", np.std(rewards))\n",
    "\n",
    "plt.hist(rewards, bins=30)\n",
    "plt.show()\n",
    "\n",
    "print(\"Example States\")\n",
    "\n",
    "def print_q_values(idx):\n",
    "    \"\"\"Print Q-values and actions from the replay-memory at the given index.\"\"\"\n",
    "\n",
    "    # Get the Q-values and action from the replay-memory.\n",
    "    q_values = replay_memory.q_values[idx]\n",
    "    action = replay_memory.actions[idx]\n",
    "\n",
    "    print(\"Action:     Q-Value:\")\n",
    "    print(\"====================\")\n",
    "\n",
    "    # Print all the actions and their Q-values.\n",
    "    for i, q_value in enumerate(q_values):\n",
    "        # Used to display which action was taken.\n",
    "        if i == action:\n",
    "            action_taken = \"(Action Taken)\"\n",
    "        else:\n",
    "            action_taken = \"\"\n",
    "\n",
    "        # Text-name of the action.\n",
    "        action_name = agent.get_action_name(i)\n",
    "            \n",
    "        print(\"{0:12}{1:.3f} {2}\".format(action_name, q_value,\n",
    "                                        action_taken))\n",
    "\n",
    "    # Newline.\n",
    "    print()\n",
    "    \n",
    "def plot_state(idx, print_q=True):\n",
    "    \"\"\"Plot the state in the replay-memory with the given index.\"\"\"\n",
    "\n",
    "    # Get the state from the replay-memory.\n",
    "    state = replay_memory.states[idx]\n",
    "    \n",
    "    # Create figure with a grid of sub-plots.\n",
    "    fig, axes = plt.subplots(1, 2)\n",
    "\n",
    "    # Plot the image from the game-environment.\n",
    "    ax = axes.flat[0]\n",
    "    ax.imshow(state[:, :, 0], vmin=0, vmax=255,\n",
    "              interpolation='lanczos', cmap='gray')\n",
    "\n",
    "    # Plot the motion-trace.\n",
    "    ax = axes.flat[1]\n",
    "    ax.imshow(state[:, :, 1], vmin=0, vmax=255,\n",
    "              interpolation='lanczos', cmap='gray')\n",
    "\n",
    "    # This is necessary if we show more than one plot in a single Notebook cell.\n",
    "    plt.show()\n",
    "    \n",
    "    # Print the Q-values.\n",
    "    if print_q:\n",
    "        print_q_values(idx=idx)\n",
    "        \n",
    "num_used = replay_memory.num_used\n",
    "num_used\n",
    "\n",
    "q_values = replay_memory.q_values[0:num_used, :]\n",
    "\n",
    "q_values_min = q_values.min(axis=1)\n",
    "q_values_max = q_values.max(axis=1)\n",
    "q_values_dif = q_values_max - q_values_min\n",
    "\n",
    "print(\"Example States: Highest Reward\")\n",
    "idx = np.argmax(replay_memory.rewards)\n",
    "print(idx)\n",
    "\n",
    "for i in range(-5, 3):\n",
    "    plot_state(idx=idx+i)\n",
    "    \n",
    "print(\"Example: Highest Q-Value\")\n",
    "idx = np.argmax(q_values_max)\n",
    "print(idx)\n",
    "\n",
    "\n",
    "for i in range(0, 5):\n",
    "    plot_state(idx=idx+i)\n",
    "    \n",
    "print(\"Example: Loss of Life\")\n",
    "idx = np.argmax(replay_memory.end_life)\n",
    "print(idx)\n",
    "\n",
    "for i in range(-10, 0):\n",
    "    plot_state(idx=idx+i)\n",
    "    \n",
    "print(\"Example: Greatest Difference in Q-Values\")\n",
    "idx = np.argmax(q_values_dif)\n",
    "print(idx)\n",
    "\n",
    "for i in range(0, 5):\n",
    "    plot_state(idx=idx+i)\n",
    "    \n",
    "print(\"Example: Smallest Difference in Q-Values\")\n",
    "idx = np.argmin(q_values_dif)\n",
    "print(idx)\n",
    "\n",
    "for i in range(0, 5):\n",
    "    plot_state(idx=idx+i)\n",
    "    \n"
   ]
  },
  {
   "cell_type": "code",
   "execution_count": 1,
   "metadata": {
    "collapsed": false,
    "slideshow": {
     "slide_type": "slide"
    }
   },
   "outputs": [
    {
     "name": "stderr",
     "output_type": "stream",
     "text": [
      "[2017-11-21 15:26:13,840] Making new env: CartPole-v0\n",
      "[2017-11-21 15:26:13,860] Clearing 3 monitor files from previous run (because force=True was provided)\n",
      "[2017-11-21 15:26:14,789] Starting new video recorder writing to /Users/sungchul/Dropbox/Jupyter_Notebook/Machine_Learning/084_Large-Scale_Reinforcement_Learning/gym-results/openaigym.video.0.97469.video000000.mp4\n",
      "[2017-11-21 15:26:15,969] Starting new video recorder writing to /Users/sungchul/Dropbox/Jupyter_Notebook/Machine_Learning/084_Large-Scale_Reinforcement_Learning/gym-results/openaigym.video.0.97469.video000001.mp4\n"
     ]
    },
    {
     "name": "stdout",
     "output_type": "stream",
     "text": [
      "Episode: 0  steps: 15\n",
      "Episode: 1  steps: 11\n",
      "Episode: 2  steps: 13\n",
      "Episode: 3  steps: 25\n",
      "Episode: 4  steps: 11\n",
      "Episode: 5  steps: 26\n",
      "Episode: 6  steps: 14\n"
     ]
    },
    {
     "name": "stderr",
     "output_type": "stream",
     "text": [
      "[2017-11-21 15:26:16,453] Starting new video recorder writing to /Users/sungchul/Dropbox/Jupyter_Notebook/Machine_Learning/084_Large-Scale_Reinforcement_Learning/gym-results/openaigym.video.0.97469.video000008.mp4\n"
     ]
    },
    {
     "name": "stdout",
     "output_type": "stream",
     "text": [
      "Episode: 7  steps: 9\n",
      "Episode: 8  steps: 12\n",
      "Episode: 9  steps: 13\n",
      "Episode: 10  steps: 9\n",
      "Episode: 11  steps: 17\n",
      "Episode: 12  steps: 14\n",
      "Episode: 13  steps: 12\n",
      "Episode: 14  steps: 10\n",
      "Episode: 15  steps: 12\n",
      "Episode: 16  steps: 12\n",
      "Episode: 17  steps: 10\n",
      "Episode: 18  steps: 11\n",
      "Episode: 19  steps: 10\n",
      "Episode: 20  steps: 12\n"
     ]
    },
    {
     "name": "stderr",
     "output_type": "stream",
     "text": [
      "[2017-11-21 15:26:17,334] Starting new video recorder writing to /Users/sungchul/Dropbox/Jupyter_Notebook/Machine_Learning/084_Large-Scale_Reinforcement_Learning/gym-results/openaigym.video.0.97469.video000027.mp4\n"
     ]
    },
    {
     "name": "stdout",
     "output_type": "stream",
     "text": [
      "Episode: 21  steps: 14\n",
      "Episode: 22  steps: 10\n",
      "Episode: 23  steps: 10\n",
      "Episode: 24  steps: 10\n",
      "Episode: 25  steps: 8\n",
      "Episode: 26  steps: 10\n",
      "Episode: 27  steps: 10\n",
      "Episode: 28  steps: 10\n",
      "Episode: 29  steps: 13\n",
      "Episode: 30  steps: 9\n",
      "Episode: 31  steps: 13\n",
      "Episode: 32  steps: 10\n",
      "Episode: 33  steps: 13\n",
      "Episode: 34  steps: 13\n",
      "Episode: 35  steps: 10\n",
      "Episode: 36  steps: 12\n",
      "Episode: 37  steps: 10\n",
      "Episode: 38  steps: 11\n",
      "Episode: 39  steps: 13\n",
      "Episode: 40  steps: 22\n",
      "Episode: 41  steps: 11\n",
      "Episode: 42  steps: 10\n",
      "Episode: 43  steps: 11\n",
      "Episode: 44  steps: 11\n",
      "Episode: 45  steps: 9\n",
      "Episode: 46  steps: 14\n",
      "Episode: 47  steps: 16\n",
      "Episode: 48  steps: 12\n",
      "Episode: 49  steps: 12\n",
      "Episode: 50  steps: 13\n",
      "Episode: 51  steps: 11\n",
      "Episode: 52  steps: 10\n",
      "Episode: 53  steps: 13\n",
      "Episode: 54  steps: 12\n",
      "Episode: 55  steps: 9\n",
      "Episode: 56  steps: 11\n",
      "Episode: 57  steps: 11\n",
      "Episode: 58  steps: 13\n",
      "Episode: 59  steps: 10\n"
     ]
    },
    {
     "name": "stderr",
     "output_type": "stream",
     "text": [
      "[2017-11-21 15:26:18,797] Starting new video recorder writing to /Users/sungchul/Dropbox/Jupyter_Notebook/Machine_Learning/084_Large-Scale_Reinforcement_Learning/gym-results/openaigym.video.0.97469.video000064.mp4\n"
     ]
    },
    {
     "name": "stdout",
     "output_type": "stream",
     "text": [
      "Episode: 60  steps: 10\n",
      "Episode: 61  steps: 11\n",
      "Episode: 62  steps: 9\n",
      "Episode: 63  steps: 12\n",
      "Episode: 64  steps: 15\n",
      "Episode: 65  steps: 13\n",
      "Episode: 66  steps: 15\n",
      "Episode: 67  steps: 13\n",
      "Episode: 68  steps: 12\n",
      "Episode: 69  steps: 20\n",
      "Episode: 70  steps: 19\n",
      "Episode: 71  steps: 12\n",
      "Episode: 72  steps: 22\n",
      "Episode: 73  steps: 12\n",
      "Episode: 74  steps: 15\n",
      "Episode: 75  steps: 19\n",
      "Episode: 76  steps: 13\n",
      "Episode: 77  steps: 12\n",
      "Episode: 78  steps: 19\n",
      "Episode: 79  steps: 19\n",
      "Episode: 80  steps: 16\n",
      "Episode: 81  steps: 17\n",
      "Episode: 82  steps: 14\n",
      "Episode: 83  steps: 14\n",
      "Episode: 84  steps: 21\n",
      "Episode: 85  steps: 16\n",
      "Episode: 86  steps: 13\n",
      "Episode: 87  steps: 16\n",
      "Episode: 88  steps: 15\n",
      "Episode: 89  steps: 13\n",
      "Episode: 90  steps: 19\n",
      "Episode: 91  steps: 13\n",
      "Episode: 92  steps: 21\n",
      "Episode: 93  steps: 23\n",
      "Episode: 94  steps: 20\n",
      "Episode: 95  steps: 18\n",
      "Episode: 96  steps: 24\n",
      "Episode: 97  steps: 30\n",
      "Episode: 98  steps: 31\n",
      "Episode: 99  steps: 34\n",
      "Episode: 100  steps: 24\n",
      "Episode: 101  steps: 20\n",
      "Episode: 102  steps: 23\n",
      "Episode: 103  steps: 20\n",
      "Episode: 104  steps: 26\n",
      "Episode: 105  steps: 20\n",
      "Episode: 106  steps: 36\n",
      "Episode: 107  steps: 27\n",
      "Episode: 108  steps: 28\n",
      "Episode: 109  steps: 31\n",
      "Episode: 110  steps: 15\n",
      "Episode: 111  steps: 21\n",
      "Episode: 112  steps: 23\n",
      "Episode: 113  steps: 22\n",
      "Episode: 114  steps: 28\n",
      "Episode: 115  steps: 25\n",
      "Episode: 116  steps: 31\n",
      "Episode: 117  steps: 28\n",
      "Episode: 118  steps: 24\n",
      "Episode: 119  steps: 37\n",
      "Episode: 120  steps: 36\n",
      "Episode: 121  steps: 43\n",
      "Episode: 122  steps: 55\n",
      "Episode: 123  steps: 64\n"
     ]
    },
    {
     "name": "stderr",
     "output_type": "stream",
     "text": [
      "[2017-11-21 15:26:23,100] Starting new video recorder writing to /Users/sungchul/Dropbox/Jupyter_Notebook/Machine_Learning/084_Large-Scale_Reinforcement_Learning/gym-results/openaigym.video.0.97469.video000125.mp4\n"
     ]
    },
    {
     "name": "stdout",
     "output_type": "stream",
     "text": [
      "Episode: 124  steps: 29\n",
      "Episode: 125  steps: 75\n",
      "Episode: 126  steps: 58\n",
      "Episode: 127  steps: 45\n",
      "Episode: 128  steps: 114\n",
      "Episode: 129  steps: 42\n",
      "Episode: 130  steps: 50\n",
      "Episode: 131  steps: 63\n",
      "Episode: 132  steps: 21\n",
      "Episode: 133  steps: 27\n",
      "Episode: 134  steps: 21\n",
      "Episode: 135  steps: 37\n",
      "Episode: 136  steps: 20\n",
      "Episode: 137  steps: 29\n",
      "Episode: 138  steps: 19\n",
      "Episode: 139  steps: 25\n",
      "Episode: 140  steps: 17\n",
      "Episode: 141  steps: 16\n",
      "Episode: 142  steps: 19\n",
      "Episode: 143  steps: 31\n",
      "Episode: 144  steps: 18\n",
      "Episode: 145  steps: 19\n",
      "Episode: 146  steps: 26\n",
      "Episode: 147  steps: 25\n",
      "Episode: 148  steps: 17\n",
      "Episode: 149  steps: 16\n",
      "Episode: 150  steps: 12\n",
      "Episode: 151  steps: 12\n",
      "Episode: 152  steps: 11\n",
      "Episode: 153  steps: 12\n",
      "Episode: 154  steps: 13\n",
      "Episode: 155  steps: 17\n",
      "Episode: 156  steps: 22\n",
      "Episode: 157  steps: 20\n",
      "Episode: 158  steps: 25\n",
      "Episode: 159  steps: 23\n",
      "Episode: 160  steps: 25\n",
      "Episode: 161  steps: 19\n",
      "Episode: 162  steps: 28\n",
      "Episode: 163  steps: 28\n",
      "Episode: 164  steps: 16\n",
      "Episode: 165  steps: 19\n",
      "Episode: 166  steps: 19\n",
      "Episode: 167  steps: 13\n",
      "Episode: 168  steps: 20\n",
      "Episode: 169  steps: 15\n",
      "Episode: 170  steps: 28\n",
      "Episode: 171  steps: 24\n",
      "Episode: 172  steps: 30\n",
      "Episode: 173  steps: 20\n",
      "Episode: 174  steps: 23\n",
      "Episode: 175  steps: 36\n",
      "Episode: 176  steps: 15\n",
      "Episode: 177  steps: 30\n",
      "Episode: 178  steps: 33\n",
      "Episode: 179  steps: 31\n",
      "Episode: 180  steps: 60\n",
      "Episode: 181  steps: 102\n",
      "Episode: 182  steps: 50\n",
      "Episode: 183  steps: 44\n",
      "Episode: 184  steps: 64\n",
      "Episode: 185  steps: 42\n",
      "Episode: 186  steps: 61\n",
      "Episode: 187  steps: 37\n",
      "Episode: 188  steps: 43\n",
      "Episode: 189  steps: 72\n",
      "Episode: 190  steps: 53\n",
      "Episode: 191  steps: 124\n",
      "Episode: 192  steps: 72\n",
      "Episode: 193  steps: 55\n",
      "Episode: 194  steps: 153\n",
      "Episode: 195  steps: 64\n",
      "Episode: 196  steps: 90\n",
      "Episode: 197  steps: 72\n",
      "Episode: 198  steps: 40\n",
      "Episode: 199  steps: 50\n",
      "Episode: 200  steps: 50\n",
      "Episode: 201  steps: 111\n",
      "Episode: 202  steps: 44\n",
      "Episode: 203  steps: 46\n",
      "Episode: 204  steps: 80\n",
      "Episode: 205  steps: 72\n",
      "Episode: 206  steps: 174\n",
      "Episode: 207  steps: 43\n",
      "Episode: 208  steps: 46\n",
      "Episode: 209  steps: 47\n",
      "Episode: 210  steps: 95\n",
      "Episode: 211  steps: 46\n",
      "Episode: 212  steps: 51\n",
      "Episode: 213  steps: 53\n"
     ]
    },
    {
     "name": "stderr",
     "output_type": "stream",
     "text": [
      "[2017-11-21 15:26:35,749] Starting new video recorder writing to /Users/sungchul/Dropbox/Jupyter_Notebook/Machine_Learning/084_Large-Scale_Reinforcement_Learning/gym-results/openaigym.video.0.97469.video000216.mp4\n"
     ]
    },
    {
     "name": "stdout",
     "output_type": "stream",
     "text": [
      "Episode: 214  steps: 74\n",
      "Episode: 215  steps: 40\n",
      "Episode: 216  steps: 43\n",
      "Episode: 217  steps: 81\n",
      "Episode: 218  steps: 81\n",
      "Episode: 219  steps: 64\n",
      "Episode: 220  steps: 46\n",
      "Episode: 221  steps: 55\n",
      "Episode: 222  steps: 65\n",
      "Episode: 223  steps: 58\n",
      "Episode: 224  steps: 78\n",
      "Episode: 225  steps: 69\n",
      "Episode: 226  steps: 51\n",
      "Episode: 227  steps: 62\n",
      "Episode: 228  steps: 51\n",
      "Episode: 229  steps: 109\n",
      "Episode: 230  steps: 56\n",
      "Episode: 231  steps: 48\n",
      "Episode: 232  steps: 60\n",
      "Episode: 233  steps: 64\n",
      "Episode: 234  steps: 72\n",
      "Episode: 235  steps: 104\n",
      "Episode: 236  steps: 76\n",
      "Episode: 237  steps: 75\n",
      "Episode: 238  steps: 86\n",
      "Episode: 239  steps: 71\n",
      "Episode: 240  steps: 71\n",
      "Episode: 241  steps: 117\n",
      "Episode: 242  steps: 75\n",
      "Episode: 243  steps: 134\n",
      "Episode: 244  steps: 100\n",
      "Episode: 245  steps: 92\n",
      "Episode: 246  steps: 152\n",
      "Episode: 247  steps: 87\n",
      "Episode: 248  steps: 97\n",
      "Episode: 249  steps: 111\n",
      "Episode: 250  steps: 112\n",
      "Episode: 251  steps: 124\n",
      "Episode: 252  steps: 112\n",
      "Episode: 253  steps: 112\n",
      "Episode: 254  steps: 135\n",
      "Episode: 255  steps: 124\n",
      "Episode: 256  steps: 148\n",
      "Episode: 257  steps: 141\n",
      "Episode: 258  steps: 140\n",
      "Episode: 259  steps: 139\n",
      "Episode: 260  steps: 144\n",
      "Episode: 261  steps: 132\n",
      "Episode: 262  steps: 142\n",
      "Episode: 263  steps: 123\n",
      "Episode: 264  steps: 170\n",
      "Episode: 265  steps: 146\n",
      "Episode: 266  steps: 117\n",
      "Episode: 267  steps: 129\n",
      "Episode: 268  steps: 141\n",
      "Episode: 269  steps: 132\n",
      "Episode: 270  steps: 156\n",
      "Episode: 271  steps: 133\n",
      "Episode: 272  steps: 144\n",
      "Episode: 273  steps: 157\n",
      "Episode: 274  steps: 121\n",
      "Episode: 275  steps: 136\n",
      "Episode: 276  steps: 200\n",
      "Episode: 277  steps: 138\n",
      "Episode: 278  steps: 132\n",
      "Episode: 279  steps: 183\n",
      "Episode: 280  steps: 141\n",
      "Episode: 281  steps: 181\n",
      "Episode: 282  steps: 181\n",
      "Episode: 283  steps: 142\n",
      "Episode: 284  steps: 187\n",
      "Episode: 285  steps: 153\n",
      "Episode: 286  steps: 150\n",
      "Episode: 287  steps: 154\n",
      "Episode: 288  steps: 188\n",
      "Episode: 289  steps: 193\n",
      "Episode: 290  steps: 159\n",
      "Episode: 291  steps: 145\n",
      "Episode: 292  steps: 164\n",
      "Episode: 293  steps: 153\n",
      "Episode: 294  steps: 196\n",
      "Episode: 295  steps: 194\n",
      "Episode: 296  steps: 160\n",
      "Episode: 297  steps: 135\n",
      "Episode: 298  steps: 153\n",
      "Episode: 299  steps: 190\n",
      "Episode: 300  steps: 194\n",
      "Episode: 301  steps: 162\n",
      "Episode: 302  steps: 153\n",
      "Episode: 303  steps: 166\n",
      "Episode: 304  steps: 158\n",
      "Episode: 305  steps: 161\n",
      "Episode: 306  steps: 148\n",
      "Episode: 307  steps: 154\n",
      "Episode: 308  steps: 153\n",
      "Episode: 309  steps: 196\n",
      "Episode: 310  steps: 162\n",
      "Episode: 311  steps: 144\n",
      "Episode: 312  steps: 173\n",
      "Episode: 313  steps: 195\n",
      "Episode: 314  steps: 161\n",
      "Episode: 315  steps: 187\n",
      "Episode: 316  steps: 193\n",
      "Episode: 317  steps: 169\n",
      "Episode: 318  steps: 162\n",
      "Episode: 319  steps: 200\n",
      "Episode: 320  steps: 178\n",
      "Episode: 321  steps: 158\n",
      "Episode: 322  steps: 153\n",
      "Episode: 323  steps: 170\n",
      "Episode: 324  steps: 160\n",
      "Episode: 325  steps: 184\n",
      "Episode: 326  steps: 200\n",
      "Episode: 327  steps: 187\n",
      "Episode: 328  steps: 156\n",
      "Episode: 329  steps: 159\n",
      "Episode: 330  steps: 157\n",
      "Episode: 331  steps: 170\n",
      "Episode: 332  steps: 170\n",
      "Episode: 333  steps: 162\n",
      "Episode: 334  steps: 152\n",
      "Episode: 335  steps: 151\n",
      "Episode: 336  steps: 173\n",
      "Episode: 337  steps: 172\n",
      "Episode: 338  steps: 200\n",
      "Episode: 339  steps: 178\n",
      "Episode: 340  steps: 200\n",
      "Episode: 341  steps: 200\n"
     ]
    },
    {
     "name": "stderr",
     "output_type": "stream",
     "text": [
      "[2017-11-21 15:27:27,479] Starting new video recorder writing to /Users/sungchul/Dropbox/Jupyter_Notebook/Machine_Learning/084_Large-Scale_Reinforcement_Learning/gym-results/openaigym.video.0.97469.video000343.mp4\n"
     ]
    },
    {
     "name": "stdout",
     "output_type": "stream",
     "text": [
      "Episode: 342  steps: 163\n",
      "Episode: 343  steps: 200\n",
      "Episode: 344  steps: 140\n",
      "Episode: 345  steps: 150\n",
      "Episode: 346  steps: 175\n",
      "Episode: 347  steps: 163\n",
      "Episode: 348  steps: 143\n",
      "Episode: 349  steps: 159\n",
      "Episode: 350  steps: 200\n",
      "Episode: 351  steps: 189\n",
      "Episode: 352  steps: 150\n",
      "Episode: 353  steps: 175\n",
      "Episode: 354  steps: 191\n",
      "Episode: 355  steps: 169\n",
      "Episode: 356  steps: 169\n",
      "Episode: 357  steps: 182\n",
      "Episode: 358  steps: 173\n",
      "Episode: 359  steps: 164\n",
      "Episode: 360  steps: 183\n",
      "Episode: 361  steps: 190\n",
      "Episode: 362  steps: 200\n",
      "Episode: 363  steps: 152\n",
      "Episode: 364  steps: 195\n",
      "Episode: 365  steps: 200\n",
      "Episode: 366  steps: 181\n",
      "Episode: 367  steps: 200\n",
      "Episode: 368  steps: 195\n",
      "Episode: 369  steps: 186\n",
      "Episode: 370  steps: 194\n",
      "Episode: 371  steps: 200\n",
      "Episode: 372  steps: 200\n",
      "Episode: 373  steps: 174\n",
      "Episode: 374  steps: 195\n",
      "Episode: 375  steps: 172\n",
      "Episode: 376  steps: 167\n",
      "Episode: 377  steps: 175\n",
      "Episode: 378  steps: 190\n",
      "Episode: 379  steps: 162\n",
      "Episode: 380  steps: 200\n",
      "Episode: 381  steps: 200\n",
      "Episode: 382  steps: 200\n",
      "Episode: 383  steps: 169\n",
      "Episode: 384  steps: 148\n",
      "Episode: 385  steps: 166\n",
      "Episode: 386  steps: 168\n",
      "Episode: 387  steps: 200\n",
      "Episode: 388  steps: 162\n",
      "Episode: 389  steps: 200\n",
      "Episode: 390  steps: 172\n",
      "Episode: 391  steps: 172\n",
      "Episode: 392  steps: 200\n",
      "Episode: 393  steps: 182\n",
      "Episode: 394  steps: 177\n",
      "Episode: 395  steps: 200\n",
      "Episode: 396  steps: 190\n",
      "Episode: 397  steps: 200\n",
      "Episode: 398  steps: 166\n",
      "Episode: 399  steps: 186\n",
      "Episode: 400  steps: 168\n",
      "Episode: 401  steps: 191\n",
      "Episode: 402  steps: 174\n",
      "Episode: 403  steps: 177\n",
      "Episode: 404  steps: 200\n",
      "Episode: 405  steps: 151\n",
      "Episode: 406  steps: 189\n",
      "Episode: 407  steps: 152\n",
      "Episode: 408  steps: 181\n",
      "Episode: 409  steps: 174\n",
      "Episode: 410  steps: 156\n",
      "Episode: 411  steps: 167\n",
      "Episode: 412  steps: 176\n",
      "Episode: 413  steps: 166\n",
      "Episode: 414  steps: 175\n",
      "Episode: 415  steps: 200\n",
      "Episode: 416  steps: 188\n",
      "Episode: 417  steps: 177\n",
      "Episode: 418  steps: 178\n",
      "Episode: 419  steps: 194\n",
      "Episode: 420  steps: 159\n",
      "Episode: 421  steps: 178\n",
      "Episode: 422  steps: 182\n",
      "Episode: 423  steps: 192\n",
      "Episode: 424  steps: 154\n",
      "Episode: 425  steps: 180\n",
      "Episode: 426  steps: 184\n",
      "Episode: 427  steps: 200\n",
      "Episode: 428  steps: 169\n",
      "Episode: 429  steps: 200\n",
      "Episode: 430  steps: 200\n",
      "Episode: 431  steps: 161\n",
      "Episode: 432  steps: 158\n",
      "Episode: 433  steps: 175\n",
      "Episode: 434  steps: 200\n",
      "Episode: 435  steps: 193\n",
      "Episode: 436  steps: 200\n",
      "Episode: 437  steps: 167\n",
      "Episode: 438  steps: 200\n",
      "Episode: 439  steps: 172\n",
      "Episode: 440  steps: 146\n",
      "Episode: 441  steps: 176\n",
      "Episode: 442  steps: 150\n",
      "Episode: 443  steps: 165\n",
      "Episode: 444  steps: 190\n",
      "Episode: 445  steps: 150\n",
      "Episode: 446  steps: 157\n",
      "Episode: 447  steps: 185\n",
      "Episode: 448  steps: 173\n",
      "Episode: 449  steps: 170\n",
      "Episode: 450  steps: 200\n",
      "Episode: 451  steps: 167\n",
      "Episode: 452  steps: 192\n",
      "Episode: 453  steps: 175\n",
      "Episode: 454  steps: 171\n",
      "Episode: 455  steps: 165\n",
      "Episode: 456  steps: 168\n",
      "Episode: 457  steps: 167\n",
      "Episode: 458  steps: 200\n",
      "Episode: 459  steps: 200\n",
      "Episode: 460  steps: 200\n",
      "Episode: 461  steps: 200\n",
      "Episode: 462  steps: 192\n",
      "Episode: 463  steps: 165\n",
      "Episode: 464  steps: 178\n",
      "Episode: 465  steps: 160\n",
      "Episode: 466  steps: 173\n",
      "Episode: 467  steps: 182\n",
      "Episode: 468  steps: 183\n",
      "Episode: 469  steps: 200\n",
      "Episode: 470  steps: 200\n",
      "Episode: 471  steps: 183\n",
      "Episode: 472  steps: 172\n",
      "Episode: 473  steps: 169\n",
      "Episode: 474  steps: 193\n",
      "Episode: 475  steps: 200\n",
      "Episode: 476  steps: 192\n",
      "Episode: 477  steps: 175\n",
      "Episode: 478  steps: 193\n",
      "Episode: 479  steps: 175\n",
      "Episode: 480  steps: 169\n",
      "Episode: 481  steps: 186\n",
      "Episode: 482  steps: 199\n",
      "Episode: 483  steps: 176\n",
      "Episode: 484  steps: 198\n",
      "Episode: 485  steps: 175\n",
      "Episode: 486  steps: 162\n",
      "Episode: 487  steps: 200\n",
      "Episode: 488  steps: 172\n",
      "Episode: 489  steps: 183\n",
      "Episode: 490  steps: 200\n",
      "Episode: 491  steps: 186\n",
      "Episode: 492  steps: 194\n",
      "Episode: 493  steps: 200\n",
      "Episode: 494  steps: 189\n",
      "Episode: 495  steps: 200\n",
      "Episode: 496  steps: 188\n",
      "Episode: 497  steps: 160\n",
      "Episode: 498  steps: 172\n",
      "Episode: 499  steps: 175\n",
      "Episode: 500  steps: 184\n",
      "Episode: 501  steps: 175\n",
      "Episode: 502  steps: 171\n",
      "Episode: 503  steps: 150\n",
      "Episode: 504  steps: 181\n",
      "Episode: 505  steps: 159\n",
      "Episode: 506  steps: 142\n",
      "Episode: 507  steps: 150\n",
      "Episode: 508  steps: 146\n",
      "Episode: 509  steps: 176\n",
      "Episode: 510  steps: 161\n"
     ]
    },
    {
     "name": "stderr",
     "output_type": "stream",
     "text": [
      "[2017-11-21 15:29:00,527] Starting new video recorder writing to /Users/sungchul/Dropbox/Jupyter_Notebook/Machine_Learning/084_Large-Scale_Reinforcement_Learning/gym-results/openaigym.video.0.97469.video000512.mp4\n"
     ]
    },
    {
     "name": "stdout",
     "output_type": "stream",
     "text": [
      "Episode: 511  steps: 167\n",
      "Episode: 512  steps: 151\n",
      "Episode: 513  steps: 175\n",
      "Episode: 514  steps: 170\n",
      "Episode: 515  steps: 177\n",
      "Episode: 516  steps: 152\n",
      "Episode: 517  steps: 165\n",
      "Episode: 518  steps: 183\n",
      "Episode: 519  steps: 178\n",
      "Episode: 520  steps: 182\n",
      "Episode: 521  steps: 189\n",
      "Episode: 522  steps: 174\n",
      "Episode: 523  steps: 149\n",
      "Episode: 524  steps: 169\n",
      "Episode: 525  steps: 159\n",
      "Episode: 526  steps: 162\n",
      "Episode: 527  steps: 163\n",
      "Episode: 528  steps: 171\n",
      "Episode: 529  steps: 164\n",
      "Episode: 530  steps: 180\n",
      "Episode: 531  steps: 143\n",
      "Episode: 532  steps: 152\n",
      "Episode: 533  steps: 163\n",
      "Episode: 534  steps: 164\n",
      "Episode: 535  steps: 160\n",
      "Episode: 536  steps: 150\n",
      "Episode: 537  steps: 141\n",
      "Episode: 538  steps: 123\n",
      "Episode: 539  steps: 108\n",
      "Episode: 540  steps: 9\n",
      "Episode: 541  steps: 10\n",
      "Episode: 542  steps: 9\n",
      "Episode: 543  steps: 10\n",
      "Episode: 544  steps: 9\n",
      "Episode: 545  steps: 10\n",
      "Episode: 546  steps: 9\n",
      "Episode: 547  steps: 10\n",
      "Episode: 548  steps: 10\n",
      "Episode: 549  steps: 10\n",
      "Episode: 550  steps: 10\n",
      "Episode: 551  steps: 11\n",
      "Episode: 552  steps: 10\n",
      "Episode: 553  steps: 9\n",
      "Episode: 554  steps: 10\n",
      "Episode: 555  steps: 9\n",
      "Episode: 556  steps: 11\n",
      "Episode: 557  steps: 10\n",
      "Episode: 558  steps: 10\n",
      "Episode: 559  steps: 9\n",
      "Episode: 560  steps: 11\n",
      "Episode: 561  steps: 10\n",
      "Episode: 562  steps: 10\n",
      "Episode: 563  steps: 11\n",
      "Episode: 564  steps: 12\n",
      "Episode: 565  steps: 10\n",
      "Episode: 566  steps: 10\n",
      "Episode: 567  steps: 9\n",
      "Episode: 568  steps: 10\n",
      "Episode: 569  steps: 10\n",
      "Episode: 570  steps: 10\n",
      "Episode: 571  steps: 10\n",
      "Episode: 572  steps: 10\n",
      "Episode: 573  steps: 11\n",
      "Episode: 574  steps: 12\n",
      "Episode: 575  steps: 10\n",
      "Episode: 576  steps: 11\n",
      "Episode: 577  steps: 12\n",
      "Episode: 578  steps: 12\n",
      "Episode: 579  steps: 12\n",
      "Episode: 580  steps: 14\n",
      "Episode: 581  steps: 118\n",
      "Episode: 582  steps: 113\n",
      "Episode: 583  steps: 117\n",
      "Episode: 584  steps: 133\n",
      "Episode: 585  steps: 148\n",
      "Episode: 586  steps: 200\n",
      "Episode: 587  steps: 200\n",
      "Episode: 588  steps: 200\n",
      "Episode: 589  steps: 140\n",
      "Episode: 590  steps: 200\n",
      "Episode: 591  steps: 26\n",
      "Episode: 592  steps: 10\n",
      "Episode: 593  steps: 10\n",
      "Episode: 594  steps: 10\n",
      "Episode: 595  steps: 10\n",
      "Episode: 596  steps: 10\n",
      "Episode: 597  steps: 9\n",
      "Episode: 598  steps: 11\n",
      "Episode: 599  steps: 9\n",
      "Episode: 600  steps: 12\n",
      "Episode: 601  steps: 10\n",
      "Episode: 602  steps: 10\n",
      "Episode: 603  steps: 9\n",
      "Episode: 604  steps: 8\n",
      "Episode: 605  steps: 10\n",
      "Episode: 606  steps: 9\n",
      "Episode: 607  steps: 10\n",
      "Episode: 608  steps: 10\n",
      "Episode: 609  steps: 10\n",
      "Episode: 610  steps: 10\n",
      "Episode: 611  steps: 10\n",
      "Episode: 612  steps: 8\n",
      "Episode: 613  steps: 10\n",
      "Episode: 614  steps: 9\n",
      "Episode: 615  steps: 9\n",
      "Episode: 616  steps: 8\n",
      "Episode: 617  steps: 9\n",
      "Episode: 618  steps: 10\n",
      "Episode: 619  steps: 10\n",
      "Episode: 620  steps: 10\n",
      "Episode: 621  steps: 9\n",
      "Episode: 622  steps: 9\n",
      "Episode: 623  steps: 9\n",
      "Episode: 624  steps: 9\n",
      "Episode: 625  steps: 11\n",
      "Episode: 626  steps: 9\n",
      "Episode: 627  steps: 10\n",
      "Episode: 628  steps: 9\n",
      "Episode: 629  steps: 10\n",
      "Episode: 630  steps: 10\n",
      "Episode: 631  steps: 11\n",
      "Episode: 632  steps: 10\n",
      "Episode: 633  steps: 10\n",
      "Episode: 634  steps: 11\n",
      "Episode: 635  steps: 10\n",
      "Episode: 636  steps: 9\n",
      "Episode: 637  steps: 10\n",
      "Episode: 638  steps: 200\n",
      "Episode: 639  steps: 200\n",
      "Episode: 640  steps: 200\n",
      "Episode: 641  steps: 200\n",
      "Episode: 642  steps: 200\n",
      "Episode: 643  steps: 200\n",
      "Episode: 644  steps: 200\n",
      "Episode: 645  steps: 200\n",
      "Episode: 646  steps: 200\n",
      "Episode: 647  steps: 200\n",
      "Episode: 648  steps: 200\n",
      "Episode: 649  steps: 177\n",
      "Episode: 650  steps: 200\n",
      "Episode: 651  steps: 192\n",
      "Episode: 652  steps: 200\n",
      "Episode: 653  steps: 200\n",
      "Episode: 654  steps: 189\n",
      "Episode: 655  steps: 200\n",
      "Episode: 656  steps: 163\n",
      "Episode: 657  steps: 166\n",
      "Episode: 658  steps: 172\n",
      "Episode: 659  steps: 156\n",
      "Episode: 660  steps: 163\n",
      "Episode: 661  steps: 159\n",
      "Episode: 662  steps: 153\n",
      "Episode: 663  steps: 174\n",
      "Episode: 664  steps: 173\n",
      "Episode: 665  steps: 154\n",
      "Episode: 666  steps: 152\n",
      "Episode: 667  steps: 186\n",
      "Episode: 668  steps: 147\n",
      "Episode: 669  steps: 169\n",
      "Episode: 670  steps: 153\n",
      "Episode: 671  steps: 125\n",
      "Episode: 672  steps: 130\n",
      "Episode: 673  steps: 133\n",
      "Episode: 674  steps: 163\n",
      "Episode: 675  steps: 130\n",
      "Episode: 676  steps: 144\n",
      "Episode: 677  steps: 138\n",
      "Episode: 678  steps: 133\n",
      "Episode: 679  steps: 138\n",
      "Episode: 680  steps: 138\n",
      "Episode: 681  steps: 124\n",
      "Episode: 682  steps: 122\n",
      "Episode: 683  steps: 125\n",
      "Episode: 684  steps: 124\n",
      "Episode: 685  steps: 121\n",
      "Episode: 686  steps: 119\n",
      "Episode: 687  steps: 129\n",
      "Episode: 688  steps: 132\n",
      "Episode: 689  steps: 132\n",
      "Episode: 690  steps: 151\n",
      "Episode: 691  steps: 148\n",
      "Episode: 692  steps: 137\n",
      "Episode: 693  steps: 120\n",
      "Episode: 694  steps: 122\n",
      "Episode: 695  steps: 133\n",
      "Episode: 696  steps: 127\n",
      "Episode: 697  steps: 144\n",
      "Episode: 698  steps: 124\n",
      "Episode: 699  steps: 131\n",
      "Episode: 700  steps: 132\n",
      "Episode: 701  steps: 124\n",
      "Episode: 702  steps: 148\n",
      "Episode: 703  steps: 124\n",
      "Episode: 704  steps: 116\n",
      "Episode: 705  steps: 125\n",
      "Episode: 706  steps: 142\n",
      "Episode: 707  steps: 143\n",
      "Episode: 708  steps: 137\n",
      "Episode: 709  steps: 134\n",
      "Episode: 710  steps: 150\n",
      "Episode: 711  steps: 140\n",
      "Episode: 712  steps: 144\n",
      "Episode: 713  steps: 127\n",
      "Episode: 714  steps: 149\n",
      "Episode: 715  steps: 134\n",
      "Episode: 716  steps: 126\n",
      "Episode: 717  steps: 125\n",
      "Episode: 718  steps: 144\n",
      "Episode: 719  steps: 160\n",
      "Episode: 720  steps: 129\n",
      "Episode: 721  steps: 137\n",
      "Episode: 722  steps: 129\n",
      "Episode: 723  steps: 130\n",
      "Episode: 724  steps: 133\n",
      "Episode: 725  steps: 132\n",
      "Episode: 726  steps: 137\n",
      "Episode: 727  steps: 143\n"
     ]
    },
    {
     "name": "stderr",
     "output_type": "stream",
     "text": [
      "[2017-11-21 15:30:05,349] Starting new video recorder writing to /Users/sungchul/Dropbox/Jupyter_Notebook/Machine_Learning/084_Large-Scale_Reinforcement_Learning/gym-results/openaigym.video.0.97469.video000729.mp4\n"
     ]
    },
    {
     "name": "stdout",
     "output_type": "stream",
     "text": [
      "Episode: 728  steps: 125\n",
      "Episode: 729  steps: 123\n",
      "Episode: 730  steps: 115\n",
      "Episode: 731  steps: 140\n",
      "Episode: 732  steps: 120\n",
      "Episode: 733  steps: 112\n",
      "Episode: 734  steps: 120\n",
      "Episode: 735  steps: 126\n",
      "Episode: 736  steps: 134\n",
      "Episode: 737  steps: 133\n",
      "Episode: 738  steps: 136\n",
      "Episode: 739  steps: 137\n",
      "Episode: 740  steps: 126\n",
      "Episode: 741  steps: 119\n",
      "Episode: 742  steps: 136\n",
      "Episode: 743  steps: 124\n",
      "Episode: 744  steps: 128\n",
      "Episode: 745  steps: 137\n",
      "Episode: 746  steps: 143\n",
      "Episode: 747  steps: 127\n",
      "Episode: 748  steps: 135\n",
      "Episode: 749  steps: 156\n",
      "Episode: 750  steps: 125\n",
      "Episode: 751  steps: 132\n",
      "Episode: 752  steps: 136\n",
      "Episode: 753  steps: 145\n",
      "Episode: 754  steps: 129\n",
      "Episode: 755  steps: 141\n",
      "Episode: 756  steps: 121\n",
      "Episode: 757  steps: 147\n",
      "Episode: 758  steps: 132\n",
      "Episode: 759  steps: 128\n",
      "Episode: 760  steps: 122\n",
      "Episode: 761  steps: 145\n",
      "Episode: 762  steps: 132\n",
      "Episode: 763  steps: 126\n",
      "Episode: 764  steps: 127\n",
      "Episode: 765  steps: 122\n",
      "Episode: 766  steps: 125\n",
      "Episode: 767  steps: 123\n",
      "Episode: 768  steps: 126\n",
      "Episode: 769  steps: 133\n",
      "Episode: 770  steps: 130\n",
      "Episode: 771  steps: 125\n",
      "Episode: 772  steps: 115\n",
      "Episode: 773  steps: 135\n",
      "Episode: 774  steps: 128\n",
      "Episode: 775  steps: 124\n",
      "Episode: 776  steps: 128\n",
      "Episode: 777  steps: 127\n",
      "Episode: 778  steps: 133\n",
      "Episode: 779  steps: 135\n",
      "Episode: 780  steps: 124\n",
      "Episode: 781  steps: 127\n",
      "Episode: 782  steps: 121\n",
      "Episode: 783  steps: 119\n",
      "Episode: 784  steps: 116\n",
      "Episode: 785  steps: 119\n",
      "Episode: 786  steps: 129\n",
      "Episode: 787  steps: 139\n",
      "Episode: 788  steps: 150\n",
      "Episode: 789  steps: 140\n",
      "Episode: 790  steps: 130\n",
      "Episode: 791  steps: 147\n",
      "Episode: 792  steps: 132\n",
      "Episode: 793  steps: 137\n",
      "Episode: 794  steps: 140\n",
      "Episode: 795  steps: 128\n",
      "Episode: 796  steps: 132\n",
      "Episode: 797  steps: 132\n",
      "Episode: 798  steps: 135\n",
      "Episode: 799  steps: 134\n",
      "Episode: 800  steps: 119\n",
      "Episode: 801  steps: 135\n",
      "Episode: 802  steps: 126\n",
      "Episode: 803  steps: 111\n",
      "Episode: 804  steps: 119\n",
      "Episode: 805  steps: 119\n",
      "Episode: 806  steps: 116\n",
      "Episode: 807  steps: 135\n",
      "Episode: 808  steps: 139\n",
      "Episode: 809  steps: 145\n",
      "Episode: 810  steps: 128\n",
      "Episode: 811  steps: 117\n",
      "Episode: 812  steps: 126\n",
      "Episode: 813  steps: 131\n",
      "Episode: 814  steps: 123\n",
      "Episode: 815  steps: 128\n",
      "Episode: 816  steps: 134\n",
      "Episode: 817  steps: 134\n",
      "Episode: 818  steps: 127\n",
      "Episode: 819  steps: 120\n",
      "Episode: 820  steps: 142\n",
      "Episode: 821  steps: 143\n",
      "Episode: 822  steps: 141\n",
      "Episode: 823  steps: 151\n",
      "Episode: 824  steps: 141\n",
      "Episode: 825  steps: 123\n",
      "Episode: 826  steps: 126\n",
      "Episode: 827  steps: 127\n",
      "Episode: 828  steps: 121\n",
      "Episode: 829  steps: 117\n",
      "Episode: 830  steps: 117\n",
      "Episode: 831  steps: 124\n",
      "Episode: 832  steps: 130\n",
      "Episode: 833  steps: 119\n",
      "Episode: 834  steps: 123\n",
      "Episode: 835  steps: 119\n",
      "Episode: 836  steps: 129\n",
      "Episode: 837  steps: 127\n",
      "Episode: 838  steps: 150\n",
      "Episode: 839  steps: 136\n",
      "Episode: 840  steps: 117\n",
      "Episode: 841  steps: 126\n",
      "Episode: 842  steps: 120\n",
      "Episode: 843  steps: 102\n",
      "Episode: 844  steps: 104\n",
      "Episode: 845  steps: 109\n",
      "Episode: 846  steps: 125\n",
      "Episode: 847  steps: 110\n",
      "Episode: 848  steps: 112\n",
      "Episode: 849  steps: 134\n",
      "Episode: 850  steps: 135\n",
      "Episode: 851  steps: 156\n",
      "Episode: 852  steps: 163\n",
      "Episode: 853  steps: 178\n",
      "Episode: 854  steps: 133\n",
      "Episode: 855  steps: 129\n",
      "Episode: 856  steps: 106\n",
      "Episode: 857  steps: 29\n",
      "Episode: 858  steps: 106\n",
      "Episode: 859  steps: 111\n",
      "Episode: 860  steps: 104\n",
      "Episode: 861  steps: 42\n",
      "Episode: 862  steps: 104\n",
      "Episode: 863  steps: 108\n",
      "Episode: 864  steps: 123\n",
      "Episode: 865  steps: 132\n",
      "Episode: 866  steps: 133\n",
      "Episode: 867  steps: 120\n",
      "Episode: 868  steps: 124\n",
      "Episode: 869  steps: 142\n",
      "Episode: 870  steps: 200\n",
      "Episode: 871  steps: 165\n",
      "Episode: 872  steps: 192\n",
      "Episode: 873  steps: 200\n",
      "Episode: 874  steps: 187\n",
      "Episode: 875  steps: 200\n",
      "Episode: 876  steps: 166\n",
      "Episode: 877  steps: 139\n",
      "Episode: 878  steps: 122\n",
      "Episode: 879  steps: 126\n",
      "Episode: 880  steps: 137\n",
      "Episode: 881  steps: 108\n",
      "Episode: 882  steps: 132\n",
      "Episode: 883  steps: 125\n",
      "Episode: 884  steps: 126\n",
      "Episode: 885  steps: 117\n",
      "Episode: 886  steps: 125\n",
      "Episode: 887  steps: 137\n",
      "Episode: 888  steps: 136\n",
      "Episode: 889  steps: 139\n",
      "Episode: 890  steps: 180\n",
      "Episode: 891  steps: 149\n",
      "Episode: 892  steps: 173\n",
      "Episode: 893  steps: 130\n",
      "Episode: 894  steps: 127\n",
      "Episode: 895  steps: 106\n",
      "Episode: 896  steps: 121\n",
      "Episode: 897  steps: 109\n",
      "Episode: 898  steps: 104\n",
      "Episode: 899  steps: 113\n",
      "Episode: 900  steps: 132\n",
      "Episode: 901  steps: 135\n",
      "Episode: 902  steps: 148\n",
      "Episode: 903  steps: 162\n",
      "Episode: 904  steps: 157\n",
      "Episode: 905  steps: 158\n",
      "Episode: 906  steps: 145\n",
      "Episode: 907  steps: 156\n",
      "Episode: 908  steps: 117\n",
      "Episode: 909  steps: 109\n",
      "Episode: 910  steps: 113\n",
      "Episode: 911  steps: 108\n",
      "Episode: 912  steps: 105\n",
      "Episode: 913  steps: 100\n",
      "Episode: 914  steps: 109\n",
      "Episode: 915  steps: 125\n",
      "Episode: 916  steps: 151\n",
      "Episode: 917  steps: 126\n",
      "Episode: 918  steps: 173\n",
      "Episode: 919  steps: 200\n",
      "Episode: 920  steps: 152\n",
      "Episode: 921  steps: 132\n",
      "Episode: 922  steps: 110\n",
      "Episode: 923  steps: 130\n",
      "Episode: 924  steps: 131\n",
      "Episode: 925  steps: 106\n",
      "Episode: 926  steps: 109\n",
      "Episode: 927  steps: 116\n",
      "Episode: 928  steps: 108\n",
      "Episode: 929  steps: 110\n",
      "Episode: 930  steps: 150\n",
      "Episode: 931  steps: 183\n",
      "Episode: 932  steps: 170\n",
      "Episode: 933  steps: 200\n",
      "Episode: 934  steps: 200\n",
      "Episode: 935  steps: 200\n",
      "Episode: 936  steps: 158\n",
      "Episode: 937  steps: 109\n",
      "Episode: 938  steps: 109\n",
      "Episode: 939  steps: 36\n",
      "Episode: 940  steps: 110\n",
      "Episode: 941  steps: 116\n",
      "Episode: 942  steps: 103\n",
      "Episode: 943  steps: 114\n",
      "Episode: 944  steps: 129\n",
      "Episode: 945  steps: 120\n",
      "Episode: 946  steps: 26\n",
      "Episode: 947  steps: 106\n",
      "Episode: 948  steps: 42\n",
      "Episode: 949  steps: 108\n",
      "Episode: 950  steps: 99\n",
      "Episode: 951  steps: 114\n",
      "Episode: 952  steps: 134\n",
      "Episode: 953  steps: 130\n",
      "Episode: 954  steps: 200\n",
      "Episode: 955  steps: 200\n",
      "Episode: 956  steps: 200\n",
      "Episode: 957  steps: 200\n",
      "Episode: 958  steps: 186\n",
      "Episode: 959  steps: 118\n",
      "Episode: 960  steps: 131\n",
      "Episode: 961  steps: 157\n",
      "Episode: 962  steps: 105\n",
      "Episode: 963  steps: 109\n",
      "Episode: 964  steps: 131\n",
      "Episode: 965  steps: 194\n",
      "Episode: 966  steps: 169\n",
      "Episode: 967  steps: 137\n",
      "Episode: 968  steps: 115\n",
      "Episode: 969  steps: 112\n",
      "Episode: 970  steps: 99\n",
      "Episode: 971  steps: 128\n",
      "Episode: 972  steps: 129\n",
      "Episode: 973  steps: 44\n",
      "Episode: 974  steps: 117\n",
      "Episode: 975  steps: 110\n",
      "Episode: 976  steps: 155\n",
      "Episode: 977  steps: 194\n",
      "Episode: 978  steps: 200\n",
      "Episode: 979  steps: 200\n",
      "Episode: 980  steps: 200\n",
      "Episode: 981  steps: 200\n",
      "Episode: 982  steps: 200\n",
      "Episode: 983  steps: 200\n",
      "Episode: 984  steps: 200\n",
      "Episode: 985  steps: 200\n",
      "Episode: 986  steps: 180\n",
      "Episode: 987  steps: 117\n",
      "Episode: 988  steps: 101\n",
      "Episode: 989  steps: 90\n",
      "Episode: 990  steps: 27\n",
      "Episode: 991  steps: 22\n",
      "Episode: 992  steps: 29\n",
      "Episode: 993  steps: 23\n",
      "Episode: 994  steps: 27\n",
      "Episode: 995  steps: 21\n",
      "Episode: 996  steps: 16\n",
      "Episode: 997  steps: 20\n",
      "Episode: 998  steps: 25\n"
     ]
    },
    {
     "name": "stderr",
     "output_type": "stream",
     "text": [
      "[2017-11-21 15:31:51,764] Starting new video recorder writing to /Users/sungchul/Dropbox/Jupyter_Notebook/Machine_Learning/084_Large-Scale_Reinforcement_Learning/gym-results/openaigym.video.0.97469.video001000.mp4\n"
     ]
    },
    {
     "name": "stdout",
     "output_type": "stream",
     "text": [
      "Episode: 999  steps: 22\n",
      "Episode: 1000  steps: 22\n",
      "Episode: 1001  steps: 16\n",
      "Episode: 1002  steps: 17\n",
      "Episode: 1003  steps: 21\n",
      "Episode: 1004  steps: 17\n",
      "Episode: 1005  steps: 17\n",
      "Episode: 1006  steps: 22\n",
      "Episode: 1007  steps: 17\n",
      "Episode: 1008  steps: 19\n",
      "Episode: 1009  steps: 20\n",
      "Episode: 1010  steps: 17\n",
      "Episode: 1011  steps: 20\n",
      "Episode: 1012  steps: 14\n",
      "Episode: 1013  steps: 15\n",
      "Episode: 1014  steps: 18\n",
      "Episode: 1015  steps: 17\n",
      "Episode: 1016  steps: 16\n",
      "Episode: 1017  steps: 16\n",
      "Episode: 1018  steps: 18\n",
      "Episode: 1019  steps: 13\n",
      "Episode: 1020  steps: 19\n",
      "Episode: 1021  steps: 15\n",
      "Episode: 1022  steps: 21\n",
      "Episode: 1023  steps: 14\n",
      "Episode: 1024  steps: 14\n",
      "Episode: 1025  steps: 17\n",
      "Episode: 1026  steps: 20\n",
      "Episode: 1027  steps: 16\n",
      "Episode: 1028  steps: 17\n",
      "Episode: 1029  steps: 19\n",
      "Episode: 1030  steps: 23\n",
      "Episode: 1031  steps: 22\n",
      "Episode: 1032  steps: 16\n",
      "Episode: 1033  steps: 18\n",
      "Episode: 1034  steps: 18\n",
      "Episode: 1035  steps: 21\n",
      "Episode: 1036  steps: 16\n",
      "Episode: 1037  steps: 22\n",
      "Episode: 1038  steps: 14\n",
      "Episode: 1039  steps: 17\n",
      "Episode: 1040  steps: 17\n",
      "Episode: 1041  steps: 19\n",
      "Episode: 1042  steps: 18\n",
      "Episode: 1043  steps: 19\n",
      "Episode: 1044  steps: 25\n",
      "Episode: 1045  steps: 20\n",
      "Episode: 1046  steps: 22\n",
      "Episode: 1047  steps: 20\n",
      "Episode: 1048  steps: 19\n",
      "Episode: 1049  steps: 18\n",
      "Episode: 1050  steps: 22\n",
      "Episode: 1051  steps: 22\n",
      "Episode: 1052  steps: 23\n",
      "Episode: 1053  steps: 21\n",
      "Episode: 1054  steps: 26\n",
      "Episode: 1055  steps: 28\n",
      "Episode: 1056  steps: 27\n",
      "Episode: 1057  steps: 31\n",
      "Episode: 1058  steps: 28\n",
      "Episode: 1059  steps: 28\n",
      "Episode: 1060  steps: 27\n",
      "Episode: 1061  steps: 23\n",
      "Episode: 1062  steps: 25\n",
      "Episode: 1063  steps: 36\n",
      "Episode: 1064  steps: 30\n",
      "Episode: 1065  steps: 36\n",
      "Episode: 1066  steps: 30\n",
      "Episode: 1067  steps: 35\n",
      "Episode: 1068  steps: 33\n",
      "Episode: 1069  steps: 103\n",
      "Episode: 1070  steps: 103\n",
      "Episode: 1071  steps: 109\n",
      "Episode: 1072  steps: 124\n",
      "Episode: 1073  steps: 125\n",
      "Episode: 1074  steps: 136\n",
      "Episode: 1075  steps: 152\n",
      "Episode: 1076  steps: 200\n",
      "Episode: 1077  steps: 200\n",
      "Episode: 1078  steps: 200\n",
      "Episode: 1079  steps: 200\n",
      "Episode: 1080  steps: 200\n",
      "Episode: 1081  steps: 200\n",
      "Episode: 1082  steps: 200\n",
      "Episode: 1083  steps: 200\n",
      "Episode: 1084  steps: 200\n",
      "Episode: 1085  steps: 200\n",
      "Episode: 1086  steps: 200\n",
      "Episode: 1087  steps: 200\n",
      "Episode: 1088  steps: 200\n",
      "Episode: 1089  steps: 200\n",
      "Episode: 1090  steps: 200\n",
      "Episode: 1091  steps: 200\n",
      "Episode: 1092  steps: 200\n",
      "Episode: 1093  steps: 200\n",
      "Episode: 1094  steps: 200\n",
      "Episode: 1095  steps: 200\n",
      "Episode: 1096  steps: 200\n",
      "Episode: 1097  steps: 200\n",
      "Episode: 1098  steps: 200\n",
      "Episode: 1099  steps: 200\n",
      "Episode: 1100  steps: 200\n",
      "Episode: 1101  steps: 200\n",
      "Episode: 1102  steps: 200\n",
      "Episode: 1103  steps: 200\n",
      "Episode: 1104  steps: 200\n",
      "Episode: 1105  steps: 200\n",
      "Episode: 1106  steps: 200\n",
      "Episode: 1107  steps: 200\n",
      "Episode: 1108  steps: 200\n",
      "Episode: 1109  steps: 200\n",
      "Episode: 1110  steps: 200\n",
      "Episode: 1111  steps: 200\n",
      "Episode: 1112  steps: 200\n",
      "Episode: 1113  steps: 200\n",
      "Episode: 1114  steps: 200\n",
      "Episode: 1115  steps: 200\n",
      "Episode: 1116  steps: 200\n",
      "Episode: 1117  steps: 200\n",
      "Episode: 1118  steps: 200\n",
      "Episode: 1119  steps: 200\n",
      "Episode: 1120  steps: 200\n",
      "Episode: 1121  steps: 200\n",
      "Episode: 1122  steps: 200\n",
      "Episode: 1123  steps: 200\n",
      "Episode: 1124  steps: 200\n",
      "Episode: 1125  steps: 200\n",
      "Episode: 1126  steps: 200\n",
      "Episode: 1127  steps: 200\n",
      "Episode: 1128  steps: 200\n",
      "Episode: 1129  steps: 200\n",
      "Episode: 1130  steps: 200\n",
      "Episode: 1131  steps: 200\n",
      "Episode: 1132  steps: 200\n",
      "Episode: 1133  steps: 200\n",
      "Episode: 1134  steps: 200\n",
      "Episode: 1135  steps: 200\n",
      "Episode: 1136  steps: 200\n",
      "Episode: 1137  steps: 200\n",
      "Episode: 1138  steps: 200\n",
      "Episode: 1139  steps: 200\n",
      "Episode: 1140  steps: 200\n",
      "Episode: 1141  steps: 200\n",
      "Episode: 1142  steps: 200\n",
      "Episode: 1143  steps: 200\n",
      "Episode: 1144  steps: 200\n",
      "Episode: 1145  steps: 200\n",
      "Episode: 1146  steps: 200\n",
      "Episode: 1147  steps: 200\n",
      "Episode: 1148  steps: 200\n",
      "Episode: 1149  steps: 200\n",
      "Episode: 1150  steps: 200\n",
      "Episode: 1151  steps: 200\n",
      "Episode: 1152  steps: 200\n",
      "Episode: 1153  steps: 200\n",
      "Episode: 1154  steps: 200\n",
      "Episode: 1155  steps: 200\n",
      "Episode: 1156  steps: 200\n",
      "Episode: 1157  steps: 200\n",
      "Episode: 1158  steps: 200\n",
      "Episode: 1159  steps: 200\n",
      "Episode: 1160  steps: 200\n",
      "Episode: 1161  steps: 200\n",
      "Episode: 1162  steps: 200\n",
      "Episode: 1163  steps: 200\n",
      "Episode: 1164  steps: 200\n",
      "Episode: 1165  steps: 200\n",
      "Episode: 1166  steps: 200\n",
      "Episode: 1167  steps: 200\n",
      "Episode: 1168  steps: 200\n",
      "Episode: 1169  steps: 200\n",
      "Episode: 1170  steps: 200\n",
      "Episode: 1171  steps: 200\n",
      "Episode: 1172  steps: 200\n",
      "Episode: 1173  steps: 200\n",
      "Episode: 1174  steps: 200\n",
      "Game Cleared in 1174 episodes with avg reward 199.52\n"
     ]
    }
   ],
   "source": [
    "# https://github.com/hunkim/ReinforcementZeroToAll/blob/master/07_3_dqn_2015_cartpole.py\n",
    "\n",
    "\"\"\"\n",
    "Double DQN (Nature 2015)\n",
    "http://web.stanford.edu/class/psych209/Readings/MnihEtAlHassibis15NatureControlDeepRL.pdf\n",
    "Notes:\n",
    "    The difference is that now there are two DQNs (DQN & Target DQN)\n",
    "    y_i = r_i + 𝛾 * max(Q(next_state, action; 𝜃_target))\n",
    "    Loss: (y_i - Q(state, action; 𝜃))^2\n",
    "    Every C step, 𝜃_target <- 𝜃\n",
    "\"\"\"\n",
    "import numpy as np\n",
    "import tensorflow as tf\n",
    "import random\n",
    "from collections import deque\n",
    "import dqn\n",
    "\n",
    "import gym\n",
    "from typing import List\n",
    "\n",
    "env = gym.make('CartPole-v0')\n",
    "env = gym.wrappers.Monitor(env, directory=\"gym-results/\", force=True)\n",
    "\n",
    "# Constants defining our neural network\n",
    "INPUT_SIZE = env.observation_space.shape[0]\n",
    "OUTPUT_SIZE = env.action_space.n\n",
    "\n",
    "DISCOUNT_RATE = 0.99\n",
    "REPLAY_MEMORY = 50000\n",
    "BATCH_SIZE = 64\n",
    "TARGET_UPDATE_FREQUENCY = 5\n",
    "MAX_EPISODES = 5000\n",
    "\n",
    "\n",
    "def replay_train(mainDQN: dqn.DQN, targetDQN: dqn.DQN, train_batch: list) -> float:\n",
    "    \"\"\"Trains `mainDQN` with target Q values given by `targetDQN`\n",
    "    Args:\n",
    "        mainDQN (dqn.DQN): Main DQN that will be trained\n",
    "        targetDQN (dqn.DQN): Target DQN that will predict Q_target\n",
    "        train_batch (list): Minibatch of replay memory\n",
    "            Each element is (s, a, r, s', done)\n",
    "            [(state, action, reward, next_state, done), ...]\n",
    "    Returns:\n",
    "        float: After updating `mainDQN`, it returns a `loss`\n",
    "    \"\"\"\n",
    "    states = np.vstack([x[0] for x in train_batch])\n",
    "    actions = np.array([x[1] for x in train_batch])\n",
    "    rewards = np.array([x[2] for x in train_batch])\n",
    "    next_states = np.vstack([x[3] for x in train_batch])\n",
    "    done = np.array([x[4] for x in train_batch])\n",
    "\n",
    "    X = states\n",
    "\n",
    "    Q_target = rewards + DISCOUNT_RATE * np.max(targetDQN.predict(next_states), axis=1) * ~done\n",
    "\n",
    "    y = mainDQN.predict(states)\n",
    "    y[np.arange(len(X)), actions] = Q_target\n",
    "\n",
    "    # Train our network using target and predicted Q values on each episode\n",
    "    return mainDQN.update(X, y)\n",
    "\n",
    "\n",
    "def get_copy_var_ops(*, dest_scope_name: str, src_scope_name: str) -> List[tf.Operation]:\n",
    "    \"\"\"Creates TF operations that copy weights from `src_scope` to `dest_scope`\n",
    "    Args:\n",
    "        dest_scope_name (str): Destination weights (copy to)\n",
    "        src_scope_name (str): Source weight (copy from)\n",
    "    Returns:\n",
    "        List[tf.Operation]: Update operations are created and returned\n",
    "    \"\"\"\n",
    "    # Copy variables src_scope to dest_scope\n",
    "    op_holder = []\n",
    "\n",
    "    src_vars = tf.get_collection(\n",
    "        tf.GraphKeys.TRAINABLE_VARIABLES, scope=src_scope_name)\n",
    "    dest_vars = tf.get_collection(\n",
    "        tf.GraphKeys.TRAINABLE_VARIABLES, scope=dest_scope_name)\n",
    "\n",
    "    for src_var, dest_var in zip(src_vars, dest_vars):\n",
    "        op_holder.append(dest_var.assign(src_var.value()))\n",
    "\n",
    "    return op_holder\n",
    "\n",
    "\n",
    "def bot_play(mainDQN: dqn.DQN, env: gym.Env) -> None:\n",
    "    \"\"\"Test runs with rendering and prints the total score\n",
    "    Args:\n",
    "        mainDQN (dqn.DQN): DQN agent to run a test\n",
    "        env (gym.Env): Gym Environment\n",
    "    \"\"\"\n",
    "    state = env.reset()\n",
    "    reward_sum = 0\n",
    "\n",
    "    while True:\n",
    "\n",
    "        env.render()\n",
    "        action = np.argmax(mainDQN.predict(state))\n",
    "        state, reward, done, _ = env.step(action)\n",
    "        reward_sum += reward\n",
    "\n",
    "        if done:\n",
    "            print(\"Total score: {}\".format(reward_sum))\n",
    "            break\n",
    "\n",
    "\n",
    "def main():\n",
    "    # store the previous observations in replay memory\n",
    "    replay_buffer = deque(maxlen=REPLAY_MEMORY)\n",
    "\n",
    "    last_100_game_reward = deque(maxlen=100)\n",
    "\n",
    "    with tf.Session() as sess:\n",
    "        mainDQN = dqn.DQN(sess, INPUT_SIZE, OUTPUT_SIZE, name=\"main\")\n",
    "        targetDQN = dqn.DQN(sess, INPUT_SIZE, OUTPUT_SIZE, name=\"target\")\n",
    "        sess.run(tf.global_variables_initializer())\n",
    "\n",
    "        # initial copy q_net -> target_net\n",
    "        copy_ops = get_copy_var_ops(dest_scope_name=\"target\",\n",
    "                                    src_scope_name=\"main\")\n",
    "        sess.run(copy_ops)\n",
    "\n",
    "        for episode in range(MAX_EPISODES):\n",
    "            e = 1. / ((episode / 10) + 1)\n",
    "            done = False\n",
    "            step_count = 0\n",
    "            state = env.reset()\n",
    "\n",
    "            while not done:\n",
    "                if np.random.rand() < e:\n",
    "                    action = env.action_space.sample()\n",
    "                else:\n",
    "                    # Choose an action by greedily from the Q-network\n",
    "                    action = np.argmax(mainDQN.predict(state))\n",
    "\n",
    "                # Get new state and reward from environment\n",
    "                next_state, reward, done, _ = env.step(action)\n",
    "\n",
    "                if done:  # Penalty\n",
    "                    reward = -1\n",
    "\n",
    "                # Save the experience to our buffer\n",
    "                replay_buffer.append((state, action, reward, next_state, done))\n",
    "\n",
    "                if len(replay_buffer) > BATCH_SIZE:\n",
    "                    minibatch = random.sample(replay_buffer, BATCH_SIZE)\n",
    "                    loss, _ = replay_train(mainDQN, targetDQN, minibatch)\n",
    "\n",
    "                if step_count % TARGET_UPDATE_FREQUENCY == 0:\n",
    "                    sess.run(copy_ops)\n",
    "\n",
    "                state = next_state\n",
    "                step_count += 1\n",
    "\n",
    "            print(\"Episode: {}  steps: {}\".format(episode, step_count))\n",
    "\n",
    "            # CartPole-v0 Game Clear Checking Logic\n",
    "            last_100_game_reward.append(step_count)\n",
    "\n",
    "            if len(last_100_game_reward) == last_100_game_reward.maxlen:\n",
    "                avg_reward = np.mean(last_100_game_reward)\n",
    "\n",
    "                if avg_reward > 199:\n",
    "                    print(f\"Game Cleared in {episode} episodes with avg reward {avg_reward}\")\n",
    "                    break\n",
    "\n",
    "\n",
    "if __name__ == \"__main__\":\n",
    "    main()"
   ]
  }
 ],
 "metadata": {
  "celltoolbar": "Slideshow",
  "kernelspec": {
   "display_name": "Python 3",
   "language": "python",
   "name": "python3"
  },
  "language_info": {
   "codemirror_mode": {
    "name": "ipython",
    "version": 3
   },
   "file_extension": ".py",
   "mimetype": "text/x-python",
   "name": "python",
   "nbconvert_exporter": "python",
   "pygments_lexer": "ipython3",
   "version": "3.6.0"
  }
 },
 "nbformat": 4,
 "nbformat_minor": 2
}
