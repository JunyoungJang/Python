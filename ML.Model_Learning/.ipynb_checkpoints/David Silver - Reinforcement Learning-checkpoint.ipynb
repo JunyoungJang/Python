{
 "cells": [
  {
   "cell_type": "markdown",
   "metadata": {},
   "source": [
    "# [Reinforcement Learning by David Silver](http://www0.cs.ucl.ac.uk/staff/d.silver/web/Teaching.html)\n",
    "\n",
    "\n",
    "[1 Introduction to Reinforcement Learning](https://www.youtube.com/watch?v=2pWv7GOvuf0&list=PL7-jPKtc4r78-wCZcQn5IqyuWhBZ8fOxT) [local-video](http://localhost:8888/notebooks/Dropbox/Video/1 - 1 Introduction to Week One from Franklin Allen.mp4) [local-slide](http://localhost:8888/notebooks/Dropbox/Paper/Reinforcement Learning by David Silver 1.pdf) [slide](http://www0.cs.ucl.ac.uk/staff/d.silver/web/Teaching_files/intro_RL.pdf)\n",
    "\n",
    "[2 Markov Decision Process](https://www.youtube.com/watch?v=lfHX2hHRMVQ&index=2&list=PL7-jPKtc4r78-wCZcQn5IqyuWhBZ8fOxT) [local-video](http://localhost:8888/notebooks/Dropbox/Video/RL Course by David Silver - Lecture 2_ Markov Decision Process.mp4) [local-slide](http://localhost:8888/notebooks/Dropbox/Paper/Reinforcement Learning by David Silver 2.pdf) [slide](http://www0.cs.ucl.ac.uk/staff/d.silver/web/Teaching_files/MDP.pdf)\n",
    "\n",
    "[3 Planning by Dynamic Programming](https://www.youtube.com/watch?v=Nd1-UUMVfz4&list=PL7-jPKtc4r78-wCZcQn5IqyuWhBZ8fOxT&index=3) [local-video](http://localhost:8888/notebooks/Dropbox/Video/RL Course by David Silver - Lecture 3_ Planning by Dynamic Programming.mp4) [local-slide](http://localhost:8888/notebooks/Dropbox/Paper/Reinforcement Learning by David Silver 3.pdf) [slide](http://www0.cs.ucl.ac.uk/staff/d.silver/web/Teaching_files/DP.pdf)\n",
    "\n",
    "[4 Model-Free Prediction](https://www.youtube.com/watch?v=PnHCvfgC_ZA&list=PL7-jPKtc4r78-wCZcQn5IqyuWhBZ8fOxT&index=4) [local-video](http://localhost:8888/notebooks/Dropbox/Video/RL Course by David Silver - Lecture 4_ Model-Free Prediction.mp4) [local-slide](http://localhost:8888/notebooks/Dropbox/Paper/Reinforcement Learning by David Silver 4.pdf) [slide](http://www0.cs.ucl.ac.uk/staff/d.silver/web/Teaching_files/MC-TD.pdf)\n",
    "\n",
    "[5 Model Free Control](https://www.youtube.com/watch?v=0g4j2k_Ggc4&index=5&list=PL7-jPKtc4r78-wCZcQn5IqyuWhBZ8fOxT) [local-slide](http://localhost:8888/notebooks/Dropbox/Paper/Reinforcement Learning by David Silver 5.pdf) [slide](http://www0.cs.ucl.ac.uk/staff/d.silver/web/Teaching_files/control.pdf)\n",
    "\n",
    "[6 Value Function Approximation](https://www.youtube.com/watch?v=UoPei5o4fps&index=6&list=PL7-jPKtc4r78-wCZcQn5IqyuWhBZ8fOxT) [local-slide](http://localhost:8888/notebooks/Dropbox/Paper/Reinforcement Learning by David Silver 6.pdf) [slide](http://www0.cs.ucl.ac.uk/staff/d.silver/web/Teaching_files/FA.pdf)\n",
    "\n",
    "[7 Policy Gradient Methods](https://www.youtube.com/watch?v=KHZVXao4qXs&index=7&list=PL7-jPKtc4r78-wCZcQn5IqyuWhBZ8fOxT) \n",
    "[local-slide](http://localhost:8888/notebooks/Dropbox/Paper/Reinforcement Learning by David Silver 7.pdf) \n",
    "[slide](http://www0.cs.ucl.ac.uk/staff/d.silver/web/Teaching_files/pg.pdf)\n",
    "[Natural Actor-Critic](https://homes.cs.washington.edu/~todorov/courses/amath579/reading/NaturalActorCritic.pdf)\n",
    "[local-slide](http://localhost:8888/notebooks/Dropbox/Paper/NaturalActorCritic.pdf)\n",
    "\n",
    "[8 Integrating Learning and Planning](https://www.youtube.com/watch?v=ItMutbeOHtc&list=PL7-jPKtc4r78-wCZcQn5IqyuWhBZ8fOxT&index=8) [local-slide](http://localhost:8888/notebooks/Dropbox/Paper/Reinforcement Learning by David Silver 8.pdf) [slide](http://www0.cs.ucl.ac.uk/staff/d.silver/web/Teaching_files/dyna.pdf)\n",
    "\n",
    "[9 Exploration and Exploitation](https://www.youtube.com/watch?v=sGuiWX07sKw&index=9&list=PL7-jPKtc4r78-wCZcQn5IqyuWhBZ8fOxT) [local-slide](http://localhost:8888/notebooks/Dropbox/Paper/Reinforcement Learning by David Silver 9.pdf) [slide](http://www0.cs.ucl.ac.uk/staff/d.silver/web/Teaching_files/XX.pdf)\n",
    "\n",
    "[10 Classic Games](https://www.youtube.com/watch?v=kZ_AUmFcZtk&list=PL7-jPKtc4r78-wCZcQn5IqyuWhBZ8fOxT&index=10) [local-slide](http://localhost:8888/notebooks/Dropbox/Paper/Reinforcement Learning by David Silver 10.pdf) [slide](http://www0.cs.ucl.ac.uk/staff/d.silver/web/Teaching_files/games.pdf)\n",
    "\n",
    "\n",
    "\n",
    "               \n",
    "\n"
   ]
  },
  {
   "cell_type": "code",
   "execution_count": null,
   "metadata": {
    "collapsed": true
   },
   "outputs": [],
   "source": []
  }
 ],
 "metadata": {
  "kernelspec": {
   "display_name": "Python 3",
   "language": "python",
   "name": "python3"
  },
  "language_info": {
   "codemirror_mode": {
    "name": "ipython",
    "version": 3
   },
   "file_extension": ".py",
   "mimetype": "text/x-python",
   "name": "python",
   "nbconvert_exporter": "python",
   "pygments_lexer": "ipython3",
   "version": "3.6.0"
  }
 },
 "nbformat": 4,
 "nbformat_minor": 2
}
